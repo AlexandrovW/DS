{
 "cells": [
  {
   "cell_type": "markdown",
   "metadata": {
    "id": "zJzYwsyQQSzu",
    "toc": true
   },
   "source": [
    "<h1>Table of Contents<span class=\"tocSkip\"></span></h1>\n",
    "<div class=\"toc\"><ul class=\"toc-item\"><li><span><a href=\"#Задание\" data-toc-modified-id=\"Задание-1\"><span class=\"toc-item-num\">1&nbsp;&nbsp;</span>Задание</a></span></li><li><span><a href=\"#Задание-*\" data-toc-modified-id=\"Задание-*-2\"><span class=\"toc-item-num\">2&nbsp;&nbsp;</span>Задание *</a></span><ul class=\"toc-item\"><li><span><a href=\"#Список-объектов\" data-toc-modified-id=\"Список-объектов-2.1\"><span class=\"toc-item-num\">2.1&nbsp;&nbsp;</span>Список объектов</a></span></li></ul></li><li><span><a href=\"#Данные-по-определенному-объекту\" data-toc-modified-id=\"Данные-по-определенному-объекту-3\"><span class=\"toc-item-num\">3&nbsp;&nbsp;</span>Данные по определенному объекту</a></span></li></ul></div>"
   ]
  },
  {
   "cell_type": "markdown",
   "metadata": {
    "id": "crWj8j63QSz4",
    "pycharm": {
     "name": "#%% md\n"
    }
   },
   "source": [
    "# Задание\n",
    "* Собрать информацию о всех строящихся объектах на сайте \"наш.дом.рф\"\n",
    "* Cохранить ее в pandas dataframe\n",
    "* Cохранить pandas dataframe в excel\n",
    "* Cохранить pandas dataframe в pickle\n",
    "* Cохранить pandas dataframe в БД\n",
    "\n",
    "# Задание *\n",
    "* Написать скрипт, который скачивает фотографии всех строящихся объектов с сайта \"наш.дом.рф\"\n"
   ]
  },
  {
   "cell_type": "code",
   "execution_count": 1,
   "metadata": {
    "id": "WTk4eMHnQSz6",
    "pycharm": {
     "name": "#%%\n"
    }
   },
   "outputs": [
    {
     "name": "stderr",
     "output_type": "stream",
     "text": [
      "D:\\anaconda\\lib\\site-packages\\requests\\__init__.py:91: RequestsDependencyWarning: urllib3 (1.26.9) or chardet (3.0.4) doesn't match a supported version!\n",
      "  RequestsDependencyWarning)\n"
     ]
    }
   ],
   "source": [
    "import requests\n",
    "import pandas as pd\n",
    "from tqdm.auto import tqdm\n",
    "import time\n",
    "import sqlite3\n",
    "import plotly.express as px\n"
   ]
  },
  {
   "cell_type": "markdown",
   "metadata": {
    "id": "VHKeHR0eQSz-",
    "pycharm": {
     "name": "#%% md\n"
    }
   },
   "source": [
    "## Список объектов"
   ]
  },
  {
   "cell_type": "code",
   "execution_count": null,
   "metadata": {
    "id": "TFrzfNRlQSz_",
    "pycharm": {
     "name": "#%%\n"
    }
   },
   "outputs": [],
   "source": [
    "#запрос не падает с лимитом 5000, в count считаю кол-во сдвигов offset\n",
    "limit_ = 5000\n",
    "url = 'https://xn--80az8a.xn--d1aqf.xn--p1ai/%D1%81%D0%B5%D1%80%D0%B2%D0%B8%D1%81%D1%8B/api/kn/object?offset?limit?&sortField=devId.devShortCleanNm&sortType=asc&objStatus=0'\n",
    "res = requests.get(url)\n",
    "objects_data = res.json()\n",
    "total_obj = objects_data.get('data').get('total')\n",
    "count = objects_data.get('data').get('total')//5000\n",
    "print(\"Кол-во объектов:\", total_obj)"
   ]
  },
  {
   "cell_type": "code",
   "execution_count": null,
   "metadata": {
    "id": "uCcRXNXYQS0A",
    "pycharm": {
     "name": "#%%\n"
    }
   },
   "outputs": [],
   "source": [
    "# Собираю все ID объектов по 5000 и сдвигая offset на 5000\n",
    "url_ = 'https://xn--80az8a.xn--d1aqf.xn--p1ai/%D1%81%D0%B5%D1%80%D0%B2%D0%B8%D1%81%D1%8B/api/kn/object?offset={}&limit={}&sortField=devId.devShortCleanNm&sortType=asc&objStatus=0'\n",
    "\n",
    "objId = []\n",
    "for i in range(0,count+1):\n",
    "    res_ = requests.get(url_.format(limit_*i,limit_))\n",
    "    res_objId = res_.json()\n",
    "    for el in res_objId.get('data').get('list'):\n",
    "        objId.append(el.get('objId'))"
   ]
  },
  {
   "cell_type": "markdown",
   "metadata": {
    "id": "w9QQNlj_QS0C",
    "pycharm": {
     "name": "#%% md\n"
    }
   },
   "source": [
    "# Данные по определенному объекту"
   ]
  },
  {
   "cell_type": "code",
   "execution_count": null,
   "metadata": {
    "colab": {
     "referenced_widgets": [
      "473cb3e5348b48408ae2ab0a55f19eb3"
     ]
    },
    "id": "fJivRhDfQS0D",
    "outputId": "99d755fc-551f-4a1d-d625-e55666179bed",
    "pycharm": {
     "name": "#%%\n"
    }
   },
   "outputs": [
    {
     "data": {
      "application/vnd.jupyter.widget-view+json": {
       "model_id": "473cb3e5348b48408ae2ab0a55f19eb3",
       "version_major": 2,
       "version_minor": 0
      },
      "text/plain": [
       "HBox(children=(FloatProgress(value=0.0, max=10079.0), HTML(value='')))"
      ]
     },
     "metadata": {},
     "output_type": "display_data"
    },
    {
     "name": "stdout",
     "output_type": "stream",
     "text": [
      "\n"
     ]
    }
   ],
   "source": [
    "# По каждому ID объекта собираю полное инфо объекта\n",
    "\n",
    "url_obj = 'https://xn--80az8a.xn--d1aqf.xn--p1ai/%D1%81%D0%B5%D1%80%D0%B2%D0%B8%D1%81%D1%8B/api/object/{}'\n",
    "objects_data = {'OBJ':[] }\n",
    "for i in tqdm(objId):\n",
    "    res = requests.get(url_obj.format(i))\n",
    "    objects_list = res.json()\n",
    "    objects_data['OBJ'].append(objects_list['data'])\n"
   ]
  },
  {
   "cell_type": "code",
   "execution_count": null,
   "metadata": {
    "id": "V9YcsfOMQS0G",
    "outputId": "704f82ec-59b2-4dbe-9823-b08d9dc20dbc",
    "pycharm": {
     "name": "#%%\n"
    }
   },
   "outputs": [
    {
     "data": {
      "text/html": [
       "<div>\n",
       "<style scoped>\n",
       "    .dataframe tbody tr th:only-of-type {\n",
       "        vertical-align: middle;\n",
       "    }\n",
       "\n",
       "    .dataframe tbody tr th {\n",
       "        vertical-align: top;\n",
       "    }\n",
       "\n",
       "    .dataframe thead th {\n",
       "        text-align: right;\n",
       "    }\n",
       "</style>\n",
       "<table border=\"1\" class=\"dataframe\">\n",
       "  <thead>\n",
       "    <tr style=\"text-align: right;\">\n",
       "      <th></th>\n",
       "      <th>id</th>\n",
       "      <th>pdId</th>\n",
       "      <th>region</th>\n",
       "      <th>address</th>\n",
       "      <th>floorMin</th>\n",
       "      <th>floorMax</th>\n",
       "      <th>objElemLivingCnt</th>\n",
       "      <th>objReady100PercDt</th>\n",
       "      <th>wallMaterialShortDesc</th>\n",
       "      <th>objLkFinishTypeDesc</th>\n",
       "      <th>...</th>\n",
       "      <th>metro.time</th>\n",
       "      <th>metro.isWalk</th>\n",
       "      <th>metro.colors</th>\n",
       "      <th>greenAreaIndexValue</th>\n",
       "      <th>airQualityIndexValue</th>\n",
       "      <th>complexShortNm</th>\n",
       "      <th>developer.bankruptStage.bankruptStageCd</th>\n",
       "      <th>developer.bankruptStage.bankruptStageDesc</th>\n",
       "      <th>developer.bankruptStage.bankruptLawUrl</th>\n",
       "      <th>developer.orgBankruptMsgDttm</th>\n",
       "    </tr>\n",
       "  </thead>\n",
       "  <tbody>\n",
       "    <tr>\n",
       "      <th>0</th>\n",
       "      <td>13399</td>\n",
       "      <td>28141</td>\n",
       "      <td>72</td>\n",
       "      <td>г Тюмень, ул Профсоюзная, д. 56</td>\n",
       "      <td>1</td>\n",
       "      <td>1</td>\n",
       "      <td>0</td>\n",
       "      <td>2024-12-31</td>\n",
       "      <td>Другое</td>\n",
       "      <td>Без отделки</td>\n",
       "      <td>...</td>\n",
       "      <td>NaN</td>\n",
       "      <td>NaN</td>\n",
       "      <td>NaN</td>\n",
       "      <td>NaN</td>\n",
       "      <td>NaN</td>\n",
       "      <td>NaN</td>\n",
       "      <td>NaN</td>\n",
       "      <td>NaN</td>\n",
       "      <td>NaN</td>\n",
       "      <td>NaN</td>\n",
       "    </tr>\n",
       "    <tr>\n",
       "      <th>1</th>\n",
       "      <td>13398</td>\n",
       "      <td>28141</td>\n",
       "      <td>72</td>\n",
       "      <td>г Тюмень, ул Профсоюзная, д. 56</td>\n",
       "      <td>7</td>\n",
       "      <td>10</td>\n",
       "      <td>43</td>\n",
       "      <td>2024-12-31</td>\n",
       "      <td>Другое</td>\n",
       "      <td>Без отделки</td>\n",
       "      <td>...</td>\n",
       "      <td>NaN</td>\n",
       "      <td>NaN</td>\n",
       "      <td>NaN</td>\n",
       "      <td>NaN</td>\n",
       "      <td>NaN</td>\n",
       "      <td>NaN</td>\n",
       "      <td>NaN</td>\n",
       "      <td>NaN</td>\n",
       "      <td>NaN</td>\n",
       "      <td>NaN</td>\n",
       "    </tr>\n",
       "    <tr>\n",
       "      <th>2</th>\n",
       "      <td>13383</td>\n",
       "      <td>28105</td>\n",
       "      <td>72</td>\n",
       "      <td>г Тюмень</td>\n",
       "      <td>4</td>\n",
       "      <td>20</td>\n",
       "      <td>68</td>\n",
       "      <td>2022-06-30</td>\n",
       "      <td>Другое</td>\n",
       "      <td>По желанию заказчика</td>\n",
       "      <td>...</td>\n",
       "      <td>NaN</td>\n",
       "      <td>NaN</td>\n",
       "      <td>NaN</td>\n",
       "      <td>NaN</td>\n",
       "      <td>NaN</td>\n",
       "      <td>NaN</td>\n",
       "      <td>NaN</td>\n",
       "      <td>NaN</td>\n",
       "      <td>NaN</td>\n",
       "      <td>NaN</td>\n",
       "    </tr>\n",
       "    <tr>\n",
       "      <th>3</th>\n",
       "      <td>13397</td>\n",
       "      <td>28141</td>\n",
       "      <td>72</td>\n",
       "      <td>г Тюмень, ул Профсоюзная, д. 56</td>\n",
       "      <td>6</td>\n",
       "      <td>12</td>\n",
       "      <td>65</td>\n",
       "      <td>2024-12-31</td>\n",
       "      <td>Другое</td>\n",
       "      <td>Без отделки</td>\n",
       "      <td>...</td>\n",
       "      <td>NaN</td>\n",
       "      <td>NaN</td>\n",
       "      <td>NaN</td>\n",
       "      <td>NaN</td>\n",
       "      <td>NaN</td>\n",
       "      <td>NaN</td>\n",
       "      <td>NaN</td>\n",
       "      <td>NaN</td>\n",
       "      <td>NaN</td>\n",
       "      <td>NaN</td>\n",
       "    </tr>\n",
       "    <tr>\n",
       "      <th>4</th>\n",
       "      <td>13391</td>\n",
       "      <td>28101</td>\n",
       "      <td>72</td>\n",
       "      <td>г Тюмень, ул Профсоюзная</td>\n",
       "      <td>3</td>\n",
       "      <td>12</td>\n",
       "      <td>44</td>\n",
       "      <td>2022-06-30</td>\n",
       "      <td>Другое</td>\n",
       "      <td>По желанию заказчика</td>\n",
       "      <td>...</td>\n",
       "      <td>NaN</td>\n",
       "      <td>NaN</td>\n",
       "      <td>NaN</td>\n",
       "      <td>NaN</td>\n",
       "      <td>NaN</td>\n",
       "      <td>NaN</td>\n",
       "      <td>NaN</td>\n",
       "      <td>NaN</td>\n",
       "      <td>NaN</td>\n",
       "      <td>NaN</td>\n",
       "    </tr>\n",
       "    <tr>\n",
       "      <th>...</th>\n",
       "      <td>...</td>\n",
       "      <td>...</td>\n",
       "      <td>...</td>\n",
       "      <td>...</td>\n",
       "      <td>...</td>\n",
       "      <td>...</td>\n",
       "      <td>...</td>\n",
       "      <td>...</td>\n",
       "      <td>...</td>\n",
       "      <td>...</td>\n",
       "      <td>...</td>\n",
       "      <td>...</td>\n",
       "      <td>...</td>\n",
       "      <td>...</td>\n",
       "      <td>...</td>\n",
       "      <td>...</td>\n",
       "      <td>...</td>\n",
       "      <td>...</td>\n",
       "      <td>...</td>\n",
       "      <td>...</td>\n",
       "      <td>...</td>\n",
       "    </tr>\n",
       "    <tr>\n",
       "      <th>10074</th>\n",
       "      <td>28071</td>\n",
       "      <td>99284</td>\n",
       "      <td>50</td>\n",
       "      <td>г Котельники, район мкр.Ковровый, д.1-5, 24-29...</td>\n",
       "      <td>26</td>\n",
       "      <td>26</td>\n",
       "      <td>288</td>\n",
       "      <td>2024-06-30</td>\n",
       "      <td>Другое</td>\n",
       "      <td>Под ключ</td>\n",
       "      <td>...</td>\n",
       "      <td>20.716667</td>\n",
       "      <td>False</td>\n",
       "      <td>[#943E90]</td>\n",
       "      <td>NaN</td>\n",
       "      <td>8.0</td>\n",
       "      <td>NaN</td>\n",
       "      <td>NaN</td>\n",
       "      <td>NaN</td>\n",
       "      <td>NaN</td>\n",
       "      <td>NaN</td>\n",
       "    </tr>\n",
       "    <tr>\n",
       "      <th>10075</th>\n",
       "      <td>28073</td>\n",
       "      <td>96446</td>\n",
       "      <td>50</td>\n",
       "      <td>г Котельники, район мкр.Ковровый, д.1-5, 24-29...</td>\n",
       "      <td>26</td>\n",
       "      <td>26</td>\n",
       "      <td>312</td>\n",
       "      <td>2024-06-30</td>\n",
       "      <td>Другое</td>\n",
       "      <td>Под ключ</td>\n",
       "      <td>...</td>\n",
       "      <td>23.283333</td>\n",
       "      <td>True</td>\n",
       "      <td>[#943E90]</td>\n",
       "      <td>NaN</td>\n",
       "      <td>8.0</td>\n",
       "      <td>NaN</td>\n",
       "      <td>NaN</td>\n",
       "      <td>NaN</td>\n",
       "      <td>NaN</td>\n",
       "      <td>NaN</td>\n",
       "    </tr>\n",
       "    <tr>\n",
       "      <th>10076</th>\n",
       "      <td>44447</td>\n",
       "      <td>475093</td>\n",
       "      <td>76</td>\n",
       "      <td>г Ярославль, Фрунзенский район, территория в р...</td>\n",
       "      <td>6</td>\n",
       "      <td>6</td>\n",
       "      <td>127</td>\n",
       "      <td>2022-12-31</td>\n",
       "      <td>Кирпич</td>\n",
       "      <td>Другое</td>\n",
       "      <td>...</td>\n",
       "      <td>NaN</td>\n",
       "      <td>NaN</td>\n",
       "      <td>NaN</td>\n",
       "      <td>NaN</td>\n",
       "      <td>NaN</td>\n",
       "      <td>NaN</td>\n",
       "      <td>NaN</td>\n",
       "      <td>NaN</td>\n",
       "      <td>NaN</td>\n",
       "      <td>NaN</td>\n",
       "    </tr>\n",
       "    <tr>\n",
       "      <th>10077</th>\n",
       "      <td>28000</td>\n",
       "      <td>91796</td>\n",
       "      <td>62</td>\n",
       "      <td>г Рязань, переулок Парковый, д. 1</td>\n",
       "      <td>20</td>\n",
       "      <td>25</td>\n",
       "      <td>422</td>\n",
       "      <td>2022-06-30</td>\n",
       "      <td>Монолит-кирпич</td>\n",
       "      <td>Под чистовую</td>\n",
       "      <td>...</td>\n",
       "      <td>NaN</td>\n",
       "      <td>NaN</td>\n",
       "      <td>NaN</td>\n",
       "      <td>NaN</td>\n",
       "      <td>NaN</td>\n",
       "      <td>NaN</td>\n",
       "      <td>NaN</td>\n",
       "      <td>NaN</td>\n",
       "      <td>NaN</td>\n",
       "      <td>NaN</td>\n",
       "    </tr>\n",
       "    <tr>\n",
       "      <th>10078</th>\n",
       "      <td>37797</td>\n",
       "      <td>388962</td>\n",
       "      <td>59</td>\n",
       "      <td>г Пермь, улица Уинская, д. 2, литера Б</td>\n",
       "      <td>2</td>\n",
       "      <td>16</td>\n",
       "      <td>112</td>\n",
       "      <td>2023-03-31</td>\n",
       "      <td>Монолит-кирпич</td>\n",
       "      <td>По желанию заказчика</td>\n",
       "      <td>...</td>\n",
       "      <td>NaN</td>\n",
       "      <td>NaN</td>\n",
       "      <td>NaN</td>\n",
       "      <td>NaN</td>\n",
       "      <td>NaN</td>\n",
       "      <td>NaN</td>\n",
       "      <td>NaN</td>\n",
       "      <td>NaN</td>\n",
       "      <td>NaN</td>\n",
       "      <td>NaN</td>\n",
       "    </tr>\n",
       "  </tbody>\n",
       "</table>\n",
       "<p>10079 rows × 108 columns</p>\n",
       "</div>"
      ],
      "text/plain": [
       "          id    pdId  region  \\\n",
       "0      13399   28141      72   \n",
       "1      13398   28141      72   \n",
       "2      13383   28105      72   \n",
       "3      13397   28141      72   \n",
       "4      13391   28101      72   \n",
       "...      ...     ...     ...   \n",
       "10074  28071   99284      50   \n",
       "10075  28073   96446      50   \n",
       "10076  44447  475093      76   \n",
       "10077  28000   91796      62   \n",
       "10078  37797  388962      59   \n",
       "\n",
       "                                                 address  floorMin  floorMax  \\\n",
       "0                        г Тюмень, ул Профсоюзная, д. 56         1         1   \n",
       "1                        г Тюмень, ул Профсоюзная, д. 56         7        10   \n",
       "2                                               г Тюмень         4        20   \n",
       "3                        г Тюмень, ул Профсоюзная, д. 56         6        12   \n",
       "4                               г Тюмень, ул Профсоюзная         3        12   \n",
       "...                                                  ...       ...       ...   \n",
       "10074  г Котельники, район мкр.Ковровый, д.1-5, 24-29...        26        26   \n",
       "10075  г Котельники, район мкр.Ковровый, д.1-5, 24-29...        26        26   \n",
       "10076  г Ярославль, Фрунзенский район, территория в р...         6         6   \n",
       "10077                  г Рязань, переулок Парковый, д. 1        20        25   \n",
       "10078             г Пермь, улица Уинская, д. 2, литера Б         2        16   \n",
       "\n",
       "       objElemLivingCnt objReady100PercDt wallMaterialShortDesc  \\\n",
       "0                     0        2024-12-31                Другое   \n",
       "1                    43        2024-12-31                Другое   \n",
       "2                    68        2022-06-30                Другое   \n",
       "3                    65        2024-12-31                Другое   \n",
       "4                    44        2022-06-30                Другое   \n",
       "...                 ...               ...                   ...   \n",
       "10074               288        2024-06-30                Другое   \n",
       "10075               312        2024-06-30                Другое   \n",
       "10076               127        2022-12-31                Кирпич   \n",
       "10077               422        2022-06-30        Монолит-кирпич   \n",
       "10078               112        2023-03-31        Монолит-кирпич   \n",
       "\n",
       "        objLkFinishTypeDesc  ... metro.time  metro.isWalk  metro.colors  \\\n",
       "0               Без отделки  ...        NaN           NaN           NaN   \n",
       "1               Без отделки  ...        NaN           NaN           NaN   \n",
       "2      По желанию заказчика  ...        NaN           NaN           NaN   \n",
       "3               Без отделки  ...        NaN           NaN           NaN   \n",
       "4      По желанию заказчика  ...        NaN           NaN           NaN   \n",
       "...                     ...  ...        ...           ...           ...   \n",
       "10074              Под ключ  ...  20.716667         False     [#943E90]   \n",
       "10075              Под ключ  ...  23.283333          True     [#943E90]   \n",
       "10076                Другое  ...        NaN           NaN           NaN   \n",
       "10077          Под чистовую  ...        NaN           NaN           NaN   \n",
       "10078  По желанию заказчика  ...        NaN           NaN           NaN   \n",
       "\n",
       "      greenAreaIndexValue airQualityIndexValue complexShortNm  \\\n",
       "0                     NaN                  NaN            NaN   \n",
       "1                     NaN                  NaN            NaN   \n",
       "2                     NaN                  NaN            NaN   \n",
       "3                     NaN                  NaN            NaN   \n",
       "4                     NaN                  NaN            NaN   \n",
       "...                   ...                  ...            ...   \n",
       "10074                 NaN                  8.0            NaN   \n",
       "10075                 NaN                  8.0            NaN   \n",
       "10076                 NaN                  NaN            NaN   \n",
       "10077                 NaN                  NaN            NaN   \n",
       "10078                 NaN                  NaN            NaN   \n",
       "\n",
       "      developer.bankruptStage.bankruptStageCd  \\\n",
       "0                                         NaN   \n",
       "1                                         NaN   \n",
       "2                                         NaN   \n",
       "3                                         NaN   \n",
       "4                                         NaN   \n",
       "...                                       ...   \n",
       "10074                                     NaN   \n",
       "10075                                     NaN   \n",
       "10076                                     NaN   \n",
       "10077                                     NaN   \n",
       "10078                                     NaN   \n",
       "\n",
       "      developer.bankruptStage.bankruptStageDesc  \\\n",
       "0                                           NaN   \n",
       "1                                           NaN   \n",
       "2                                           NaN   \n",
       "3                                           NaN   \n",
       "4                                           NaN   \n",
       "...                                         ...   \n",
       "10074                                       NaN   \n",
       "10075                                       NaN   \n",
       "10076                                       NaN   \n",
       "10077                                       NaN   \n",
       "10078                                       NaN   \n",
       "\n",
       "       developer.bankruptStage.bankruptLawUrl  developer.orgBankruptMsgDttm  \n",
       "0                                         NaN                           NaN  \n",
       "1                                         NaN                           NaN  \n",
       "2                                         NaN                           NaN  \n",
       "3                                         NaN                           NaN  \n",
       "4                                         NaN                           NaN  \n",
       "...                                       ...                           ...  \n",
       "10074                                     NaN                           NaN  \n",
       "10075                                     NaN                           NaN  \n",
       "10076                                     NaN                           NaN  \n",
       "10077                                     NaN                           NaN  \n",
       "10078                                     NaN                           NaN  \n",
       "\n",
       "[10079 rows x 108 columns]"
      ]
     },
     "execution_count": 236,
     "metadata": {},
     "output_type": "execute_result"
    }
   ],
   "source": [
    "df = pd.json_normalize(objects_data.get('OBJ'))\n",
    "df"
   ]
  },
  {
   "cell_type": "code",
   "execution_count": null,
   "metadata": {
    "id": "BmykSBNbQS0H",
    "pycharm": {
     "name": "#%%\n"
    }
   },
   "outputs": [],
   "source": [
    "df.to_csv('domrf.csv', index= False)"
   ]
  },
  {
   "cell_type": "code",
   "execution_count": null,
   "metadata": {
    "id": "vY-5teUUQS0I",
    "pycharm": {
     "name": "#%%\n"
    }
   },
   "outputs": [],
   "source": [
    "df.to_excel('domrf.xlsx', index=False)"
   ]
  },
  {
   "cell_type": "code",
   "execution_count": null,
   "metadata": {
    "id": "8XbowVwWQS0J"
   },
   "outputs": [],
   "source": [
    "df.to_pickle(\"domrf.pkl\")"
   ]
  },
  {
   "cell_type": "code",
   "execution_count": null,
   "metadata": {
    "id": "AZ8Jo9JsQS0J"
   },
   "outputs": [],
   "source": [
    "conn = sqlite3.connect('test_database')\n",
    "df.to_sql('domrf', conn, if_exists='replace', index = False)\n",
    "conn.commit()\n",
    "conn.close()"
   ]
  },
  {
   "cell_type": "code",
   "execution_count": null,
   "metadata": {
    "id": "Bre-aflIQS0K",
    "outputId": "e08811c3-486d-43d6-a167-72a400fc30c9"
   },
   "outputs": [
    {
     "data": {
      "text/html": [
       "<div>\n",
       "<style scoped>\n",
       "    .dataframe tbody tr th:only-of-type {\n",
       "        vertical-align: middle;\n",
       "    }\n",
       "\n",
       "    .dataframe tbody tr th {\n",
       "        vertical-align: top;\n",
       "    }\n",
       "\n",
       "    .dataframe thead th {\n",
       "        text-align: right;\n",
       "    }\n",
       "</style>\n",
       "<table border=\"1\" class=\"dataframe\">\n",
       "  <thead>\n",
       "    <tr style=\"text-align: right;\">\n",
       "      <th></th>\n",
       "      <th>id</th>\n",
       "      <th>pdId</th>\n",
       "      <th>region</th>\n",
       "      <th>address</th>\n",
       "      <th>floorMin</th>\n",
       "      <th>floorMax</th>\n",
       "      <th>objElemLivingCnt</th>\n",
       "      <th>objReady100PercDt</th>\n",
       "      <th>wallMaterialShortDesc</th>\n",
       "      <th>objLkFinishTypeDesc</th>\n",
       "      <th>...</th>\n",
       "      <th>metro.time</th>\n",
       "      <th>metro.isWalk</th>\n",
       "      <th>metro.colors</th>\n",
       "      <th>greenAreaIndexValue</th>\n",
       "      <th>airQualityIndexValue</th>\n",
       "      <th>complexShortNm</th>\n",
       "      <th>developer.bankruptStage.bankruptStageCd</th>\n",
       "      <th>developer.bankruptStage.bankruptStageDesc</th>\n",
       "      <th>developer.bankruptStage.bankruptLawUrl</th>\n",
       "      <th>developer.orgBankruptMsgDttm</th>\n",
       "    </tr>\n",
       "  </thead>\n",
       "  <tbody>\n",
       "    <tr>\n",
       "      <th>0</th>\n",
       "      <td>18136</td>\n",
       "      <td>43084</td>\n",
       "      <td>63</td>\n",
       "      <td>г Самара, улица Советской Армии, д. 0, корпус ...</td>\n",
       "      <td>27</td>\n",
       "      <td>27</td>\n",
       "      <td>360</td>\n",
       "      <td>2022-12-31</td>\n",
       "      <td>Монолит-кирпич</td>\n",
       "      <td>Без отделки</td>\n",
       "      <td>...</td>\n",
       "      <td>11.683333</td>\n",
       "      <td>1.0</td>\n",
       "      <td>['#CD0505']</td>\n",
       "      <td>None</td>\n",
       "      <td>None</td>\n",
       "      <td>None</td>\n",
       "      <td>None</td>\n",
       "      <td>None</td>\n",
       "      <td>None</td>\n",
       "      <td>None</td>\n",
       "    </tr>\n",
       "    <tr>\n",
       "      <th>1</th>\n",
       "      <td>18135</td>\n",
       "      <td>42847</td>\n",
       "      <td>63</td>\n",
       "      <td>г Самара, район Кировский, пр-кт Кирова, д. 399б</td>\n",
       "      <td>25</td>\n",
       "      <td>25</td>\n",
       "      <td>414</td>\n",
       "      <td>2022-06-30</td>\n",
       "      <td>Монолит-кирпич</td>\n",
       "      <td>Без отделки</td>\n",
       "      <td>...</td>\n",
       "      <td>NaN</td>\n",
       "      <td>NaN</td>\n",
       "      <td>None</td>\n",
       "      <td>None</td>\n",
       "      <td>None</td>\n",
       "      <td>Орбита</td>\n",
       "      <td>None</td>\n",
       "      <td>None</td>\n",
       "      <td>None</td>\n",
       "      <td>None</td>\n",
       "    </tr>\n",
       "    <tr>\n",
       "      <th>2</th>\n",
       "      <td>4024</td>\n",
       "      <td>2200</td>\n",
       "      <td>63</td>\n",
       "      <td>г Самара, район Октябрьский, просека Пятая</td>\n",
       "      <td>5</td>\n",
       "      <td>5</td>\n",
       "      <td>16</td>\n",
       "      <td>2022-12-31</td>\n",
       "      <td>Кирпич</td>\n",
       "      <td>Без отделки</td>\n",
       "      <td>...</td>\n",
       "      <td>NaN</td>\n",
       "      <td>NaN</td>\n",
       "      <td>None</td>\n",
       "      <td>None</td>\n",
       "      <td>None</td>\n",
       "      <td>Акварель</td>\n",
       "      <td>None</td>\n",
       "      <td>None</td>\n",
       "      <td>None</td>\n",
       "      <td>None</td>\n",
       "    </tr>\n",
       "    <tr>\n",
       "      <th>3</th>\n",
       "      <td>4025</td>\n",
       "      <td>2200</td>\n",
       "      <td>63</td>\n",
       "      <td>г Самара, район Октябрьский, просека Пятая</td>\n",
       "      <td>5</td>\n",
       "      <td>5</td>\n",
       "      <td>64</td>\n",
       "      <td>2022-12-31</td>\n",
       "      <td>Кирпич</td>\n",
       "      <td>Без отделки</td>\n",
       "      <td>...</td>\n",
       "      <td>NaN</td>\n",
       "      <td>NaN</td>\n",
       "      <td>None</td>\n",
       "      <td>None</td>\n",
       "      <td>None</td>\n",
       "      <td>Акварель</td>\n",
       "      <td>None</td>\n",
       "      <td>None</td>\n",
       "      <td>None</td>\n",
       "      <td>None</td>\n",
       "    </tr>\n",
       "    <tr>\n",
       "      <th>4</th>\n",
       "      <td>4023</td>\n",
       "      <td>2200</td>\n",
       "      <td>63</td>\n",
       "      <td>г Самара, район Октябрьский, просека Пятая</td>\n",
       "      <td>5</td>\n",
       "      <td>5</td>\n",
       "      <td>48</td>\n",
       "      <td>2022-12-31</td>\n",
       "      <td>Кирпич</td>\n",
       "      <td>Без отделки</td>\n",
       "      <td>...</td>\n",
       "      <td>NaN</td>\n",
       "      <td>NaN</td>\n",
       "      <td>None</td>\n",
       "      <td>None</td>\n",
       "      <td>None</td>\n",
       "      <td>Акварель</td>\n",
       "      <td>None</td>\n",
       "      <td>None</td>\n",
       "      <td>None</td>\n",
       "      <td>None</td>\n",
       "    </tr>\n",
       "  </tbody>\n",
       "</table>\n",
       "<p>5 rows × 108 columns</p>\n",
       "</div>"
      ],
      "text/plain": [
       "      id   pdId  region                                            address  \\\n",
       "0  18136  43084      63  г Самара, улица Советской Армии, д. 0, корпус ...   \n",
       "1  18135  42847      63   г Самара, район Кировский, пр-кт Кирова, д. 399б   \n",
       "2   4024   2200      63         г Самара, район Октябрьский, просека Пятая   \n",
       "3   4025   2200      63         г Самара, район Октябрьский, просека Пятая   \n",
       "4   4023   2200      63         г Самара, район Октябрьский, просека Пятая   \n",
       "\n",
       "   floorMin  floorMax  objElemLivingCnt objReady100PercDt  \\\n",
       "0        27        27               360        2022-12-31   \n",
       "1        25        25               414        2022-06-30   \n",
       "2         5         5                16        2022-12-31   \n",
       "3         5         5                64        2022-12-31   \n",
       "4         5         5                48        2022-12-31   \n",
       "\n",
       "  wallMaterialShortDesc objLkFinishTypeDesc  ... metro.time  metro.isWalk  \\\n",
       "0        Монолит-кирпич         Без отделки  ...  11.683333           1.0   \n",
       "1        Монолит-кирпич         Без отделки  ...        NaN           NaN   \n",
       "2                Кирпич         Без отделки  ...        NaN           NaN   \n",
       "3                Кирпич         Без отделки  ...        NaN           NaN   \n",
       "4                Кирпич         Без отделки  ...        NaN           NaN   \n",
       "\n",
       "   metro.colors greenAreaIndexValue airQualityIndexValue complexShortNm  \\\n",
       "0   ['#CD0505']                None                 None           None   \n",
       "1          None                None                 None         Орбита   \n",
       "2          None                None                 None       Акварель   \n",
       "3          None                None                 None       Акварель   \n",
       "4          None                None                 None       Акварель   \n",
       "\n",
       "   developer.bankruptStage.bankruptStageCd  \\\n",
       "0                                     None   \n",
       "1                                     None   \n",
       "2                                     None   \n",
       "3                                     None   \n",
       "4                                     None   \n",
       "\n",
       "   developer.bankruptStage.bankruptStageDesc  \\\n",
       "0                                       None   \n",
       "1                                       None   \n",
       "2                                       None   \n",
       "3                                       None   \n",
       "4                                       None   \n",
       "\n",
       "   developer.bankruptStage.bankruptLawUrl  developer.orgBankruptMsgDttm  \n",
       "0                                    None                          None  \n",
       "1                                    None                          None  \n",
       "2                                    None                          None  \n",
       "3                                    None                          None  \n",
       "4                                    None                          None  \n",
       "\n",
       "[5 rows x 108 columns]"
      ]
     },
     "execution_count": 19,
     "metadata": {},
     "output_type": "execute_result"
    }
   ],
   "source": [
    "conn = sqlite3.connect('test_database')\n",
    "\n",
    "pd.read_sql('''\n",
    "    SELECT *\n",
    "    FROM domrf\n",
    "    where region = 63\n",
    "    LIMIT 5\n",
    "''', conn)"
   ]
  },
  {
   "cell_type": "code",
   "execution_count": 2,
   "metadata": {
    "id": "7mezaMgLQS0L"
   },
   "outputs": [],
   "source": [
    "df_dom = pd.read_excel('domrf.xlsx')"
   ]
  },
  {
   "cell_type": "code",
   "execution_count": 3,
   "metadata": {},
   "outputs": [
    {
     "data": {
      "text/plain": [
       "(10079, 108)"
      ]
     },
     "execution_count": 3,
     "metadata": {},
     "output_type": "execute_result"
    }
   ],
   "source": [
    "df_dom.shape"
   ]
  },
  {
   "cell_type": "code",
   "execution_count": 3,
   "metadata": {
    "colab": {
     "base_uri": "https://localhost:8080/"
    },
    "id": "Ddd2HYh2QS0M",
    "outputId": "32b73796-fa0f-487a-909c-08a5edde8a81"
   },
   "outputs": [
    {
     "data": {
      "text/plain": [
       "id                                              0\n",
       "pdId                                            0\n",
       "region                                          0\n",
       "address                                        26\n",
       "floorMin                                        0\n",
       "                                             ... \n",
       "complexShortNm                               9153\n",
       "developer.bankruptStage.bankruptStageCd      9997\n",
       "developer.bankruptStage.bankruptStageDesc    9997\n",
       "developer.bankruptStage.bankruptLawUrl       9997\n",
       "developer.orgBankruptMsgDttm                 9997\n",
       "Length: 108, dtype: int64"
      ]
     },
     "execution_count": 3,
     "metadata": {},
     "output_type": "execute_result"
    }
   ],
   "source": [
    "#Проверил сколько пропусков и оставил сттобцы где меньше 60% пропусков\n",
    "df_dom.isnull().sum()"
   ]
  },
  {
   "cell_type": "code",
   "execution_count": 4,
   "metadata": {
    "id": "NqMMr9wwQS0N"
   },
   "outputs": [],
   "source": [
    "df_dom = df_dom.loc[:, df_dom.isnull().mean() < .6]"
   ]
  },
  {
   "cell_type": "code",
   "execution_count": 39,
   "metadata": {
    "id": "ReipsdPiQS0N"
   },
   "outputs": [],
   "source": [
    "pd.set_option('display.max_rows', 500)\n",
    "pd.set_option('display.max_columns', 500)\n",
    "pd.set_option('display.width', 1000)"
   ]
  },
  {
   "cell_type": "code",
   "execution_count": 6,
   "metadata": {
    "colab": {
     "base_uri": "https://localhost:8080/",
     "height": 1000
    },
    "id": "W-DnJpWnQS0O",
    "outputId": "aedce54c-d24f-45d2-a89d-3ad8f2a8a03a"
   },
   "outputs": [
    {
     "data": {
      "text/html": [
       "<div>\n",
       "<style scoped>\n",
       "    .dataframe tbody tr th:only-of-type {\n",
       "        vertical-align: middle;\n",
       "    }\n",
       "\n",
       "    .dataframe tbody tr th {\n",
       "        vertical-align: top;\n",
       "    }\n",
       "\n",
       "    .dataframe thead th {\n",
       "        text-align: right;\n",
       "    }\n",
       "</style>\n",
       "<table border=\"1\" class=\"dataframe\">\n",
       "  <thead>\n",
       "    <tr style=\"text-align: right;\">\n",
       "      <th></th>\n",
       "      <th>0</th>\n",
       "    </tr>\n",
       "  </thead>\n",
       "  <tbody>\n",
       "    <tr>\n",
       "      <th>id</th>\n",
       "      <td>13399</td>\n",
       "    </tr>\n",
       "    <tr>\n",
       "      <th>pdId</th>\n",
       "      <td>28141</td>\n",
       "    </tr>\n",
       "    <tr>\n",
       "      <th>region</th>\n",
       "      <td>72</td>\n",
       "    </tr>\n",
       "    <tr>\n",
       "      <th>address</th>\n",
       "      <td>г Тюмень, ул Профсоюзная, д. 56</td>\n",
       "    </tr>\n",
       "    <tr>\n",
       "      <th>floorMin</th>\n",
       "      <td>1</td>\n",
       "    </tr>\n",
       "    <tr>\n",
       "      <th>floorMax</th>\n",
       "      <td>1</td>\n",
       "    </tr>\n",
       "    <tr>\n",
       "      <th>objElemLivingCnt</th>\n",
       "      <td>0</td>\n",
       "    </tr>\n",
       "    <tr>\n",
       "      <th>objReady100PercDt</th>\n",
       "      <td>2024-12-31</td>\n",
       "    </tr>\n",
       "    <tr>\n",
       "      <th>wallMaterialShortDesc</th>\n",
       "      <td>Другое</td>\n",
       "    </tr>\n",
       "    <tr>\n",
       "      <th>objLkFinishTypeDesc</th>\n",
       "      <td>Без отделки</td>\n",
       "    </tr>\n",
       "    <tr>\n",
       "      <th>objLkFreePlanDesc</th>\n",
       "      <td>Нет</td>\n",
       "    </tr>\n",
       "    <tr>\n",
       "      <th>objElemParkingCnt</th>\n",
       "      <td>125</td>\n",
       "    </tr>\n",
       "    <tr>\n",
       "      <th>objSquareLiving</th>\n",
       "      <td>0.0</td>\n",
       "    </tr>\n",
       "    <tr>\n",
       "      <th>rpdNum</th>\n",
       "      <td>72-000097</td>\n",
       "    </tr>\n",
       "    <tr>\n",
       "      <th>rpdPdfLink</th>\n",
       "      <td>https://xn--80az8a.xn--d1aqf.xn--p1ai/api/ext/...</td>\n",
       "    </tr>\n",
       "    <tr>\n",
       "      <th>rpdIssueDttm</th>\n",
       "      <td>08-04-2022 12:35</td>\n",
       "    </tr>\n",
       "    <tr>\n",
       "      <th>objLkLatitude</th>\n",
       "      <td>57.1519</td>\n",
       "    </tr>\n",
       "    <tr>\n",
       "      <th>objLkLongitude</th>\n",
       "      <td>65.5544</td>\n",
       "    </tr>\n",
       "    <tr>\n",
       "      <th>objCompensFundFlg</th>\n",
       "      <td>0</td>\n",
       "    </tr>\n",
       "    <tr>\n",
       "      <th>objProblemFlg</th>\n",
       "      <td>0</td>\n",
       "    </tr>\n",
       "    <tr>\n",
       "      <th>objLkClassDesc</th>\n",
       "      <td>Элитный</td>\n",
       "    </tr>\n",
       "    <tr>\n",
       "      <th>loadDttm</th>\n",
       "      <td>29-04-2022 01:12</td>\n",
       "    </tr>\n",
       "    <tr>\n",
       "      <th>photoRenderDTO</th>\n",
       "      <td>[{'objId': 13399, 'pdId': 28141, 'rpdId': 5759...</td>\n",
       "    </tr>\n",
       "    <tr>\n",
       "      <th>objGuarantyEscrowFlg</th>\n",
       "      <td>0</td>\n",
       "    </tr>\n",
       "    <tr>\n",
       "      <th>objectType</th>\n",
       "      <td>normal</td>\n",
       "    </tr>\n",
       "    <tr>\n",
       "      <th>miniUrl</th>\n",
       "      <td>https://xn--80az8a.xn--d1aqf.xn--p1ai/api/ext/...</td>\n",
       "    </tr>\n",
       "    <tr>\n",
       "      <th>residentialBuildings</th>\n",
       "      <td>0</td>\n",
       "    </tr>\n",
       "    <tr>\n",
       "      <th>newBuildingId</th>\n",
       "      <td>34754</td>\n",
       "    </tr>\n",
       "    <tr>\n",
       "      <th>objFloorCnt</th>\n",
       "      <td>1</td>\n",
       "    </tr>\n",
       "    <tr>\n",
       "      <th>objFlatCnt</th>\n",
       "      <td>0</td>\n",
       "    </tr>\n",
       "    <tr>\n",
       "      <th>objFlatSq</th>\n",
       "      <td>0.0</td>\n",
       "    </tr>\n",
       "    <tr>\n",
       "      <th>objNonlivElemCnt</th>\n",
       "      <td>0</td>\n",
       "    </tr>\n",
       "    <tr>\n",
       "      <th>objStatus</th>\n",
       "      <td>0</td>\n",
       "    </tr>\n",
       "    <tr>\n",
       "      <th>isAvailableWantLiveHere</th>\n",
       "      <td>True</td>\n",
       "    </tr>\n",
       "    <tr>\n",
       "      <th>objTransferPlanDt</th>\n",
       "      <td>28-02-2025 12:00</td>\n",
       "    </tr>\n",
       "    <tr>\n",
       "      <th>objInfrstrBicycleLaneFlg</th>\n",
       "      <td>0</td>\n",
       "    </tr>\n",
       "    <tr>\n",
       "      <th>objInfrstrPlaygrndCnt</th>\n",
       "      <td>0.0</td>\n",
       "    </tr>\n",
       "    <tr>\n",
       "      <th>objInfrstrSportGroundCnt</th>\n",
       "      <td>0.0</td>\n",
       "    </tr>\n",
       "    <tr>\n",
       "      <th>objInfrstrTrashAreaCnt</th>\n",
       "      <td>1.0</td>\n",
       "    </tr>\n",
       "    <tr>\n",
       "      <th>objInfrstrObjPrkngCnt</th>\n",
       "      <td>0.0</td>\n",
       "    </tr>\n",
       "    <tr>\n",
       "      <th>objInfrstrNotObjPrkngCnt</th>\n",
       "      <td>0.0</td>\n",
       "    </tr>\n",
       "    <tr>\n",
       "      <th>objInfrstrRampFlg</th>\n",
       "      <td>1</td>\n",
       "    </tr>\n",
       "    <tr>\n",
       "      <th>objInfrstrCurbLoweringFlg</th>\n",
       "      <td>1</td>\n",
       "    </tr>\n",
       "    <tr>\n",
       "      <th>objElevatorWheelchairCnt</th>\n",
       "      <td>0.0</td>\n",
       "    </tr>\n",
       "    <tr>\n",
       "      <th>objElevatorPassengerCnt</th>\n",
       "      <td>8.0</td>\n",
       "    </tr>\n",
       "    <tr>\n",
       "      <th>objElevatorCargoCnt</th>\n",
       "      <td>7.0</td>\n",
       "    </tr>\n",
       "    <tr>\n",
       "      <th>soldOutPerc</th>\n",
       "      <td>0.917243</td>\n",
       "    </tr>\n",
       "    <tr>\n",
       "      <th>objPriceAvg</th>\n",
       "      <td>50768.0</td>\n",
       "    </tr>\n",
       "    <tr>\n",
       "      <th>generalContractorNm</th>\n",
       "      <td>ООО Транспромжилстрой-2005 (ИНН: 7204097730)</td>\n",
       "    </tr>\n",
       "    <tr>\n",
       "      <th>nonlivFirstFloor</th>\n",
       "      <td>1.0</td>\n",
       "    </tr>\n",
       "    <tr>\n",
       "      <th>objectTransportInfo</th>\n",
       "      <td>[]</td>\n",
       "    </tr>\n",
       "    <tr>\n",
       "      <th>conclusion</th>\n",
       "      <td>False</td>\n",
       "    </tr>\n",
       "    <tr>\n",
       "      <th>objLkSaleDepEmail</th>\n",
       "      <td>info@2mengroup.ru</td>\n",
       "    </tr>\n",
       "    <tr>\n",
       "      <th>objGreenHouseFlg</th>\n",
       "      <td>0</td>\n",
       "    </tr>\n",
       "    <tr>\n",
       "      <th>objEnergyEffShortDesc</th>\n",
       "      <td>B</td>\n",
       "    </tr>\n",
       "    <tr>\n",
       "      <th>infrastructureIndexValue</th>\n",
       "      <td>10.0</td>\n",
       "    </tr>\n",
       "    <tr>\n",
       "      <th>developer.devId</th>\n",
       "      <td>306</td>\n",
       "    </tr>\n",
       "    <tr>\n",
       "      <th>developer.devShortCleanNm</th>\n",
       "      <td>2МЕН ГРУПП</td>\n",
       "    </tr>\n",
       "    <tr>\n",
       "      <th>developer.devShortNm</th>\n",
       "      <td>2МЕН ГРУПП</td>\n",
       "    </tr>\n",
       "    <tr>\n",
       "      <th>developer.devFullCleanNm</th>\n",
       "      <td>2МЕН ГРУПП</td>\n",
       "    </tr>\n",
       "    <tr>\n",
       "      <th>developer.problObjCnt</th>\n",
       "      <td>0</td>\n",
       "    </tr>\n",
       "    <tr>\n",
       "      <th>developer.buildObjCnt</th>\n",
       "      <td>5</td>\n",
       "    </tr>\n",
       "    <tr>\n",
       "      <th>developer.comissObjCnt</th>\n",
       "      <td>0</td>\n",
       "    </tr>\n",
       "    <tr>\n",
       "      <th>developer.regRegionDesc</th>\n",
       "      <td>Тюменская область</td>\n",
       "    </tr>\n",
       "    <tr>\n",
       "      <th>developer.devPhoneNum</th>\n",
       "      <td>+7(345)279-18-88</td>\n",
       "    </tr>\n",
       "    <tr>\n",
       "      <th>developer.devSite</th>\n",
       "      <td>2mengroup.ru</td>\n",
       "    </tr>\n",
       "    <tr>\n",
       "      <th>developer.devEmail</th>\n",
       "      <td>info@2mengroup.ru</td>\n",
       "    </tr>\n",
       "    <tr>\n",
       "      <th>developer.devInn</th>\n",
       "      <td>7701651356</td>\n",
       "    </tr>\n",
       "    <tr>\n",
       "      <th>developer.devOgrn</th>\n",
       "      <td>1067746424899</td>\n",
       "    </tr>\n",
       "    <tr>\n",
       "      <th>developer.devKpp</th>\n",
       "      <td>720301001</td>\n",
       "    </tr>\n",
       "    <tr>\n",
       "      <th>developer.devLegalAddr</th>\n",
       "      <td>Тюменская область, город Тюмень, улица Комсомо...</td>\n",
       "    </tr>\n",
       "    <tr>\n",
       "      <th>developer.devFactAddr</th>\n",
       "      <td>Тюменская область, город Тюмень, улица Комсомо...</td>\n",
       "    </tr>\n",
       "    <tr>\n",
       "      <th>developer.lastRpdId</th>\n",
       "      <td>580590</td>\n",
       "    </tr>\n",
       "    <tr>\n",
       "      <th>developer.fundGuarantyFlg</th>\n",
       "      <td>1</td>\n",
       "    </tr>\n",
       "    <tr>\n",
       "      <th>developer.devOrgRegRegionCd</th>\n",
       "      <td>72.0</td>\n",
       "    </tr>\n",
       "    <tr>\n",
       "      <th>developer.devEmplMainFullNm</th>\n",
       "      <td>Киселев Сергей Михайлович</td>\n",
       "    </tr>\n",
       "    <tr>\n",
       "      <th>developer.developerGroupName</th>\n",
       "      <td>2МЕН ГРУПП ДЕВЕЛОПМЕНТ</td>\n",
       "    </tr>\n",
       "    <tr>\n",
       "      <th>developer.orgForm.id</th>\n",
       "      <td>1</td>\n",
       "    </tr>\n",
       "    <tr>\n",
       "      <th>developer.orgForm.fullForm</th>\n",
       "      <td>Акционерное общество</td>\n",
       "    </tr>\n",
       "    <tr>\n",
       "      <th>developer.orgForm.shortForm</th>\n",
       "      <td>АО</td>\n",
       "    </tr>\n",
       "    <tr>\n",
       "      <th>developer.companyGroupId</th>\n",
       "      <td>699421001.0</td>\n",
       "    </tr>\n",
       "    <tr>\n",
       "      <th>developer.objGuarantyEscrowFlg</th>\n",
       "      <td>0</td>\n",
       "    </tr>\n",
       "    <tr>\n",
       "      <th>developer.govFundFlg</th>\n",
       "      <td>0</td>\n",
       "    </tr>\n",
       "    <tr>\n",
       "      <th>objLivCeilingHeight</th>\n",
       "      <td>NaN</td>\n",
       "    </tr>\n",
       "    <tr>\n",
       "      <th>quartography.objLivElem1KCnt</th>\n",
       "      <td>NaN</td>\n",
       "    </tr>\n",
       "    <tr>\n",
       "      <th>quartography.objLivElem2KCnt</th>\n",
       "      <td>NaN</td>\n",
       "    </tr>\n",
       "    <tr>\n",
       "      <th>quartography.objLivElem3KCnt</th>\n",
       "      <td>NaN</td>\n",
       "    </tr>\n",
       "    <tr>\n",
       "      <th>quartography.objLivElem4KCnt</th>\n",
       "      <td>NaN</td>\n",
       "    </tr>\n",
       "    <tr>\n",
       "      <th>quartography.objLivElemCnt</th>\n",
       "      <td>NaN</td>\n",
       "    </tr>\n",
       "    <tr>\n",
       "      <th>quartography.objLivElemEntrCnt</th>\n",
       "      <td>NaN</td>\n",
       "    </tr>\n",
       "    <tr>\n",
       "      <th>quartography.objLivElemEntrFloorAvg</th>\n",
       "      <td>NaN</td>\n",
       "    </tr>\n",
       "    <tr>\n",
       "      <th>nameObj</th>\n",
       "      <td>NaN</td>\n",
       "    </tr>\n",
       "  </tbody>\n",
       "</table>\n",
       "</div>"
      ],
      "text/plain": [
       "                                                                                     0\n",
       "id                                                                               13399\n",
       "pdId                                                                             28141\n",
       "region                                                                              72\n",
       "address                                                г Тюмень, ул Профсоюзная, д. 56\n",
       "floorMin                                                                             1\n",
       "floorMax                                                                             1\n",
       "objElemLivingCnt                                                                     0\n",
       "objReady100PercDt                                                           2024-12-31\n",
       "wallMaterialShortDesc                                                           Другое\n",
       "objLkFinishTypeDesc                                                        Без отделки\n",
       "objLkFreePlanDesc                                                                  Нет\n",
       "objElemParkingCnt                                                                  125\n",
       "objSquareLiving                                                                    0.0\n",
       "rpdNum                                                                       72-000097\n",
       "rpdPdfLink                           https://xn--80az8a.xn--d1aqf.xn--p1ai/api/ext/...\n",
       "rpdIssueDttm                                                          08-04-2022 12:35\n",
       "objLkLatitude                                                                  57.1519\n",
       "objLkLongitude                                                                 65.5544\n",
       "objCompensFundFlg                                                                    0\n",
       "objProblemFlg                                                                        0\n",
       "objLkClassDesc                                                                 Элитный\n",
       "loadDttm                                                              29-04-2022 01:12\n",
       "photoRenderDTO                       [{'objId': 13399, 'pdId': 28141, 'rpdId': 5759...\n",
       "objGuarantyEscrowFlg                                                                 0\n",
       "objectType                                                                      normal\n",
       "miniUrl                              https://xn--80az8a.xn--d1aqf.xn--p1ai/api/ext/...\n",
       "residentialBuildings                                                                 0\n",
       "newBuildingId                                                                    34754\n",
       "objFloorCnt                                                                          1\n",
       "objFlatCnt                                                                           0\n",
       "objFlatSq                                                                          0.0\n",
       "objNonlivElemCnt                                                                     0\n",
       "objStatus                                                                            0\n",
       "isAvailableWantLiveHere                                                           True\n",
       "objTransferPlanDt                                                     28-02-2025 12:00\n",
       "objInfrstrBicycleLaneFlg                                                             0\n",
       "objInfrstrPlaygrndCnt                                                              0.0\n",
       "objInfrstrSportGroundCnt                                                           0.0\n",
       "objInfrstrTrashAreaCnt                                                             1.0\n",
       "objInfrstrObjPrkngCnt                                                              0.0\n",
       "objInfrstrNotObjPrkngCnt                                                           0.0\n",
       "objInfrstrRampFlg                                                                    1\n",
       "objInfrstrCurbLoweringFlg                                                            1\n",
       "objElevatorWheelchairCnt                                                           0.0\n",
       "objElevatorPassengerCnt                                                            8.0\n",
       "objElevatorCargoCnt                                                                7.0\n",
       "soldOutPerc                                                                   0.917243\n",
       "objPriceAvg                                                                    50768.0\n",
       "generalContractorNm                       ООО Транспромжилстрой-2005 (ИНН: 7204097730)\n",
       "nonlivFirstFloor                                                                   1.0\n",
       "objectTransportInfo                                                                 []\n",
       "conclusion                                                                       False\n",
       "objLkSaleDepEmail                                                    info@2mengroup.ru\n",
       "objGreenHouseFlg                                                                     0\n",
       "objEnergyEffShortDesc                                                                B\n",
       "infrastructureIndexValue                                                          10.0\n",
       "developer.devId                                                                    306\n",
       "developer.devShortCleanNm                                                   2МЕН ГРУПП\n",
       "developer.devShortNm                                                        2МЕН ГРУПП\n",
       "developer.devFullCleanNm                                                    2МЕН ГРУПП\n",
       "developer.problObjCnt                                                                0\n",
       "developer.buildObjCnt                                                                5\n",
       "developer.comissObjCnt                                                               0\n",
       "developer.regRegionDesc                                              Тюменская область\n",
       "developer.devPhoneNum                                                 +7(345)279-18-88\n",
       "developer.devSite                                                         2mengroup.ru\n",
       "developer.devEmail                                                   info@2mengroup.ru\n",
       "developer.devInn                                                            7701651356\n",
       "developer.devOgrn                                                        1067746424899\n",
       "developer.devKpp                                                             720301001\n",
       "developer.devLegalAddr               Тюменская область, город Тюмень, улица Комсомо...\n",
       "developer.devFactAddr                Тюменская область, город Тюмень, улица Комсомо...\n",
       "developer.lastRpdId                                                             580590\n",
       "developer.fundGuarantyFlg                                                            1\n",
       "developer.devOrgRegRegionCd                                                       72.0\n",
       "developer.devEmplMainFullNm                                  Киселев Сергей Михайлович\n",
       "developer.developerGroupName                                    2МЕН ГРУПП ДЕВЕЛОПМЕНТ\n",
       "developer.orgForm.id                                                                 1\n",
       "developer.orgForm.fullForm                                        Акционерное общество\n",
       "developer.orgForm.shortForm                                                         АО\n",
       "developer.companyGroupId                                                   699421001.0\n",
       "developer.objGuarantyEscrowFlg                                                       0\n",
       "developer.govFundFlg                                                                 0\n",
       "objLivCeilingHeight                                                                NaN\n",
       "quartography.objLivElem1KCnt                                                       NaN\n",
       "quartography.objLivElem2KCnt                                                       NaN\n",
       "quartography.objLivElem3KCnt                                                       NaN\n",
       "quartography.objLivElem4KCnt                                                       NaN\n",
       "quartography.objLivElemCnt                                                         NaN\n",
       "quartography.objLivElemEntrCnt                                                     NaN\n",
       "quartography.objLivElemEntrFloorAvg                                                NaN\n",
       "nameObj                                                                            NaN"
      ]
     },
     "execution_count": 6,
     "metadata": {},
     "output_type": "execute_result"
    }
   ],
   "source": [
    "df_dom.head(1).T"
   ]
  },
  {
   "cell_type": "code",
   "execution_count": 7,
   "metadata": {
    "id": "0Ncw-h0LQS0P"
   },
   "outputs": [],
   "source": [
    "#убираю время из даты\n",
    "df_dom.objTransferPlanDt = pd.to_datetime(df_dom.objTransferPlanDt).dt.date"
   ]
  },
  {
   "cell_type": "code",
   "execution_count": 8,
   "metadata": {
    "colab": {
     "base_uri": "https://localhost:8080/"
    },
    "id": "wofgD8QpQS0Q",
    "outputId": "32be80d2-8278-4fbd-d9d0-34cfc848ba2d"
   },
   "outputs": [
    {
     "data": {
      "text/plain": [
       "0        2025-02-28\n",
       "1        2025-02-28\n",
       "2        2022-08-31\n",
       "3        2025-02-28\n",
       "4        2022-08-30\n",
       "            ...    \n",
       "10074    2024-07-31\n",
       "10075    2024-07-31\n",
       "10076    2023-01-07\n",
       "10077    2022-06-30\n",
       "10078    2023-09-30\n",
       "Name: objTransferPlanDt, Length: 10079, dtype: object"
      ]
     },
     "execution_count": 8,
     "metadata": {},
     "output_type": "execute_result"
    }
   ],
   "source": [
    "df_dom.objTransferPlanDt"
   ]
  },
  {
   "cell_type": "code",
   "execution_count": 98,
   "metadata": {
    "colab": {
     "base_uri": "https://localhost:8080/",
     "height": 542
    },
    "id": "apdHHBO8QS0Q",
    "outputId": "4eb1b413-dc05-4c82-c2d0-a788ec9a6d05"
   },
   "outputs": [
    {
     "data": {
      "application/vnd.plotly.v1+json": {
       "config": {
        "plotlyServerURL": "https://plot.ly"
       },
       "data": [
        {
         "hoverinfo": "all",
         "hovertemplate": "Дата: %{x}<br>Кол-во домов: %{y}",
         "legendgroup": "",
         "line": {
          "color": "green",
          "dash": "solid"
         },
         "mode": "lines",
         "name": "",
         "orientation": "v",
         "showlegend": false,
         "type": "scatter",
         "x": [
          "2017-12-31",
          "2018-08-31",
          "2018-12-30",
          "2018-12-31",
          "2020-01-01",
          "2020-03-15",
          "2021-03-28",
          "2021-03-31",
          "2021-06-12",
          "2021-09-30",
          "2021-11-25",
          "2021-12-15",
          "2021-12-25",
          "2021-12-29",
          "2021-12-31",
          "2022-01-04",
          "2022-01-05",
          "2022-01-06",
          "2022-01-07",
          "2022-01-08",
          "2022-01-09",
          "2022-01-10",
          "2022-01-11",
          "2022-01-12",
          "2022-01-31",
          "2022-02-10",
          "2022-02-11",
          "2022-02-12",
          "2022-02-15",
          "2022-02-20",
          "2022-02-27",
          "2022-02-28",
          "2022-03-06",
          "2022-03-07",
          "2022-03-11",
          "2022-03-15",
          "2022-03-20",
          "2022-03-21",
          "2022-03-27",
          "2022-03-30",
          "2022-03-31",
          "2022-04-04",
          "2022-04-10",
          "2022-04-12",
          "2022-04-15",
          "2022-04-21",
          "2022-04-22",
          "2022-04-28",
          "2022-04-29",
          "2022-04-30",
          "2022-05-06",
          "2022-05-08",
          "2022-05-10",
          "2022-05-11",
          "2022-05-12",
          "2022-05-15",
          "2022-05-16",
          "2022-05-17",
          "2022-05-19",
          "2022-05-20",
          "2022-05-22",
          "2022-05-23",
          "2022-05-27",
          "2022-05-28",
          "2022-05-30",
          "2022-05-31",
          "2022-06-10",
          "2022-06-11",
          "2022-06-12",
          "2022-06-14",
          "2022-06-15",
          "2022-06-19",
          "2022-06-21",
          "2022-06-23",
          "2022-06-24",
          "2022-06-25",
          "2022-06-27",
          "2022-06-28",
          "2022-06-29",
          "2022-06-30",
          "2022-07-06",
          "2022-07-16",
          "2022-07-18",
          "2022-07-20",
          "2022-07-22",
          "2022-07-23",
          "2022-07-26",
          "2022-07-28",
          "2022-07-29",
          "2022-07-30",
          "2022-07-31",
          "2022-08-06",
          "2022-08-07",
          "2022-08-10",
          "2022-08-12",
          "2022-08-14",
          "2022-08-15",
          "2022-08-16",
          "2022-08-19",
          "2022-08-20",
          "2022-08-22",
          "2022-08-24",
          "2022-08-25",
          "2022-08-26",
          "2022-08-28",
          "2022-08-29",
          "2022-08-30",
          "2022-08-31",
          "2022-09-02",
          "2022-09-06",
          "2022-09-08",
          "2022-09-09",
          "2022-09-10",
          "2022-09-12",
          "2022-09-13",
          "2022-09-15",
          "2022-09-16",
          "2022-09-18",
          "2022-09-20",
          "2022-09-22",
          "2022-09-25",
          "2022-09-26",
          "2022-09-27",
          "2022-09-28",
          "2022-09-29",
          "2022-09-30",
          "2022-10-07",
          "2022-10-08",
          "2022-10-10",
          "2022-10-12",
          "2022-10-15",
          "2022-10-16",
          "2022-10-17",
          "2022-10-20",
          "2022-10-22",
          "2022-10-24",
          "2022-10-25",
          "2022-10-26",
          "2022-10-28",
          "2022-10-30",
          "2022-10-31",
          "2022-11-04",
          "2022-11-05",
          "2022-11-06",
          "2022-11-08",
          "2022-11-12",
          "2022-11-14",
          "2022-11-15",
          "2022-11-16",
          "2022-11-18",
          "2022-11-19",
          "2022-11-20",
          "2022-11-21",
          "2022-11-22",
          "2022-11-25",
          "2022-11-26",
          "2022-11-28",
          "2022-11-30",
          "2022-12-01",
          "2022-12-09",
          "2022-12-11",
          "2022-12-12",
          "2022-12-13",
          "2022-12-14",
          "2022-12-15",
          "2022-12-16",
          "2022-12-19",
          "2022-12-20",
          "2022-12-21",
          "2022-12-23",
          "2022-12-24",
          "2022-12-25",
          "2022-12-26",
          "2022-12-27",
          "2022-12-28",
          "2022-12-29",
          "2022-12-30",
          "2022-12-31",
          "2023-01-01",
          "2023-01-02",
          "2023-01-03",
          "2023-01-04",
          "2023-01-05",
          "2023-01-06",
          "2023-01-07",
          "2023-01-08",
          "2023-01-09",
          "2023-01-10",
          "2023-01-11",
          "2023-01-12",
          "2023-01-14",
          "2023-01-15",
          "2023-01-16",
          "2023-01-20",
          "2023-01-21",
          "2023-01-23",
          "2023-01-25",
          "2023-01-27",
          "2023-01-28",
          "2023-01-29",
          "2023-01-30",
          "2023-01-31",
          "2023-02-01",
          "2023-02-02",
          "2023-02-04",
          "2023-02-06",
          "2023-02-07",
          "2023-02-08",
          "2023-02-09",
          "2023-02-12",
          "2023-02-13",
          "2023-02-14",
          "2023-02-15",
          "2023-02-16",
          "2023-02-17",
          "2023-02-18",
          "2023-02-19",
          "2023-02-20",
          "2023-02-21",
          "2023-02-22",
          "2023-02-23",
          "2023-02-24",
          "2023-02-25",
          "2023-02-26",
          "2023-02-27",
          "2023-02-28",
          "2023-03-03",
          "2023-03-04",
          "2023-03-06",
          "2023-03-09",
          "2023-03-11",
          "2023-03-13",
          "2023-03-14",
          "2023-03-15",
          "2023-03-17",
          "2023-03-18",
          "2023-03-20",
          "2023-03-21",
          "2023-03-22",
          "2023-03-24",
          "2023-03-25",
          "2023-03-27",
          "2023-03-28",
          "2023-03-29",
          "2023-03-30",
          "2023-03-31",
          "2023-04-04",
          "2023-04-07",
          "2023-04-08",
          "2023-04-09",
          "2023-04-10",
          "2023-04-13",
          "2023-04-14",
          "2023-04-15",
          "2023-04-17",
          "2023-04-18",
          "2023-04-19",
          "2023-04-20",
          "2023-04-21",
          "2023-04-22",
          "2023-04-23",
          "2023-04-24",
          "2023-04-25",
          "2023-04-28",
          "2023-04-29",
          "2023-04-30",
          "2023-05-02",
          "2023-05-03",
          "2023-05-04",
          "2023-05-05",
          "2023-05-06",
          "2023-05-07",
          "2023-05-08",
          "2023-05-10",
          "2023-05-11",
          "2023-05-12",
          "2023-05-13",
          "2023-05-15",
          "2023-05-17",
          "2023-05-18",
          "2023-05-21",
          "2023-05-22",
          "2023-05-23",
          "2023-05-24",
          "2023-05-25",
          "2023-05-27",
          "2023-05-28",
          "2023-05-29",
          "2023-05-30",
          "2023-05-31",
          "2023-06-02",
          "2023-06-04",
          "2023-06-05",
          "2023-06-06",
          "2023-06-08",
          "2023-06-09",
          "2023-06-11",
          "2023-06-13",
          "2023-06-14",
          "2023-06-15",
          "2023-06-16",
          "2023-06-18",
          "2023-06-19",
          "2023-06-20",
          "2023-06-21",
          "2023-06-22",
          "2023-06-23",
          "2023-06-24",
          "2023-06-25",
          "2023-06-26",
          "2023-06-27",
          "2023-06-28",
          "2023-06-29",
          "2023-06-30",
          "2023-07-02",
          "2023-07-03",
          "2023-07-04",
          "2023-07-07",
          "2023-07-08",
          "2023-07-09",
          "2023-07-11",
          "2023-07-12",
          "2023-07-13",
          "2023-07-14",
          "2023-07-15",
          "2023-07-16",
          "2023-07-18",
          "2023-07-20",
          "2023-07-21",
          "2023-07-22",
          "2023-07-24",
          "2023-07-26",
          "2023-07-27",
          "2023-07-28",
          "2023-07-29",
          "2023-07-30",
          "2023-07-31",
          "2023-08-01",
          "2023-08-02",
          "2023-08-04",
          "2023-08-05",
          "2023-08-06",
          "2023-08-09",
          "2023-08-10",
          "2023-08-12",
          "2023-08-13",
          "2023-08-15",
          "2023-08-17",
          "2023-08-18",
          "2023-08-19",
          "2023-08-22",
          "2023-08-23",
          "2023-08-24",
          "2023-08-25",
          "2023-08-26",
          "2023-08-28",
          "2023-08-29",
          "2023-08-30",
          "2023-08-31",
          "2023-09-01",
          "2023-09-02",
          "2023-09-03",
          "2023-09-05",
          "2023-09-06",
          "2023-09-08",
          "2023-09-10",
          "2023-09-12",
          "2023-09-15",
          "2023-09-17",
          "2023-09-18",
          "2023-09-19",
          "2023-09-21",
          "2023-09-22",
          "2023-09-23",
          "2023-09-24",
          "2023-09-25",
          "2023-09-27",
          "2023-09-28",
          "2023-09-29",
          "2023-09-30",
          "2023-10-01",
          "2023-10-02",
          "2023-10-03",
          "2023-10-05",
          "2023-10-06",
          "2023-10-07",
          "2023-10-09",
          "2023-10-11",
          "2023-10-12",
          "2023-10-13",
          "2023-10-14",
          "2023-10-15",
          "2023-10-18",
          "2023-10-20",
          "2023-10-22",
          "2023-10-23",
          "2023-10-26",
          "2023-10-28",
          "2023-10-29",
          "2023-10-30",
          "2023-10-31",
          "2023-11-01",
          "2023-11-02",
          "2023-11-03",
          "2023-11-04",
          "2023-11-05",
          "2023-11-07",
          "2023-11-10",
          "2023-11-11",
          "2023-11-16",
          "2023-11-17",
          "2023-11-18",
          "2023-11-20",
          "2023-11-21",
          "2023-11-22",
          "2023-11-23",
          "2023-11-25",
          "2023-11-26",
          "2023-11-27",
          "2023-11-29",
          "2023-11-30",
          "2023-12-01",
          "2023-12-03",
          "2023-12-06",
          "2023-12-07",
          "2023-12-09",
          "2023-12-13",
          "2023-12-14",
          "2023-12-15",
          "2023-12-16",
          "2023-12-18",
          "2023-12-20",
          "2023-12-21",
          "2023-12-22",
          "2023-12-23",
          "2023-12-24",
          "2023-12-25",
          "2023-12-26",
          "2023-12-27",
          "2023-12-28",
          "2023-12-29",
          "2023-12-30",
          "2023-12-31",
          "2024-01-01",
          "2024-01-02",
          "2024-01-03",
          "2024-01-04",
          "2024-01-05",
          "2024-01-06",
          "2024-01-07",
          "2024-01-08",
          "2024-01-09",
          "2024-01-10",
          "2024-01-11",
          "2024-01-12",
          "2024-01-14",
          "2024-01-15",
          "2024-01-18",
          "2024-01-19",
          "2024-01-20",
          "2024-01-21",
          "2024-01-22",
          "2024-01-23",
          "2024-01-24",
          "2024-01-26",
          "2024-01-27",
          "2024-01-28",
          "2024-01-29",
          "2024-01-30",
          "2024-01-31",
          "2024-02-02",
          "2024-02-04",
          "2024-02-05",
          "2024-02-06",
          "2024-02-07",
          "2024-02-13",
          "2024-02-14",
          "2024-02-15",
          "2024-02-18",
          "2024-02-20",
          "2024-02-21",
          "2024-02-22",
          "2024-02-23",
          "2024-02-24",
          "2024-02-25",
          "2024-02-26",
          "2024-02-27",
          "2024-02-28",
          "2024-02-29",
          "2024-03-01",
          "2024-03-03",
          "2024-03-04",
          "2024-03-08",
          "2024-03-12",
          "2024-03-13",
          "2024-03-14",
          "2024-03-15",
          "2024-03-16",
          "2024-03-17",
          "2024-03-18",
          "2024-03-19",
          "2024-03-22",
          "2024-03-24",
          "2024-03-25",
          "2024-03-27",
          "2024-03-28",
          "2024-03-29",
          "2024-03-30",
          "2024-03-31",
          "2024-04-01",
          "2024-04-02",
          "2024-04-06",
          "2024-04-07",
          "2024-04-09",
          "2024-04-11",
          "2024-04-13",
          "2024-04-15",
          "2024-04-16",
          "2024-04-20",
          "2024-04-21",
          "2024-04-22",
          "2024-04-23",
          "2024-04-25",
          "2024-04-26",
          "2024-04-28",
          "2024-04-29",
          "2024-04-30",
          "2024-05-01",
          "2024-05-02",
          "2024-05-03",
          "2024-05-04",
          "2024-05-07",
          "2024-05-09",
          "2024-05-11",
          "2024-05-12",
          "2024-05-14",
          "2024-05-15",
          "2024-05-17",
          "2024-05-18",
          "2024-05-20",
          "2024-05-22",
          "2024-05-23",
          "2024-05-25",
          "2024-05-28",
          "2024-05-29",
          "2024-05-30",
          "2024-05-31",
          "2024-06-02",
          "2024-06-04",
          "2024-06-05",
          "2024-06-06",
          "2024-06-12",
          "2024-06-15",
          "2024-06-16",
          "2024-06-18",
          "2024-06-20",
          "2024-06-21",
          "2024-06-25",
          "2024-06-26",
          "2024-06-27",
          "2024-06-28",
          "2024-06-29",
          "2024-06-30",
          "2024-07-01",
          "2024-07-05",
          "2024-07-06",
          "2024-07-09",
          "2024-07-11",
          "2024-07-15",
          "2024-07-19",
          "2024-07-23",
          "2024-07-25",
          "2024-07-28",
          "2024-07-30",
          "2024-07-31",
          "2024-08-02",
          "2024-08-03",
          "2024-08-04",
          "2024-08-06",
          "2024-08-08",
          "2024-08-09",
          "2024-08-10",
          "2024-08-15",
          "2024-08-16",
          "2024-08-20",
          "2024-08-21",
          "2024-08-24",
          "2024-08-25",
          "2024-08-27",
          "2024-08-29",
          "2024-08-30",
          "2024-08-31",
          "2024-09-01",
          "2024-09-02",
          "2024-09-03",
          "2024-09-05",
          "2024-09-12",
          "2024-09-13",
          "2024-09-16",
          "2024-09-17",
          "2024-09-18",
          "2024-09-20",
          "2024-09-23",
          "2024-09-24",
          "2024-09-25",
          "2024-09-27",
          "2024-09-28",
          "2024-09-29",
          "2024-09-30",
          "2024-10-01",
          "2024-10-02",
          "2024-10-03",
          "2024-10-04",
          "2024-10-07",
          "2024-10-08",
          "2024-10-09",
          "2024-10-10",
          "2024-10-14",
          "2024-10-15",
          "2024-10-19",
          "2024-10-23",
          "2024-10-26",
          "2024-10-27",
          "2024-10-28",
          "2024-10-29",
          "2024-10-30",
          "2024-10-31",
          "2024-11-02",
          "2024-11-03",
          "2024-11-06",
          "2024-11-08",
          "2024-11-11",
          "2024-11-12",
          "2024-11-16",
          "2024-11-19",
          "2024-11-20",
          "2024-11-21",
          "2024-11-22",
          "2024-11-23",
          "2024-11-24",
          "2024-11-25",
          "2024-11-29",
          "2024-11-30",
          "2024-12-01",
          "2024-12-02",
          "2024-12-04",
          "2024-12-05",
          "2024-12-06",
          "2024-12-08",
          "2024-12-09",
          "2024-12-15",
          "2024-12-16",
          "2024-12-20",
          "2024-12-22",
          "2024-12-23",
          "2024-12-24",
          "2024-12-25",
          "2024-12-26",
          "2024-12-27",
          "2024-12-28",
          "2024-12-29",
          "2024-12-30",
          "2024-12-31",
          "2025-01-01",
          "2025-01-02",
          "2025-01-03",
          "2025-01-04",
          "2025-01-05",
          "2025-01-06",
          "2025-01-07",
          "2025-01-09",
          "2025-01-10",
          "2025-01-11",
          "2025-01-12",
          "2025-01-13",
          "2025-01-14",
          "2025-01-15",
          "2025-01-21",
          "2025-01-22",
          "2025-01-23",
          "2025-01-24",
          "2025-01-29",
          "2025-01-30",
          "2025-01-31",
          "2025-02-01",
          "2025-02-10",
          "2025-02-11",
          "2025-02-16",
          "2025-02-25",
          "2025-02-27",
          "2025-02-28",
          "2025-03-07",
          "2025-03-13",
          "2025-03-15",
          "2025-03-16",
          "2025-03-17",
          "2025-03-18",
          "2025-03-21",
          "2025-03-23",
          "2025-03-24",
          "2025-03-25",
          "2025-03-27",
          "2025-03-28",
          "2025-03-30",
          "2025-03-31",
          "2025-04-03",
          "2025-04-11",
          "2025-04-19",
          "2025-04-21",
          "2025-04-24",
          "2025-04-26",
          "2025-04-30",
          "2025-05-03",
          "2025-05-09",
          "2025-05-12",
          "2025-05-14",
          "2025-05-18",
          "2025-05-24",
          "2025-05-25",
          "2025-05-26",
          "2025-05-28",
          "2025-05-29",
          "2025-05-30",
          "2025-05-31",
          "2025-06-02",
          "2025-06-14",
          "2025-06-15",
          "2025-06-17",
          "2025-06-19",
          "2025-06-27",
          "2025-06-30",
          "2025-07-07",
          "2025-07-22",
          "2025-07-24",
          "2025-07-29",
          "2025-07-30",
          "2025-07-31",
          "2025-08-01",
          "2025-08-02",
          "2025-08-10",
          "2025-08-12",
          "2025-08-18",
          "2025-08-21",
          "2025-08-25",
          "2025-08-29",
          "2025-08-30",
          "2025-08-31",
          "2025-09-03",
          "2025-09-04",
          "2025-09-05",
          "2025-09-25",
          "2025-09-30",
          "2025-10-05",
          "2025-10-12",
          "2025-10-16",
          "2025-10-17",
          "2025-10-25",
          "2025-10-30",
          "2025-10-31",
          "2025-11-04",
          "2025-11-05",
          "2025-11-30",
          "2025-12-13",
          "2025-12-15",
          "2025-12-17",
          "2025-12-22",
          "2025-12-25",
          "2025-12-28",
          "2025-12-29",
          "2025-12-30",
          "2025-12-31",
          "2026-01-04",
          "2026-01-06",
          "2026-01-08",
          "2026-01-09",
          "2026-01-21",
          "2026-01-22",
          "2026-01-24",
          "2026-01-30",
          "2026-01-31",
          "2026-02-08",
          "2026-02-28",
          "2026-03-02",
          "2026-03-30",
          "2026-03-31",
          "2026-04-16",
          "2026-04-30",
          "2026-05-08",
          "2026-05-15",
          "2026-05-24",
          "2026-05-29",
          "2026-05-30",
          "2026-05-31",
          "2026-06-15",
          "2026-06-16",
          "2026-06-23",
          "2026-06-25",
          "2026-06-28",
          "2026-06-30",
          "2026-07-31",
          "2026-08-12",
          "2026-08-18",
          "2026-08-19",
          "2026-08-26",
          "2026-08-28",
          "2026-08-29",
          "2026-08-31",
          "2026-09-05",
          "2026-09-11",
          "2026-09-25",
          "2026-09-30",
          "2026-10-06",
          "2026-10-28",
          "2026-10-30",
          "2026-10-31",
          "2026-11-02",
          "2026-11-08",
          "2026-11-23",
          "2026-11-25",
          "2026-12-02",
          "2026-12-12",
          "2026-12-25",
          "2026-12-30",
          "2026-12-31",
          "2027-01-03",
          "2027-01-05",
          "2027-01-07",
          "2027-01-10",
          "2027-01-30",
          "2027-01-31",
          "2027-02-04",
          "2027-02-09",
          "2027-02-28",
          "2027-03-06",
          "2027-03-14",
          "2027-03-15",
          "2027-03-30",
          "2027-03-31",
          "2027-04-29",
          "2027-05-30",
          "2027-05-31",
          "2027-06-30",
          "2027-07-15",
          "2027-09-30",
          "2027-10-10",
          "2027-12-21",
          "2027-12-31",
          "2028-01-31",
          "2028-03-31",
          "2028-06-30",
          "2028-09-30",
          "2028-11-30",
          "2028-12-15",
          "2028-12-30",
          "2028-12-31",
          "2029-03-30",
          "2029-03-31",
          "2029-06-30",
          "2029-09-30",
          "2029-12-31",
          "2030-01-29",
          "2030-03-29",
          "2030-03-31",
          "2030-06-30",
          "2030-12-31",
          "2031-03-31",
          "2031-09-17",
          "2031-12-31",
          "2032-03-31",
          "2032-06-30",
          "2032-10-06",
          "2032-10-30",
          "2032-12-31",
          "2033-03-31",
          "2034-03-31",
          "2034-10-30",
          "2036-12-31",
          "2037-01-29",
          "2039-01-29",
          "2039-07-30"
         ],
         "xaxis": "x",
         "y": [
          3,
          1,
          1,
          2,
          1,
          1,
          1,
          1,
          1,
          1,
          1,
          2,
          1,
          1,
          8,
          3,
          3,
          12,
          12,
          4,
          13,
          16,
          9,
          16,
          1,
          1,
          1,
          9,
          1,
          1,
          1,
          5,
          2,
          1,
          2,
          1,
          1,
          2,
          1,
          4,
          61,
          1,
          1,
          1,
          1,
          1,
          2,
          2,
          3,
          57,
          1,
          2,
          1,
          2,
          1,
          6,
          1,
          1,
          8,
          3,
          2,
          2,
          1,
          1,
          4,
          25,
          1,
          2,
          4,
          4,
          3,
          1,
          1,
          1,
          1,
          1,
          1,
          1,
          2,
          228,
          3,
          1,
          2,
          2,
          1,
          1,
          3,
          2,
          2,
          13,
          30,
          1,
          5,
          4,
          1,
          3,
          10,
          1,
          1,
          1,
          2,
          1,
          1,
          2,
          4,
          1,
          30,
          35,
          1,
          1,
          6,
          1,
          1,
          2,
          1,
          6,
          1,
          2,
          4,
          4,
          8,
          2,
          4,
          7,
          9,
          220,
          1,
          1,
          2,
          2,
          6,
          1,
          3,
          2,
          2,
          1,
          2,
          1,
          1,
          26,
          38,
          1,
          1,
          1,
          1,
          1,
          1,
          3,
          2,
          2,
          3,
          1,
          1,
          5,
          1,
          1,
          3,
          44,
          1,
          1,
          1,
          5,
          1,
          3,
          9,
          4,
          2,
          3,
          2,
          1,
          2,
          8,
          6,
          6,
          4,
          12,
          168,
          530,
          7,
          6,
          22,
          22,
          11,
          21,
          32,
          9,
          9,
          23,
          4,
          15,
          5,
          4,
          1,
          1,
          2,
          5,
          8,
          3,
          2,
          3,
          24,
          66,
          3,
          3,
          3,
          1,
          1,
          3,
          1,
          4,
          1,
          1,
          11,
          2,
          1,
          3,
          4,
          1,
          2,
          3,
          1,
          1,
          3,
          6,
          7,
          87,
          1,
          1,
          3,
          1,
          4,
          1,
          1,
          4,
          2,
          1,
          3,
          1,
          4,
          4,
          6,
          3,
          4,
          5,
          94,
          528,
          4,
          1,
          2,
          2,
          1,
          1,
          1,
          4,
          2,
          1,
          1,
          2,
          2,
          4,
          1,
          2,
          2,
          4,
          3,
          95,
          3,
          1,
          2,
          1,
          2,
          1,
          2,
          6,
          1,
          2,
          1,
          6,
          1,
          1,
          3,
          10,
          1,
          8,
          2,
          1,
          5,
          2,
          31,
          56,
          3,
          2,
          2,
          2,
          1,
          3,
          2,
          4,
          1,
          2,
          1,
          2,
          3,
          3,
          3,
          17,
          9,
          3,
          4,
          5,
          4,
          14,
          16,
          747,
          1,
          1,
          7,
          1,
          2,
          1,
          1,
          2,
          1,
          11,
          3,
          1,
          3,
          1,
          1,
          1,
          10,
          6,
          2,
          51,
          1,
          5,
          41,
          1,
          1,
          1,
          1,
          2,
          3,
          9,
          1,
          1,
          2,
          1,
          3,
          2,
          2,
          1,
          1,
          4,
          2,
          2,
          13,
          27,
          42,
          1,
          1,
          1,
          1,
          10,
          1,
          15,
          3,
          4,
          2,
          1,
          1,
          1,
          4,
          2,
          5,
          1,
          5,
          4,
          9,
          429,
          2,
          5,
          2,
          1,
          2,
          1,
          1,
          9,
          3,
          1,
          2,
          4,
          11,
          1,
          2,
          1,
          2,
          6,
          6,
          53,
          45,
          2,
          1,
          1,
          1,
          1,
          1,
          1,
          2,
          3,
          6,
          1,
          1,
          4,
          1,
          1,
          2,
          1,
          1,
          3,
          55,
          1,
          2,
          1,
          3,
          2,
          2,
          1,
          7,
          2,
          2,
          9,
          1,
          8,
          1,
          2,
          5,
          3,
          13,
          6,
          19,
          95,
          608,
          12,
          5,
          23,
          26,
          1,
          4,
          24,
          10,
          7,
          14,
          3,
          7,
          3,
          1,
          5,
          1,
          3,
          2,
          6,
          1,
          3,
          1,
          3,
          4,
          4,
          13,
          20,
          2,
          1,
          1,
          1,
          1,
          1,
          1,
          7,
          1,
          5,
          1,
          1,
          1,
          2,
          4,
          1,
          3,
          21,
          43,
          1,
          1,
          4,
          3,
          1,
          1,
          2,
          3,
          2,
          2,
          1,
          1,
          1,
          1,
          1,
          1,
          5,
          6,
          80,
          290,
          1,
          1,
          2,
          1,
          1,
          2,
          1,
          3,
          2,
          1,
          2,
          2,
          1,
          3,
          3,
          1,
          4,
          59,
          2,
          2,
          1,
          1,
          27,
          4,
          2,
          1,
          1,
          1,
          1,
          2,
          1,
          1,
          11,
          2,
          5,
          3,
          21,
          45,
          4,
          5,
          2,
          3,
          2,
          2,
          2,
          1,
          6,
          5,
          2,
          2,
          3,
          13,
          6,
          459,
          1,
          3,
          1,
          1,
          1,
          6,
          1,
          1,
          1,
          3,
          10,
          28,
          1,
          1,
          1,
          3,
          2,
          1,
          2,
          7,
          1,
          2,
          3,
          3,
          2,
          1,
          1,
          16,
          18,
          2,
          1,
          4,
          1,
          2,
          1,
          1,
          3,
          2,
          4,
          1,
          1,
          3,
          3,
          4,
          2,
          293,
          1,
          1,
          2,
          5,
          1,
          2,
          3,
          1,
          3,
          5,
          1,
          1,
          2,
          1,
          3,
          2,
          20,
          40,
          3,
          2,
          1,
          1,
          2,
          2,
          1,
          1,
          1,
          3,
          4,
          1,
          1,
          2,
          7,
          40,
          1,
          4,
          2,
          4,
          1,
          1,
          1,
          3,
          2,
          3,
          6,
          2,
          3,
          11,
          3,
          4,
          5,
          10,
          48,
          282,
          3,
          2,
          1,
          12,
          1,
          19,
          10,
          10,
          2,
          1,
          1,
          1,
          5,
          1,
          1,
          1,
          1,
          3,
          5,
          3,
          9,
          2,
          1,
          6,
          3,
          13,
          3,
          28,
          2,
          1,
          1,
          1,
          1,
          1,
          2,
          1,
          1,
          1,
          7,
          1,
          14,
          150,
          1,
          1,
          7,
          6,
          4,
          1,
          9,
          1,
          1,
          1,
          1,
          1,
          2,
          3,
          1,
          1,
          2,
          9,
          15,
          4,
          2,
          5,
          1,
          2,
          7,
          213,
          1,
          1,
          1,
          1,
          3,
          8,
          2,
          1,
          1,
          1,
          1,
          1,
          1,
          8,
          2,
          6,
          1,
          2,
          1,
          4,
          78,
          1,
          1,
          1,
          1,
          2,
          24,
          15,
          14,
          1,
          4,
          1,
          2,
          1,
          2,
          6,
          2,
          1,
          31,
          90,
          3,
          1,
          1,
          1,
          1,
          13,
          3,
          1,
          1,
          5,
          2,
          1,
          2,
          45,
          1,
          6,
          1,
          1,
          1,
          1,
          4,
          1,
          3,
          1,
          1,
          1,
          1,
          68,
          2,
          1,
          2,
          8,
          3,
          1,
          1,
          1,
          2,
          1,
          1,
          28,
          2,
          5,
          3,
          21,
          2,
          1,
          1,
          1,
          2,
          1,
          6,
          1,
          37,
          2,
          1,
          2,
          2,
          1,
          1,
          1,
          1,
          4,
          2,
          3,
          2,
          2,
          7,
          1,
          1,
          1,
          15,
          1,
          5,
          1,
          1,
          5,
          3,
          8,
          5,
          1,
          1,
          1,
          1,
          6,
          4,
          7,
          4,
          1,
          6,
          1,
          2,
          3,
          3,
          6,
          3,
          1,
          3,
          4,
          2,
          2,
          1,
          1,
          1,
          1,
          1,
          1,
          1,
          1,
          1
         ],
         "yaxis": "y"
        }
       ],
       "layout": {
        "legend": {
         "tracegroupgap": 0
        },
        "margin": {
         "t": 60
        },
        "template": {
         "data": {
          "bar": [
           {
            "error_x": {
             "color": "#2a3f5f"
            },
            "error_y": {
             "color": "#2a3f5f"
            },
            "marker": {
             "line": {
              "color": "#E5ECF6",
              "width": 0.5
             }
            },
            "type": "bar"
           }
          ],
          "barpolar": [
           {
            "marker": {
             "line": {
              "color": "#E5ECF6",
              "width": 0.5
             }
            },
            "type": "barpolar"
           }
          ],
          "carpet": [
           {
            "aaxis": {
             "endlinecolor": "#2a3f5f",
             "gridcolor": "white",
             "linecolor": "white",
             "minorgridcolor": "white",
             "startlinecolor": "#2a3f5f"
            },
            "baxis": {
             "endlinecolor": "#2a3f5f",
             "gridcolor": "white",
             "linecolor": "white",
             "minorgridcolor": "white",
             "startlinecolor": "#2a3f5f"
            },
            "type": "carpet"
           }
          ],
          "choropleth": [
           {
            "colorbar": {
             "outlinewidth": 0,
             "ticks": ""
            },
            "type": "choropleth"
           }
          ],
          "contour": [
           {
            "colorbar": {
             "outlinewidth": 0,
             "ticks": ""
            },
            "colorscale": [
             [
              0,
              "#0d0887"
             ],
             [
              0.1111111111111111,
              "#46039f"
             ],
             [
              0.2222222222222222,
              "#7201a8"
             ],
             [
              0.3333333333333333,
              "#9c179e"
             ],
             [
              0.4444444444444444,
              "#bd3786"
             ],
             [
              0.5555555555555556,
              "#d8576b"
             ],
             [
              0.6666666666666666,
              "#ed7953"
             ],
             [
              0.7777777777777778,
              "#fb9f3a"
             ],
             [
              0.8888888888888888,
              "#fdca26"
             ],
             [
              1,
              "#f0f921"
             ]
            ],
            "type": "contour"
           }
          ],
          "contourcarpet": [
           {
            "colorbar": {
             "outlinewidth": 0,
             "ticks": ""
            },
            "type": "contourcarpet"
           }
          ],
          "heatmap": [
           {
            "colorbar": {
             "outlinewidth": 0,
             "ticks": ""
            },
            "colorscale": [
             [
              0,
              "#0d0887"
             ],
             [
              0.1111111111111111,
              "#46039f"
             ],
             [
              0.2222222222222222,
              "#7201a8"
             ],
             [
              0.3333333333333333,
              "#9c179e"
             ],
             [
              0.4444444444444444,
              "#bd3786"
             ],
             [
              0.5555555555555556,
              "#d8576b"
             ],
             [
              0.6666666666666666,
              "#ed7953"
             ],
             [
              0.7777777777777778,
              "#fb9f3a"
             ],
             [
              0.8888888888888888,
              "#fdca26"
             ],
             [
              1,
              "#f0f921"
             ]
            ],
            "type": "heatmap"
           }
          ],
          "heatmapgl": [
           {
            "colorbar": {
             "outlinewidth": 0,
             "ticks": ""
            },
            "colorscale": [
             [
              0,
              "#0d0887"
             ],
             [
              0.1111111111111111,
              "#46039f"
             ],
             [
              0.2222222222222222,
              "#7201a8"
             ],
             [
              0.3333333333333333,
              "#9c179e"
             ],
             [
              0.4444444444444444,
              "#bd3786"
             ],
             [
              0.5555555555555556,
              "#d8576b"
             ],
             [
              0.6666666666666666,
              "#ed7953"
             ],
             [
              0.7777777777777778,
              "#fb9f3a"
             ],
             [
              0.8888888888888888,
              "#fdca26"
             ],
             [
              1,
              "#f0f921"
             ]
            ],
            "type": "heatmapgl"
           }
          ],
          "histogram": [
           {
            "marker": {
             "colorbar": {
              "outlinewidth": 0,
              "ticks": ""
             }
            },
            "type": "histogram"
           }
          ],
          "histogram2d": [
           {
            "colorbar": {
             "outlinewidth": 0,
             "ticks": ""
            },
            "colorscale": [
             [
              0,
              "#0d0887"
             ],
             [
              0.1111111111111111,
              "#46039f"
             ],
             [
              0.2222222222222222,
              "#7201a8"
             ],
             [
              0.3333333333333333,
              "#9c179e"
             ],
             [
              0.4444444444444444,
              "#bd3786"
             ],
             [
              0.5555555555555556,
              "#d8576b"
             ],
             [
              0.6666666666666666,
              "#ed7953"
             ],
             [
              0.7777777777777778,
              "#fb9f3a"
             ],
             [
              0.8888888888888888,
              "#fdca26"
             ],
             [
              1,
              "#f0f921"
             ]
            ],
            "type": "histogram2d"
           }
          ],
          "histogram2dcontour": [
           {
            "colorbar": {
             "outlinewidth": 0,
             "ticks": ""
            },
            "colorscale": [
             [
              0,
              "#0d0887"
             ],
             [
              0.1111111111111111,
              "#46039f"
             ],
             [
              0.2222222222222222,
              "#7201a8"
             ],
             [
              0.3333333333333333,
              "#9c179e"
             ],
             [
              0.4444444444444444,
              "#bd3786"
             ],
             [
              0.5555555555555556,
              "#d8576b"
             ],
             [
              0.6666666666666666,
              "#ed7953"
             ],
             [
              0.7777777777777778,
              "#fb9f3a"
             ],
             [
              0.8888888888888888,
              "#fdca26"
             ],
             [
              1,
              "#f0f921"
             ]
            ],
            "type": "histogram2dcontour"
           }
          ],
          "mesh3d": [
           {
            "colorbar": {
             "outlinewidth": 0,
             "ticks": ""
            },
            "type": "mesh3d"
           }
          ],
          "parcoords": [
           {
            "line": {
             "colorbar": {
              "outlinewidth": 0,
              "ticks": ""
             }
            },
            "type": "parcoords"
           }
          ],
          "pie": [
           {
            "automargin": true,
            "type": "pie"
           }
          ],
          "scatter": [
           {
            "marker": {
             "colorbar": {
              "outlinewidth": 0,
              "ticks": ""
             }
            },
            "type": "scatter"
           }
          ],
          "scatter3d": [
           {
            "line": {
             "colorbar": {
              "outlinewidth": 0,
              "ticks": ""
             }
            },
            "marker": {
             "colorbar": {
              "outlinewidth": 0,
              "ticks": ""
             }
            },
            "type": "scatter3d"
           }
          ],
          "scattercarpet": [
           {
            "marker": {
             "colorbar": {
              "outlinewidth": 0,
              "ticks": ""
             }
            },
            "type": "scattercarpet"
           }
          ],
          "scattergeo": [
           {
            "marker": {
             "colorbar": {
              "outlinewidth": 0,
              "ticks": ""
             }
            },
            "type": "scattergeo"
           }
          ],
          "scattergl": [
           {
            "marker": {
             "colorbar": {
              "outlinewidth": 0,
              "ticks": ""
             }
            },
            "type": "scattergl"
           }
          ],
          "scattermapbox": [
           {
            "marker": {
             "colorbar": {
              "outlinewidth": 0,
              "ticks": ""
             }
            },
            "type": "scattermapbox"
           }
          ],
          "scatterpolar": [
           {
            "marker": {
             "colorbar": {
              "outlinewidth": 0,
              "ticks": ""
             }
            },
            "type": "scatterpolar"
           }
          ],
          "scatterpolargl": [
           {
            "marker": {
             "colorbar": {
              "outlinewidth": 0,
              "ticks": ""
             }
            },
            "type": "scatterpolargl"
           }
          ],
          "scatterternary": [
           {
            "marker": {
             "colorbar": {
              "outlinewidth": 0,
              "ticks": ""
             }
            },
            "type": "scatterternary"
           }
          ],
          "surface": [
           {
            "colorbar": {
             "outlinewidth": 0,
             "ticks": ""
            },
            "colorscale": [
             [
              0,
              "#0d0887"
             ],
             [
              0.1111111111111111,
              "#46039f"
             ],
             [
              0.2222222222222222,
              "#7201a8"
             ],
             [
              0.3333333333333333,
              "#9c179e"
             ],
             [
              0.4444444444444444,
              "#bd3786"
             ],
             [
              0.5555555555555556,
              "#d8576b"
             ],
             [
              0.6666666666666666,
              "#ed7953"
             ],
             [
              0.7777777777777778,
              "#fb9f3a"
             ],
             [
              0.8888888888888888,
              "#fdca26"
             ],
             [
              1,
              "#f0f921"
             ]
            ],
            "type": "surface"
           }
          ],
          "table": [
           {
            "cells": {
             "fill": {
              "color": "#EBF0F8"
             },
             "line": {
              "color": "white"
             }
            },
            "header": {
             "fill": {
              "color": "#C8D4E3"
             },
             "line": {
              "color": "white"
             }
            },
            "type": "table"
           }
          ]
         },
         "layout": {
          "annotationdefaults": {
           "arrowcolor": "#2a3f5f",
           "arrowhead": 0,
           "arrowwidth": 1
          },
          "autotypenumbers": "strict",
          "coloraxis": {
           "colorbar": {
            "outlinewidth": 0,
            "ticks": ""
           }
          },
          "colorscale": {
           "diverging": [
            [
             0,
             "#8e0152"
            ],
            [
             0.1,
             "#c51b7d"
            ],
            [
             0.2,
             "#de77ae"
            ],
            [
             0.3,
             "#f1b6da"
            ],
            [
             0.4,
             "#fde0ef"
            ],
            [
             0.5,
             "#f7f7f7"
            ],
            [
             0.6,
             "#e6f5d0"
            ],
            [
             0.7,
             "#b8e186"
            ],
            [
             0.8,
             "#7fbc41"
            ],
            [
             0.9,
             "#4d9221"
            ],
            [
             1,
             "#276419"
            ]
           ],
           "sequential": [
            [
             0,
             "#0d0887"
            ],
            [
             0.1111111111111111,
             "#46039f"
            ],
            [
             0.2222222222222222,
             "#7201a8"
            ],
            [
             0.3333333333333333,
             "#9c179e"
            ],
            [
             0.4444444444444444,
             "#bd3786"
            ],
            [
             0.5555555555555556,
             "#d8576b"
            ],
            [
             0.6666666666666666,
             "#ed7953"
            ],
            [
             0.7777777777777778,
             "#fb9f3a"
            ],
            [
             0.8888888888888888,
             "#fdca26"
            ],
            [
             1,
             "#f0f921"
            ]
           ],
           "sequentialminus": [
            [
             0,
             "#0d0887"
            ],
            [
             0.1111111111111111,
             "#46039f"
            ],
            [
             0.2222222222222222,
             "#7201a8"
            ],
            [
             0.3333333333333333,
             "#9c179e"
            ],
            [
             0.4444444444444444,
             "#bd3786"
            ],
            [
             0.5555555555555556,
             "#d8576b"
            ],
            [
             0.6666666666666666,
             "#ed7953"
            ],
            [
             0.7777777777777778,
             "#fb9f3a"
            ],
            [
             0.8888888888888888,
             "#fdca26"
            ],
            [
             1,
             "#f0f921"
            ]
           ]
          },
          "colorway": [
           "#636efa",
           "#EF553B",
           "#00cc96",
           "#ab63fa",
           "#FFA15A",
           "#19d3f3",
           "#FF6692",
           "#B6E880",
           "#FF97FF",
           "#FECB52"
          ],
          "font": {
           "color": "#2a3f5f"
          },
          "geo": {
           "bgcolor": "white",
           "lakecolor": "white",
           "landcolor": "#E5ECF6",
           "showlakes": true,
           "showland": true,
           "subunitcolor": "white"
          },
          "hoverlabel": {
           "align": "left"
          },
          "hovermode": "closest",
          "mapbox": {
           "style": "light"
          },
          "paper_bgcolor": "white",
          "plot_bgcolor": "#E5ECF6",
          "polar": {
           "angularaxis": {
            "gridcolor": "white",
            "linecolor": "white",
            "ticks": ""
           },
           "bgcolor": "#E5ECF6",
           "radialaxis": {
            "gridcolor": "white",
            "linecolor": "white",
            "ticks": ""
           }
          },
          "scene": {
           "xaxis": {
            "backgroundcolor": "#E5ECF6",
            "gridcolor": "white",
            "gridwidth": 2,
            "linecolor": "white",
            "showbackground": true,
            "ticks": "",
            "zerolinecolor": "white"
           },
           "yaxis": {
            "backgroundcolor": "#E5ECF6",
            "gridcolor": "white",
            "gridwidth": 2,
            "linecolor": "white",
            "showbackground": true,
            "ticks": "",
            "zerolinecolor": "white"
           },
           "zaxis": {
            "backgroundcolor": "#E5ECF6",
            "gridcolor": "white",
            "gridwidth": 2,
            "linecolor": "white",
            "showbackground": true,
            "ticks": "",
            "zerolinecolor": "white"
           }
          },
          "shapedefaults": {
           "line": {
            "color": "#2a3f5f"
           }
          },
          "ternary": {
           "aaxis": {
            "gridcolor": "white",
            "linecolor": "white",
            "ticks": ""
           },
           "baxis": {
            "gridcolor": "white",
            "linecolor": "white",
            "ticks": ""
           },
           "bgcolor": "#E5ECF6",
           "caxis": {
            "gridcolor": "white",
            "linecolor": "white",
            "ticks": ""
           }
          },
          "title": {
           "x": 0.05
          },
          "xaxis": {
           "automargin": true,
           "gridcolor": "white",
           "linecolor": "white",
           "ticks": "",
           "title": {
            "standoff": 15
           },
           "zerolinecolor": "white",
           "zerolinewidth": 2
          },
          "yaxis": {
           "automargin": true,
           "gridcolor": "white",
           "linecolor": "white",
           "ticks": "",
           "title": {
            "standoff": 15
           },
           "zerolinecolor": "white",
           "zerolinewidth": 2
          }
         }
        },
        "title": {
         "text": "График выдачи ключей по всей России"
        },
        "xaxis": {
         "anchor": "y",
         "domain": [
          0,
          1
         ],
         "title": {
          "text": "Дата"
         }
        },
        "yaxis": {
         "anchor": "x",
         "domain": [
          0,
          1
         ],
         "title": {
          "text": "Кол-во домов"
         }
        }
       }
      },
      "text/html": [
       "<div>                            <div id=\"be3a8ee2-285e-410d-a058-9fbbd84be775\" class=\"plotly-graph-div\" style=\"height:525px; width:100%;\"></div>            <script type=\"text/javascript\">                require([\"plotly\"], function(Plotly) {                    window.PLOTLYENV=window.PLOTLYENV || {};                                    if (document.getElementById(\"be3a8ee2-285e-410d-a058-9fbbd84be775\")) {                    Plotly.newPlot(                        \"be3a8ee2-285e-410d-a058-9fbbd84be775\",                        [{\"hoverinfo\": \"all\", \"hovertemplate\": \"\\u0414\\u0430\\u0442\\u0430: %{x}<br>\\u041a\\u043e\\u043b-\\u0432\\u043e \\u0434\\u043e\\u043c\\u043e\\u0432: %{y}\", \"legendgroup\": \"\", \"line\": {\"color\": \"green\", \"dash\": \"solid\"}, \"mode\": \"lines\", \"name\": \"\", \"orientation\": \"v\", \"showlegend\": false, \"type\": \"scatter\", \"x\": [\"2017-12-31\", \"2018-08-31\", \"2018-12-30\", \"2018-12-31\", \"2020-01-01\", \"2020-03-15\", \"2021-03-28\", \"2021-03-31\", \"2021-06-12\", \"2021-09-30\", \"2021-11-25\", \"2021-12-15\", \"2021-12-25\", \"2021-12-29\", \"2021-12-31\", \"2022-01-04\", \"2022-01-05\", \"2022-01-06\", \"2022-01-07\", \"2022-01-08\", \"2022-01-09\", \"2022-01-10\", \"2022-01-11\", \"2022-01-12\", \"2022-01-31\", \"2022-02-10\", \"2022-02-11\", \"2022-02-12\", \"2022-02-15\", \"2022-02-20\", \"2022-02-27\", \"2022-02-28\", \"2022-03-06\", \"2022-03-07\", \"2022-03-11\", \"2022-03-15\", \"2022-03-20\", \"2022-03-21\", \"2022-03-27\", \"2022-03-30\", \"2022-03-31\", \"2022-04-04\", \"2022-04-10\", \"2022-04-12\", \"2022-04-15\", \"2022-04-21\", \"2022-04-22\", \"2022-04-28\", \"2022-04-29\", \"2022-04-30\", \"2022-05-06\", \"2022-05-08\", \"2022-05-10\", \"2022-05-11\", \"2022-05-12\", \"2022-05-15\", \"2022-05-16\", \"2022-05-17\", \"2022-05-19\", \"2022-05-20\", \"2022-05-22\", \"2022-05-23\", \"2022-05-27\", \"2022-05-28\", \"2022-05-30\", \"2022-05-31\", \"2022-06-10\", \"2022-06-11\", \"2022-06-12\", \"2022-06-14\", \"2022-06-15\", \"2022-06-19\", \"2022-06-21\", \"2022-06-23\", \"2022-06-24\", \"2022-06-25\", \"2022-06-27\", \"2022-06-28\", \"2022-06-29\", \"2022-06-30\", \"2022-07-06\", \"2022-07-16\", \"2022-07-18\", \"2022-07-20\", \"2022-07-22\", \"2022-07-23\", \"2022-07-26\", \"2022-07-28\", \"2022-07-29\", \"2022-07-30\", \"2022-07-31\", \"2022-08-06\", \"2022-08-07\", \"2022-08-10\", \"2022-08-12\", \"2022-08-14\", \"2022-08-15\", \"2022-08-16\", \"2022-08-19\", \"2022-08-20\", \"2022-08-22\", \"2022-08-24\", \"2022-08-25\", \"2022-08-26\", \"2022-08-28\", \"2022-08-29\", \"2022-08-30\", \"2022-08-31\", \"2022-09-02\", \"2022-09-06\", \"2022-09-08\", \"2022-09-09\", \"2022-09-10\", \"2022-09-12\", \"2022-09-13\", \"2022-09-15\", \"2022-09-16\", \"2022-09-18\", \"2022-09-20\", \"2022-09-22\", \"2022-09-25\", \"2022-09-26\", \"2022-09-27\", \"2022-09-28\", \"2022-09-29\", \"2022-09-30\", \"2022-10-07\", \"2022-10-08\", \"2022-10-10\", \"2022-10-12\", \"2022-10-15\", \"2022-10-16\", \"2022-10-17\", \"2022-10-20\", \"2022-10-22\", \"2022-10-24\", \"2022-10-25\", \"2022-10-26\", \"2022-10-28\", \"2022-10-30\", \"2022-10-31\", \"2022-11-04\", \"2022-11-05\", \"2022-11-06\", \"2022-11-08\", \"2022-11-12\", \"2022-11-14\", \"2022-11-15\", \"2022-11-16\", \"2022-11-18\", \"2022-11-19\", \"2022-11-20\", \"2022-11-21\", \"2022-11-22\", \"2022-11-25\", \"2022-11-26\", \"2022-11-28\", \"2022-11-30\", \"2022-12-01\", \"2022-12-09\", \"2022-12-11\", \"2022-12-12\", \"2022-12-13\", \"2022-12-14\", \"2022-12-15\", \"2022-12-16\", \"2022-12-19\", \"2022-12-20\", \"2022-12-21\", \"2022-12-23\", \"2022-12-24\", \"2022-12-25\", \"2022-12-26\", \"2022-12-27\", \"2022-12-28\", \"2022-12-29\", \"2022-12-30\", \"2022-12-31\", \"2023-01-01\", \"2023-01-02\", \"2023-01-03\", \"2023-01-04\", \"2023-01-05\", \"2023-01-06\", \"2023-01-07\", \"2023-01-08\", \"2023-01-09\", \"2023-01-10\", \"2023-01-11\", \"2023-01-12\", \"2023-01-14\", \"2023-01-15\", \"2023-01-16\", \"2023-01-20\", \"2023-01-21\", \"2023-01-23\", \"2023-01-25\", \"2023-01-27\", \"2023-01-28\", \"2023-01-29\", \"2023-01-30\", \"2023-01-31\", \"2023-02-01\", \"2023-02-02\", \"2023-02-04\", \"2023-02-06\", \"2023-02-07\", \"2023-02-08\", \"2023-02-09\", \"2023-02-12\", \"2023-02-13\", \"2023-02-14\", \"2023-02-15\", \"2023-02-16\", \"2023-02-17\", \"2023-02-18\", \"2023-02-19\", \"2023-02-20\", \"2023-02-21\", \"2023-02-22\", \"2023-02-23\", \"2023-02-24\", \"2023-02-25\", \"2023-02-26\", \"2023-02-27\", \"2023-02-28\", \"2023-03-03\", \"2023-03-04\", \"2023-03-06\", \"2023-03-09\", \"2023-03-11\", \"2023-03-13\", \"2023-03-14\", \"2023-03-15\", \"2023-03-17\", \"2023-03-18\", \"2023-03-20\", \"2023-03-21\", \"2023-03-22\", \"2023-03-24\", \"2023-03-25\", \"2023-03-27\", \"2023-03-28\", \"2023-03-29\", \"2023-03-30\", \"2023-03-31\", \"2023-04-04\", \"2023-04-07\", \"2023-04-08\", \"2023-04-09\", \"2023-04-10\", \"2023-04-13\", \"2023-04-14\", \"2023-04-15\", \"2023-04-17\", \"2023-04-18\", \"2023-04-19\", \"2023-04-20\", \"2023-04-21\", \"2023-04-22\", \"2023-04-23\", \"2023-04-24\", \"2023-04-25\", \"2023-04-28\", \"2023-04-29\", \"2023-04-30\", \"2023-05-02\", \"2023-05-03\", \"2023-05-04\", \"2023-05-05\", \"2023-05-06\", \"2023-05-07\", \"2023-05-08\", \"2023-05-10\", \"2023-05-11\", \"2023-05-12\", \"2023-05-13\", \"2023-05-15\", \"2023-05-17\", \"2023-05-18\", \"2023-05-21\", \"2023-05-22\", \"2023-05-23\", \"2023-05-24\", \"2023-05-25\", \"2023-05-27\", \"2023-05-28\", \"2023-05-29\", \"2023-05-30\", \"2023-05-31\", \"2023-06-02\", \"2023-06-04\", \"2023-06-05\", \"2023-06-06\", \"2023-06-08\", \"2023-06-09\", \"2023-06-11\", \"2023-06-13\", \"2023-06-14\", \"2023-06-15\", \"2023-06-16\", \"2023-06-18\", \"2023-06-19\", \"2023-06-20\", \"2023-06-21\", \"2023-06-22\", \"2023-06-23\", \"2023-06-24\", \"2023-06-25\", \"2023-06-26\", \"2023-06-27\", \"2023-06-28\", \"2023-06-29\", \"2023-06-30\", \"2023-07-02\", \"2023-07-03\", \"2023-07-04\", \"2023-07-07\", \"2023-07-08\", \"2023-07-09\", \"2023-07-11\", \"2023-07-12\", \"2023-07-13\", \"2023-07-14\", \"2023-07-15\", \"2023-07-16\", \"2023-07-18\", \"2023-07-20\", \"2023-07-21\", \"2023-07-22\", \"2023-07-24\", \"2023-07-26\", \"2023-07-27\", \"2023-07-28\", \"2023-07-29\", \"2023-07-30\", \"2023-07-31\", \"2023-08-01\", \"2023-08-02\", \"2023-08-04\", \"2023-08-05\", \"2023-08-06\", \"2023-08-09\", \"2023-08-10\", \"2023-08-12\", \"2023-08-13\", \"2023-08-15\", \"2023-08-17\", \"2023-08-18\", \"2023-08-19\", \"2023-08-22\", \"2023-08-23\", \"2023-08-24\", \"2023-08-25\", \"2023-08-26\", \"2023-08-28\", \"2023-08-29\", \"2023-08-30\", \"2023-08-31\", \"2023-09-01\", \"2023-09-02\", \"2023-09-03\", \"2023-09-05\", \"2023-09-06\", \"2023-09-08\", \"2023-09-10\", \"2023-09-12\", \"2023-09-15\", \"2023-09-17\", \"2023-09-18\", \"2023-09-19\", \"2023-09-21\", \"2023-09-22\", \"2023-09-23\", \"2023-09-24\", \"2023-09-25\", \"2023-09-27\", \"2023-09-28\", \"2023-09-29\", \"2023-09-30\", \"2023-10-01\", \"2023-10-02\", \"2023-10-03\", \"2023-10-05\", \"2023-10-06\", \"2023-10-07\", \"2023-10-09\", \"2023-10-11\", \"2023-10-12\", \"2023-10-13\", \"2023-10-14\", \"2023-10-15\", \"2023-10-18\", \"2023-10-20\", \"2023-10-22\", \"2023-10-23\", \"2023-10-26\", \"2023-10-28\", \"2023-10-29\", \"2023-10-30\", \"2023-10-31\", \"2023-11-01\", \"2023-11-02\", \"2023-11-03\", \"2023-11-04\", \"2023-11-05\", \"2023-11-07\", \"2023-11-10\", \"2023-11-11\", \"2023-11-16\", \"2023-11-17\", \"2023-11-18\", \"2023-11-20\", \"2023-11-21\", \"2023-11-22\", \"2023-11-23\", \"2023-11-25\", \"2023-11-26\", \"2023-11-27\", \"2023-11-29\", \"2023-11-30\", \"2023-12-01\", \"2023-12-03\", \"2023-12-06\", \"2023-12-07\", \"2023-12-09\", \"2023-12-13\", \"2023-12-14\", \"2023-12-15\", \"2023-12-16\", \"2023-12-18\", \"2023-12-20\", \"2023-12-21\", \"2023-12-22\", \"2023-12-23\", \"2023-12-24\", \"2023-12-25\", \"2023-12-26\", \"2023-12-27\", \"2023-12-28\", \"2023-12-29\", \"2023-12-30\", \"2023-12-31\", \"2024-01-01\", \"2024-01-02\", \"2024-01-03\", \"2024-01-04\", \"2024-01-05\", \"2024-01-06\", \"2024-01-07\", \"2024-01-08\", \"2024-01-09\", \"2024-01-10\", \"2024-01-11\", \"2024-01-12\", \"2024-01-14\", \"2024-01-15\", \"2024-01-18\", \"2024-01-19\", \"2024-01-20\", \"2024-01-21\", \"2024-01-22\", \"2024-01-23\", \"2024-01-24\", \"2024-01-26\", \"2024-01-27\", \"2024-01-28\", \"2024-01-29\", \"2024-01-30\", \"2024-01-31\", \"2024-02-02\", \"2024-02-04\", \"2024-02-05\", \"2024-02-06\", \"2024-02-07\", \"2024-02-13\", \"2024-02-14\", \"2024-02-15\", \"2024-02-18\", \"2024-02-20\", \"2024-02-21\", \"2024-02-22\", \"2024-02-23\", \"2024-02-24\", \"2024-02-25\", \"2024-02-26\", \"2024-02-27\", \"2024-02-28\", \"2024-02-29\", \"2024-03-01\", \"2024-03-03\", \"2024-03-04\", \"2024-03-08\", \"2024-03-12\", \"2024-03-13\", \"2024-03-14\", \"2024-03-15\", \"2024-03-16\", \"2024-03-17\", \"2024-03-18\", \"2024-03-19\", \"2024-03-22\", \"2024-03-24\", \"2024-03-25\", \"2024-03-27\", \"2024-03-28\", \"2024-03-29\", \"2024-03-30\", \"2024-03-31\", \"2024-04-01\", \"2024-04-02\", \"2024-04-06\", \"2024-04-07\", \"2024-04-09\", \"2024-04-11\", \"2024-04-13\", \"2024-04-15\", \"2024-04-16\", \"2024-04-20\", \"2024-04-21\", \"2024-04-22\", \"2024-04-23\", \"2024-04-25\", \"2024-04-26\", \"2024-04-28\", \"2024-04-29\", \"2024-04-30\", \"2024-05-01\", \"2024-05-02\", \"2024-05-03\", \"2024-05-04\", \"2024-05-07\", \"2024-05-09\", \"2024-05-11\", \"2024-05-12\", \"2024-05-14\", \"2024-05-15\", \"2024-05-17\", \"2024-05-18\", \"2024-05-20\", \"2024-05-22\", \"2024-05-23\", \"2024-05-25\", \"2024-05-28\", \"2024-05-29\", \"2024-05-30\", \"2024-05-31\", \"2024-06-02\", \"2024-06-04\", \"2024-06-05\", \"2024-06-06\", \"2024-06-12\", \"2024-06-15\", \"2024-06-16\", \"2024-06-18\", \"2024-06-20\", \"2024-06-21\", \"2024-06-25\", \"2024-06-26\", \"2024-06-27\", \"2024-06-28\", \"2024-06-29\", \"2024-06-30\", \"2024-07-01\", \"2024-07-05\", \"2024-07-06\", \"2024-07-09\", \"2024-07-11\", \"2024-07-15\", \"2024-07-19\", \"2024-07-23\", \"2024-07-25\", \"2024-07-28\", \"2024-07-30\", \"2024-07-31\", \"2024-08-02\", \"2024-08-03\", \"2024-08-04\", \"2024-08-06\", \"2024-08-08\", \"2024-08-09\", \"2024-08-10\", \"2024-08-15\", \"2024-08-16\", \"2024-08-20\", \"2024-08-21\", \"2024-08-24\", \"2024-08-25\", \"2024-08-27\", \"2024-08-29\", \"2024-08-30\", \"2024-08-31\", \"2024-09-01\", \"2024-09-02\", \"2024-09-03\", \"2024-09-05\", \"2024-09-12\", \"2024-09-13\", \"2024-09-16\", \"2024-09-17\", \"2024-09-18\", \"2024-09-20\", \"2024-09-23\", \"2024-09-24\", \"2024-09-25\", \"2024-09-27\", \"2024-09-28\", \"2024-09-29\", \"2024-09-30\", \"2024-10-01\", \"2024-10-02\", \"2024-10-03\", \"2024-10-04\", \"2024-10-07\", \"2024-10-08\", \"2024-10-09\", \"2024-10-10\", \"2024-10-14\", \"2024-10-15\", \"2024-10-19\", \"2024-10-23\", \"2024-10-26\", \"2024-10-27\", \"2024-10-28\", \"2024-10-29\", \"2024-10-30\", \"2024-10-31\", \"2024-11-02\", \"2024-11-03\", \"2024-11-06\", \"2024-11-08\", \"2024-11-11\", \"2024-11-12\", \"2024-11-16\", \"2024-11-19\", \"2024-11-20\", \"2024-11-21\", \"2024-11-22\", \"2024-11-23\", \"2024-11-24\", \"2024-11-25\", \"2024-11-29\", \"2024-11-30\", \"2024-12-01\", \"2024-12-02\", \"2024-12-04\", \"2024-12-05\", \"2024-12-06\", \"2024-12-08\", \"2024-12-09\", \"2024-12-15\", \"2024-12-16\", \"2024-12-20\", \"2024-12-22\", \"2024-12-23\", \"2024-12-24\", \"2024-12-25\", \"2024-12-26\", \"2024-12-27\", \"2024-12-28\", \"2024-12-29\", \"2024-12-30\", \"2024-12-31\", \"2025-01-01\", \"2025-01-02\", \"2025-01-03\", \"2025-01-04\", \"2025-01-05\", \"2025-01-06\", \"2025-01-07\", \"2025-01-09\", \"2025-01-10\", \"2025-01-11\", \"2025-01-12\", \"2025-01-13\", \"2025-01-14\", \"2025-01-15\", \"2025-01-21\", \"2025-01-22\", \"2025-01-23\", \"2025-01-24\", \"2025-01-29\", \"2025-01-30\", \"2025-01-31\", \"2025-02-01\", \"2025-02-10\", \"2025-02-11\", \"2025-02-16\", \"2025-02-25\", \"2025-02-27\", \"2025-02-28\", \"2025-03-07\", \"2025-03-13\", \"2025-03-15\", \"2025-03-16\", \"2025-03-17\", \"2025-03-18\", \"2025-03-21\", \"2025-03-23\", \"2025-03-24\", \"2025-03-25\", \"2025-03-27\", \"2025-03-28\", \"2025-03-30\", \"2025-03-31\", \"2025-04-03\", \"2025-04-11\", \"2025-04-19\", \"2025-04-21\", \"2025-04-24\", \"2025-04-26\", \"2025-04-30\", \"2025-05-03\", \"2025-05-09\", \"2025-05-12\", \"2025-05-14\", \"2025-05-18\", \"2025-05-24\", \"2025-05-25\", \"2025-05-26\", \"2025-05-28\", \"2025-05-29\", \"2025-05-30\", \"2025-05-31\", \"2025-06-02\", \"2025-06-14\", \"2025-06-15\", \"2025-06-17\", \"2025-06-19\", \"2025-06-27\", \"2025-06-30\", \"2025-07-07\", \"2025-07-22\", \"2025-07-24\", \"2025-07-29\", \"2025-07-30\", \"2025-07-31\", \"2025-08-01\", \"2025-08-02\", \"2025-08-10\", \"2025-08-12\", \"2025-08-18\", \"2025-08-21\", \"2025-08-25\", \"2025-08-29\", \"2025-08-30\", \"2025-08-31\", \"2025-09-03\", \"2025-09-04\", \"2025-09-05\", \"2025-09-25\", \"2025-09-30\", \"2025-10-05\", \"2025-10-12\", \"2025-10-16\", \"2025-10-17\", \"2025-10-25\", \"2025-10-30\", \"2025-10-31\", \"2025-11-04\", \"2025-11-05\", \"2025-11-30\", \"2025-12-13\", \"2025-12-15\", \"2025-12-17\", \"2025-12-22\", \"2025-12-25\", \"2025-12-28\", \"2025-12-29\", \"2025-12-30\", \"2025-12-31\", \"2026-01-04\", \"2026-01-06\", \"2026-01-08\", \"2026-01-09\", \"2026-01-21\", \"2026-01-22\", \"2026-01-24\", \"2026-01-30\", \"2026-01-31\", \"2026-02-08\", \"2026-02-28\", \"2026-03-02\", \"2026-03-30\", \"2026-03-31\", \"2026-04-16\", \"2026-04-30\", \"2026-05-08\", \"2026-05-15\", \"2026-05-24\", \"2026-05-29\", \"2026-05-30\", \"2026-05-31\", \"2026-06-15\", \"2026-06-16\", \"2026-06-23\", \"2026-06-25\", \"2026-06-28\", \"2026-06-30\", \"2026-07-31\", \"2026-08-12\", \"2026-08-18\", \"2026-08-19\", \"2026-08-26\", \"2026-08-28\", \"2026-08-29\", \"2026-08-31\", \"2026-09-05\", \"2026-09-11\", \"2026-09-25\", \"2026-09-30\", \"2026-10-06\", \"2026-10-28\", \"2026-10-30\", \"2026-10-31\", \"2026-11-02\", \"2026-11-08\", \"2026-11-23\", \"2026-11-25\", \"2026-12-02\", \"2026-12-12\", \"2026-12-25\", \"2026-12-30\", \"2026-12-31\", \"2027-01-03\", \"2027-01-05\", \"2027-01-07\", \"2027-01-10\", \"2027-01-30\", \"2027-01-31\", \"2027-02-04\", \"2027-02-09\", \"2027-02-28\", \"2027-03-06\", \"2027-03-14\", \"2027-03-15\", \"2027-03-30\", \"2027-03-31\", \"2027-04-29\", \"2027-05-30\", \"2027-05-31\", \"2027-06-30\", \"2027-07-15\", \"2027-09-30\", \"2027-10-10\", \"2027-12-21\", \"2027-12-31\", \"2028-01-31\", \"2028-03-31\", \"2028-06-30\", \"2028-09-30\", \"2028-11-30\", \"2028-12-15\", \"2028-12-30\", \"2028-12-31\", \"2029-03-30\", \"2029-03-31\", \"2029-06-30\", \"2029-09-30\", \"2029-12-31\", \"2030-01-29\", \"2030-03-29\", \"2030-03-31\", \"2030-06-30\", \"2030-12-31\", \"2031-03-31\", \"2031-09-17\", \"2031-12-31\", \"2032-03-31\", \"2032-06-30\", \"2032-10-06\", \"2032-10-30\", \"2032-12-31\", \"2033-03-31\", \"2034-03-31\", \"2034-10-30\", \"2036-12-31\", \"2037-01-29\", \"2039-01-29\", \"2039-07-30\"], \"xaxis\": \"x\", \"y\": [3, 1, 1, 2, 1, 1, 1, 1, 1, 1, 1, 2, 1, 1, 8, 3, 3, 12, 12, 4, 13, 16, 9, 16, 1, 1, 1, 9, 1, 1, 1, 5, 2, 1, 2, 1, 1, 2, 1, 4, 61, 1, 1, 1, 1, 1, 2, 2, 3, 57, 1, 2, 1, 2, 1, 6, 1, 1, 8, 3, 2, 2, 1, 1, 4, 25, 1, 2, 4, 4, 3, 1, 1, 1, 1, 1, 1, 1, 2, 228, 3, 1, 2, 2, 1, 1, 3, 2, 2, 13, 30, 1, 5, 4, 1, 3, 10, 1, 1, 1, 2, 1, 1, 2, 4, 1, 30, 35, 1, 1, 6, 1, 1, 2, 1, 6, 1, 2, 4, 4, 8, 2, 4, 7, 9, 220, 1, 1, 2, 2, 6, 1, 3, 2, 2, 1, 2, 1, 1, 26, 38, 1, 1, 1, 1, 1, 1, 3, 2, 2, 3, 1, 1, 5, 1, 1, 3, 44, 1, 1, 1, 5, 1, 3, 9, 4, 2, 3, 2, 1, 2, 8, 6, 6, 4, 12, 168, 530, 7, 6, 22, 22, 11, 21, 32, 9, 9, 23, 4, 15, 5, 4, 1, 1, 2, 5, 8, 3, 2, 3, 24, 66, 3, 3, 3, 1, 1, 3, 1, 4, 1, 1, 11, 2, 1, 3, 4, 1, 2, 3, 1, 1, 3, 6, 7, 87, 1, 1, 3, 1, 4, 1, 1, 4, 2, 1, 3, 1, 4, 4, 6, 3, 4, 5, 94, 528, 4, 1, 2, 2, 1, 1, 1, 4, 2, 1, 1, 2, 2, 4, 1, 2, 2, 4, 3, 95, 3, 1, 2, 1, 2, 1, 2, 6, 1, 2, 1, 6, 1, 1, 3, 10, 1, 8, 2, 1, 5, 2, 31, 56, 3, 2, 2, 2, 1, 3, 2, 4, 1, 2, 1, 2, 3, 3, 3, 17, 9, 3, 4, 5, 4, 14, 16, 747, 1, 1, 7, 1, 2, 1, 1, 2, 1, 11, 3, 1, 3, 1, 1, 1, 10, 6, 2, 51, 1, 5, 41, 1, 1, 1, 1, 2, 3, 9, 1, 1, 2, 1, 3, 2, 2, 1, 1, 4, 2, 2, 13, 27, 42, 1, 1, 1, 1, 10, 1, 15, 3, 4, 2, 1, 1, 1, 4, 2, 5, 1, 5, 4, 9, 429, 2, 5, 2, 1, 2, 1, 1, 9, 3, 1, 2, 4, 11, 1, 2, 1, 2, 6, 6, 53, 45, 2, 1, 1, 1, 1, 1, 1, 2, 3, 6, 1, 1, 4, 1, 1, 2, 1, 1, 3, 55, 1, 2, 1, 3, 2, 2, 1, 7, 2, 2, 9, 1, 8, 1, 2, 5, 3, 13, 6, 19, 95, 608, 12, 5, 23, 26, 1, 4, 24, 10, 7, 14, 3, 7, 3, 1, 5, 1, 3, 2, 6, 1, 3, 1, 3, 4, 4, 13, 20, 2, 1, 1, 1, 1, 1, 1, 7, 1, 5, 1, 1, 1, 2, 4, 1, 3, 21, 43, 1, 1, 4, 3, 1, 1, 2, 3, 2, 2, 1, 1, 1, 1, 1, 1, 5, 6, 80, 290, 1, 1, 2, 1, 1, 2, 1, 3, 2, 1, 2, 2, 1, 3, 3, 1, 4, 59, 2, 2, 1, 1, 27, 4, 2, 1, 1, 1, 1, 2, 1, 1, 11, 2, 5, 3, 21, 45, 4, 5, 2, 3, 2, 2, 2, 1, 6, 5, 2, 2, 3, 13, 6, 459, 1, 3, 1, 1, 1, 6, 1, 1, 1, 3, 10, 28, 1, 1, 1, 3, 2, 1, 2, 7, 1, 2, 3, 3, 2, 1, 1, 16, 18, 2, 1, 4, 1, 2, 1, 1, 3, 2, 4, 1, 1, 3, 3, 4, 2, 293, 1, 1, 2, 5, 1, 2, 3, 1, 3, 5, 1, 1, 2, 1, 3, 2, 20, 40, 3, 2, 1, 1, 2, 2, 1, 1, 1, 3, 4, 1, 1, 2, 7, 40, 1, 4, 2, 4, 1, 1, 1, 3, 2, 3, 6, 2, 3, 11, 3, 4, 5, 10, 48, 282, 3, 2, 1, 12, 1, 19, 10, 10, 2, 1, 1, 1, 5, 1, 1, 1, 1, 3, 5, 3, 9, 2, 1, 6, 3, 13, 3, 28, 2, 1, 1, 1, 1, 1, 2, 1, 1, 1, 7, 1, 14, 150, 1, 1, 7, 6, 4, 1, 9, 1, 1, 1, 1, 1, 2, 3, 1, 1, 2, 9, 15, 4, 2, 5, 1, 2, 7, 213, 1, 1, 1, 1, 3, 8, 2, 1, 1, 1, 1, 1, 1, 8, 2, 6, 1, 2, 1, 4, 78, 1, 1, 1, 1, 2, 24, 15, 14, 1, 4, 1, 2, 1, 2, 6, 2, 1, 31, 90, 3, 1, 1, 1, 1, 13, 3, 1, 1, 5, 2, 1, 2, 45, 1, 6, 1, 1, 1, 1, 4, 1, 3, 1, 1, 1, 1, 68, 2, 1, 2, 8, 3, 1, 1, 1, 2, 1, 1, 28, 2, 5, 3, 21, 2, 1, 1, 1, 2, 1, 6, 1, 37, 2, 1, 2, 2, 1, 1, 1, 1, 4, 2, 3, 2, 2, 7, 1, 1, 1, 15, 1, 5, 1, 1, 5, 3, 8, 5, 1, 1, 1, 1, 6, 4, 7, 4, 1, 6, 1, 2, 3, 3, 6, 3, 1, 3, 4, 2, 2, 1, 1, 1, 1, 1, 1, 1, 1, 1], \"yaxis\": \"y\"}],                        {\"legend\": {\"tracegroupgap\": 0}, \"margin\": {\"t\": 60}, \"template\": {\"data\": {\"bar\": [{\"error_x\": {\"color\": \"#2a3f5f\"}, \"error_y\": {\"color\": \"#2a3f5f\"}, \"marker\": {\"line\": {\"color\": \"#E5ECF6\", \"width\": 0.5}}, \"type\": \"bar\"}], \"barpolar\": [{\"marker\": {\"line\": {\"color\": \"#E5ECF6\", \"width\": 0.5}}, \"type\": \"barpolar\"}], \"carpet\": [{\"aaxis\": {\"endlinecolor\": \"#2a3f5f\", \"gridcolor\": \"white\", \"linecolor\": \"white\", \"minorgridcolor\": \"white\", \"startlinecolor\": \"#2a3f5f\"}, \"baxis\": {\"endlinecolor\": \"#2a3f5f\", \"gridcolor\": \"white\", \"linecolor\": \"white\", \"minorgridcolor\": \"white\", \"startlinecolor\": \"#2a3f5f\"}, \"type\": \"carpet\"}], \"choropleth\": [{\"colorbar\": {\"outlinewidth\": 0, \"ticks\": \"\"}, \"type\": \"choropleth\"}], \"contour\": [{\"colorbar\": {\"outlinewidth\": 0, \"ticks\": \"\"}, \"colorscale\": [[0.0, \"#0d0887\"], [0.1111111111111111, \"#46039f\"], [0.2222222222222222, \"#7201a8\"], [0.3333333333333333, \"#9c179e\"], [0.4444444444444444, \"#bd3786\"], [0.5555555555555556, \"#d8576b\"], [0.6666666666666666, \"#ed7953\"], [0.7777777777777778, \"#fb9f3a\"], [0.8888888888888888, \"#fdca26\"], [1.0, \"#f0f921\"]], \"type\": \"contour\"}], \"contourcarpet\": [{\"colorbar\": {\"outlinewidth\": 0, \"ticks\": \"\"}, \"type\": \"contourcarpet\"}], \"heatmap\": [{\"colorbar\": {\"outlinewidth\": 0, \"ticks\": \"\"}, \"colorscale\": [[0.0, \"#0d0887\"], [0.1111111111111111, \"#46039f\"], [0.2222222222222222, \"#7201a8\"], [0.3333333333333333, \"#9c179e\"], [0.4444444444444444, \"#bd3786\"], [0.5555555555555556, \"#d8576b\"], [0.6666666666666666, \"#ed7953\"], [0.7777777777777778, \"#fb9f3a\"], [0.8888888888888888, \"#fdca26\"], [1.0, \"#f0f921\"]], \"type\": \"heatmap\"}], \"heatmapgl\": [{\"colorbar\": {\"outlinewidth\": 0, \"ticks\": \"\"}, \"colorscale\": [[0.0, \"#0d0887\"], [0.1111111111111111, \"#46039f\"], [0.2222222222222222, \"#7201a8\"], [0.3333333333333333, \"#9c179e\"], [0.4444444444444444, \"#bd3786\"], [0.5555555555555556, \"#d8576b\"], [0.6666666666666666, \"#ed7953\"], [0.7777777777777778, \"#fb9f3a\"], [0.8888888888888888, \"#fdca26\"], [1.0, \"#f0f921\"]], \"type\": \"heatmapgl\"}], \"histogram\": [{\"marker\": {\"colorbar\": {\"outlinewidth\": 0, \"ticks\": \"\"}}, \"type\": \"histogram\"}], \"histogram2d\": [{\"colorbar\": {\"outlinewidth\": 0, \"ticks\": \"\"}, \"colorscale\": [[0.0, \"#0d0887\"], [0.1111111111111111, \"#46039f\"], [0.2222222222222222, \"#7201a8\"], [0.3333333333333333, \"#9c179e\"], [0.4444444444444444, \"#bd3786\"], [0.5555555555555556, \"#d8576b\"], [0.6666666666666666, \"#ed7953\"], [0.7777777777777778, \"#fb9f3a\"], [0.8888888888888888, \"#fdca26\"], [1.0, \"#f0f921\"]], \"type\": \"histogram2d\"}], \"histogram2dcontour\": [{\"colorbar\": {\"outlinewidth\": 0, \"ticks\": \"\"}, \"colorscale\": [[0.0, \"#0d0887\"], [0.1111111111111111, \"#46039f\"], [0.2222222222222222, \"#7201a8\"], [0.3333333333333333, \"#9c179e\"], [0.4444444444444444, \"#bd3786\"], [0.5555555555555556, \"#d8576b\"], [0.6666666666666666, \"#ed7953\"], [0.7777777777777778, \"#fb9f3a\"], [0.8888888888888888, \"#fdca26\"], [1.0, \"#f0f921\"]], \"type\": \"histogram2dcontour\"}], \"mesh3d\": [{\"colorbar\": {\"outlinewidth\": 0, \"ticks\": \"\"}, \"type\": \"mesh3d\"}], \"parcoords\": [{\"line\": {\"colorbar\": {\"outlinewidth\": 0, \"ticks\": \"\"}}, \"type\": \"parcoords\"}], \"pie\": [{\"automargin\": true, \"type\": \"pie\"}], \"scatter\": [{\"marker\": {\"colorbar\": {\"outlinewidth\": 0, \"ticks\": \"\"}}, \"type\": \"scatter\"}], \"scatter3d\": [{\"line\": {\"colorbar\": {\"outlinewidth\": 0, \"ticks\": \"\"}}, \"marker\": {\"colorbar\": {\"outlinewidth\": 0, \"ticks\": \"\"}}, \"type\": \"scatter3d\"}], \"scattercarpet\": [{\"marker\": {\"colorbar\": {\"outlinewidth\": 0, \"ticks\": \"\"}}, \"type\": \"scattercarpet\"}], \"scattergeo\": [{\"marker\": {\"colorbar\": {\"outlinewidth\": 0, \"ticks\": \"\"}}, \"type\": \"scattergeo\"}], \"scattergl\": [{\"marker\": {\"colorbar\": {\"outlinewidth\": 0, \"ticks\": \"\"}}, \"type\": \"scattergl\"}], \"scattermapbox\": [{\"marker\": {\"colorbar\": {\"outlinewidth\": 0, \"ticks\": \"\"}}, \"type\": \"scattermapbox\"}], \"scatterpolar\": [{\"marker\": {\"colorbar\": {\"outlinewidth\": 0, \"ticks\": \"\"}}, \"type\": \"scatterpolar\"}], \"scatterpolargl\": [{\"marker\": {\"colorbar\": {\"outlinewidth\": 0, \"ticks\": \"\"}}, \"type\": \"scatterpolargl\"}], \"scatterternary\": [{\"marker\": {\"colorbar\": {\"outlinewidth\": 0, \"ticks\": \"\"}}, \"type\": \"scatterternary\"}], \"surface\": [{\"colorbar\": {\"outlinewidth\": 0, \"ticks\": \"\"}, \"colorscale\": [[0.0, \"#0d0887\"], [0.1111111111111111, \"#46039f\"], [0.2222222222222222, \"#7201a8\"], [0.3333333333333333, \"#9c179e\"], [0.4444444444444444, \"#bd3786\"], [0.5555555555555556, \"#d8576b\"], [0.6666666666666666, \"#ed7953\"], [0.7777777777777778, \"#fb9f3a\"], [0.8888888888888888, \"#fdca26\"], [1.0, \"#f0f921\"]], \"type\": \"surface\"}], \"table\": [{\"cells\": {\"fill\": {\"color\": \"#EBF0F8\"}, \"line\": {\"color\": \"white\"}}, \"header\": {\"fill\": {\"color\": \"#C8D4E3\"}, \"line\": {\"color\": \"white\"}}, \"type\": \"table\"}]}, \"layout\": {\"annotationdefaults\": {\"arrowcolor\": \"#2a3f5f\", \"arrowhead\": 0, \"arrowwidth\": 1}, \"autotypenumbers\": \"strict\", \"coloraxis\": {\"colorbar\": {\"outlinewidth\": 0, \"ticks\": \"\"}}, \"colorscale\": {\"diverging\": [[0, \"#8e0152\"], [0.1, \"#c51b7d\"], [0.2, \"#de77ae\"], [0.3, \"#f1b6da\"], [0.4, \"#fde0ef\"], [0.5, \"#f7f7f7\"], [0.6, \"#e6f5d0\"], [0.7, \"#b8e186\"], [0.8, \"#7fbc41\"], [0.9, \"#4d9221\"], [1, \"#276419\"]], \"sequential\": [[0.0, \"#0d0887\"], [0.1111111111111111, \"#46039f\"], [0.2222222222222222, \"#7201a8\"], [0.3333333333333333, \"#9c179e\"], [0.4444444444444444, \"#bd3786\"], [0.5555555555555556, \"#d8576b\"], [0.6666666666666666, \"#ed7953\"], [0.7777777777777778, \"#fb9f3a\"], [0.8888888888888888, \"#fdca26\"], [1.0, \"#f0f921\"]], \"sequentialminus\": [[0.0, \"#0d0887\"], [0.1111111111111111, \"#46039f\"], [0.2222222222222222, \"#7201a8\"], [0.3333333333333333, \"#9c179e\"], [0.4444444444444444, \"#bd3786\"], [0.5555555555555556, \"#d8576b\"], [0.6666666666666666, \"#ed7953\"], [0.7777777777777778, \"#fb9f3a\"], [0.8888888888888888, \"#fdca26\"], [1.0, \"#f0f921\"]]}, \"colorway\": [\"#636efa\", \"#EF553B\", \"#00cc96\", \"#ab63fa\", \"#FFA15A\", \"#19d3f3\", \"#FF6692\", \"#B6E880\", \"#FF97FF\", \"#FECB52\"], \"font\": {\"color\": \"#2a3f5f\"}, \"geo\": {\"bgcolor\": \"white\", \"lakecolor\": \"white\", \"landcolor\": \"#E5ECF6\", \"showlakes\": true, \"showland\": true, \"subunitcolor\": \"white\"}, \"hoverlabel\": {\"align\": \"left\"}, \"hovermode\": \"closest\", \"mapbox\": {\"style\": \"light\"}, \"paper_bgcolor\": \"white\", \"plot_bgcolor\": \"#E5ECF6\", \"polar\": {\"angularaxis\": {\"gridcolor\": \"white\", \"linecolor\": \"white\", \"ticks\": \"\"}, \"bgcolor\": \"#E5ECF6\", \"radialaxis\": {\"gridcolor\": \"white\", \"linecolor\": \"white\", \"ticks\": \"\"}}, \"scene\": {\"xaxis\": {\"backgroundcolor\": \"#E5ECF6\", \"gridcolor\": \"white\", \"gridwidth\": 2, \"linecolor\": \"white\", \"showbackground\": true, \"ticks\": \"\", \"zerolinecolor\": \"white\"}, \"yaxis\": {\"backgroundcolor\": \"#E5ECF6\", \"gridcolor\": \"white\", \"gridwidth\": 2, \"linecolor\": \"white\", \"showbackground\": true, \"ticks\": \"\", \"zerolinecolor\": \"white\"}, \"zaxis\": {\"backgroundcolor\": \"#E5ECF6\", \"gridcolor\": \"white\", \"gridwidth\": 2, \"linecolor\": \"white\", \"showbackground\": true, \"ticks\": \"\", \"zerolinecolor\": \"white\"}}, \"shapedefaults\": {\"line\": {\"color\": \"#2a3f5f\"}}, \"ternary\": {\"aaxis\": {\"gridcolor\": \"white\", \"linecolor\": \"white\", \"ticks\": \"\"}, \"baxis\": {\"gridcolor\": \"white\", \"linecolor\": \"white\", \"ticks\": \"\"}, \"bgcolor\": \"#E5ECF6\", \"caxis\": {\"gridcolor\": \"white\", \"linecolor\": \"white\", \"ticks\": \"\"}}, \"title\": {\"x\": 0.05}, \"xaxis\": {\"automargin\": true, \"gridcolor\": \"white\", \"linecolor\": \"white\", \"ticks\": \"\", \"title\": {\"standoff\": 15}, \"zerolinecolor\": \"white\", \"zerolinewidth\": 2}, \"yaxis\": {\"automargin\": true, \"gridcolor\": \"white\", \"linecolor\": \"white\", \"ticks\": \"\", \"title\": {\"standoff\": 15}, \"zerolinecolor\": \"white\", \"zerolinewidth\": 2}}}, \"title\": {\"text\": \"\\u0413\\u0440\\u0430\\u0444\\u0438\\u043a \\u0432\\u044b\\u0434\\u0430\\u0447\\u0438 \\u043a\\u043b\\u044e\\u0447\\u0435\\u0439 \\u043f\\u043e \\u0432\\u0441\\u0435\\u0439 \\u0420\\u043e\\u0441\\u0441\\u0438\\u0438\"}, \"xaxis\": {\"anchor\": \"y\", \"domain\": [0.0, 1.0], \"title\": {\"text\": \"\\u0414\\u0430\\u0442\\u0430\"}}, \"yaxis\": {\"anchor\": \"x\", \"domain\": [0.0, 1.0], \"title\": {\"text\": \"\\u041a\\u043e\\u043b-\\u0432\\u043e \\u0434\\u043e\\u043c\\u043e\\u0432\"}}},                        {\"responsive\": true}                    ).then(function(){\n",
       "                            \n",
       "var gd = document.getElementById('be3a8ee2-285e-410d-a058-9fbbd84be775');\n",
       "var x = new MutationObserver(function (mutations, observer) {{\n",
       "        var display = window.getComputedStyle(gd).display;\n",
       "        if (!display || display === 'none') {{\n",
       "            console.log([gd, 'removed!']);\n",
       "            Plotly.purge(gd);\n",
       "            observer.disconnect();\n",
       "        }}\n",
       "}});\n",
       "\n",
       "// Listen for the removal of the full notebook cells\n",
       "var notebookContainer = gd.closest('#notebook-container');\n",
       "if (notebookContainer) {{\n",
       "    x.observe(notebookContainer, {childList: true});\n",
       "}}\n",
       "\n",
       "// Listen for the clearing of the current output cell\n",
       "var outputEl = gd.closest('.output');\n",
       "if (outputEl) {{\n",
       "    x.observe(outputEl, {childList: true});\n",
       "}}\n",
       "\n",
       "                        })                };                });            </script>        </div>"
      ]
     },
     "metadata": {},
     "output_type": "display_data"
    }
   ],
   "source": [
    "df = df_dom.groupby('objTransferPlanDt').agg({'objTransferPlanDt':'count'})\n",
    "fig = px.line(df, x=df.index, y='objTransferPlanDt',color_discrete_sequence  = ['green'])\n",
    "fig.update_layout(xaxis_title=\"Дата\",yaxis_title=\"Кол-во домов\", title='График выдачи ключей по всей России')\n",
    "fig.update_traces(hoverinfo=\"all\", hovertemplate=\"Дата: %{x}<br>Кол-во домов: %{y}\")\n",
    "fig.show()"
   ]
  },
  {
   "cell_type": "code",
   "execution_count": 124,
   "metadata": {
    "colab": {
     "base_uri": "https://localhost:8080/",
     "height": 542
    },
    "id": "i9shde0uYhI_",
    "outputId": "a8e2eb95-489e-4eb9-d16a-eb27f44a90a0"
   },
   "outputs": [
    {
     "data": {
      "application/vnd.plotly.v1+json": {
       "config": {
        "plotlyServerURL": "https://plot.ly"
       },
       "data": [
        {
         "alignmentgroup": "True",
         "hoverinfo": "all",
         "hovertemplate": "Тип: %{x}<br>Кол-во: %{y}",
         "legendgroup": "",
         "marker": {
          "color": "orchid"
         },
         "name": "",
         "offsetgroup": "",
         "orientation": "v",
         "showlegend": false,
         "textposition": "auto",
         "type": "bar",
         "x": [
          "Без отделки",
          "Другое",
          "По желанию заказчика",
          "Под ключ",
          "Под чистовую"
         ],
         "xaxis": "x",
         "y": [
          4714,
          992,
          1224,
          1272,
          1877
         ],
         "yaxis": "y"
        }
       ],
       "layout": {
        "barmode": "relative",
        "legend": {
         "tracegroupgap": 0
        },
        "margin": {
         "t": 60
        },
        "template": {
         "data": {
          "bar": [
           {
            "error_x": {
             "color": "#2a3f5f"
            },
            "error_y": {
             "color": "#2a3f5f"
            },
            "marker": {
             "line": {
              "color": "#E5ECF6",
              "width": 0.5
             }
            },
            "type": "bar"
           }
          ],
          "barpolar": [
           {
            "marker": {
             "line": {
              "color": "#E5ECF6",
              "width": 0.5
             }
            },
            "type": "barpolar"
           }
          ],
          "carpet": [
           {
            "aaxis": {
             "endlinecolor": "#2a3f5f",
             "gridcolor": "white",
             "linecolor": "white",
             "minorgridcolor": "white",
             "startlinecolor": "#2a3f5f"
            },
            "baxis": {
             "endlinecolor": "#2a3f5f",
             "gridcolor": "white",
             "linecolor": "white",
             "minorgridcolor": "white",
             "startlinecolor": "#2a3f5f"
            },
            "type": "carpet"
           }
          ],
          "choropleth": [
           {
            "colorbar": {
             "outlinewidth": 0,
             "ticks": ""
            },
            "type": "choropleth"
           }
          ],
          "contour": [
           {
            "colorbar": {
             "outlinewidth": 0,
             "ticks": ""
            },
            "colorscale": [
             [
              0,
              "#0d0887"
             ],
             [
              0.1111111111111111,
              "#46039f"
             ],
             [
              0.2222222222222222,
              "#7201a8"
             ],
             [
              0.3333333333333333,
              "#9c179e"
             ],
             [
              0.4444444444444444,
              "#bd3786"
             ],
             [
              0.5555555555555556,
              "#d8576b"
             ],
             [
              0.6666666666666666,
              "#ed7953"
             ],
             [
              0.7777777777777778,
              "#fb9f3a"
             ],
             [
              0.8888888888888888,
              "#fdca26"
             ],
             [
              1,
              "#f0f921"
             ]
            ],
            "type": "contour"
           }
          ],
          "contourcarpet": [
           {
            "colorbar": {
             "outlinewidth": 0,
             "ticks": ""
            },
            "type": "contourcarpet"
           }
          ],
          "heatmap": [
           {
            "colorbar": {
             "outlinewidth": 0,
             "ticks": ""
            },
            "colorscale": [
             [
              0,
              "#0d0887"
             ],
             [
              0.1111111111111111,
              "#46039f"
             ],
             [
              0.2222222222222222,
              "#7201a8"
             ],
             [
              0.3333333333333333,
              "#9c179e"
             ],
             [
              0.4444444444444444,
              "#bd3786"
             ],
             [
              0.5555555555555556,
              "#d8576b"
             ],
             [
              0.6666666666666666,
              "#ed7953"
             ],
             [
              0.7777777777777778,
              "#fb9f3a"
             ],
             [
              0.8888888888888888,
              "#fdca26"
             ],
             [
              1,
              "#f0f921"
             ]
            ],
            "type": "heatmap"
           }
          ],
          "heatmapgl": [
           {
            "colorbar": {
             "outlinewidth": 0,
             "ticks": ""
            },
            "colorscale": [
             [
              0,
              "#0d0887"
             ],
             [
              0.1111111111111111,
              "#46039f"
             ],
             [
              0.2222222222222222,
              "#7201a8"
             ],
             [
              0.3333333333333333,
              "#9c179e"
             ],
             [
              0.4444444444444444,
              "#bd3786"
             ],
             [
              0.5555555555555556,
              "#d8576b"
             ],
             [
              0.6666666666666666,
              "#ed7953"
             ],
             [
              0.7777777777777778,
              "#fb9f3a"
             ],
             [
              0.8888888888888888,
              "#fdca26"
             ],
             [
              1,
              "#f0f921"
             ]
            ],
            "type": "heatmapgl"
           }
          ],
          "histogram": [
           {
            "marker": {
             "colorbar": {
              "outlinewidth": 0,
              "ticks": ""
             }
            },
            "type": "histogram"
           }
          ],
          "histogram2d": [
           {
            "colorbar": {
             "outlinewidth": 0,
             "ticks": ""
            },
            "colorscale": [
             [
              0,
              "#0d0887"
             ],
             [
              0.1111111111111111,
              "#46039f"
             ],
             [
              0.2222222222222222,
              "#7201a8"
             ],
             [
              0.3333333333333333,
              "#9c179e"
             ],
             [
              0.4444444444444444,
              "#bd3786"
             ],
             [
              0.5555555555555556,
              "#d8576b"
             ],
             [
              0.6666666666666666,
              "#ed7953"
             ],
             [
              0.7777777777777778,
              "#fb9f3a"
             ],
             [
              0.8888888888888888,
              "#fdca26"
             ],
             [
              1,
              "#f0f921"
             ]
            ],
            "type": "histogram2d"
           }
          ],
          "histogram2dcontour": [
           {
            "colorbar": {
             "outlinewidth": 0,
             "ticks": ""
            },
            "colorscale": [
             [
              0,
              "#0d0887"
             ],
             [
              0.1111111111111111,
              "#46039f"
             ],
             [
              0.2222222222222222,
              "#7201a8"
             ],
             [
              0.3333333333333333,
              "#9c179e"
             ],
             [
              0.4444444444444444,
              "#bd3786"
             ],
             [
              0.5555555555555556,
              "#d8576b"
             ],
             [
              0.6666666666666666,
              "#ed7953"
             ],
             [
              0.7777777777777778,
              "#fb9f3a"
             ],
             [
              0.8888888888888888,
              "#fdca26"
             ],
             [
              1,
              "#f0f921"
             ]
            ],
            "type": "histogram2dcontour"
           }
          ],
          "mesh3d": [
           {
            "colorbar": {
             "outlinewidth": 0,
             "ticks": ""
            },
            "type": "mesh3d"
           }
          ],
          "parcoords": [
           {
            "line": {
             "colorbar": {
              "outlinewidth": 0,
              "ticks": ""
             }
            },
            "type": "parcoords"
           }
          ],
          "pie": [
           {
            "automargin": true,
            "type": "pie"
           }
          ],
          "scatter": [
           {
            "marker": {
             "colorbar": {
              "outlinewidth": 0,
              "ticks": ""
             }
            },
            "type": "scatter"
           }
          ],
          "scatter3d": [
           {
            "line": {
             "colorbar": {
              "outlinewidth": 0,
              "ticks": ""
             }
            },
            "marker": {
             "colorbar": {
              "outlinewidth": 0,
              "ticks": ""
             }
            },
            "type": "scatter3d"
           }
          ],
          "scattercarpet": [
           {
            "marker": {
             "colorbar": {
              "outlinewidth": 0,
              "ticks": ""
             }
            },
            "type": "scattercarpet"
           }
          ],
          "scattergeo": [
           {
            "marker": {
             "colorbar": {
              "outlinewidth": 0,
              "ticks": ""
             }
            },
            "type": "scattergeo"
           }
          ],
          "scattergl": [
           {
            "marker": {
             "colorbar": {
              "outlinewidth": 0,
              "ticks": ""
             }
            },
            "type": "scattergl"
           }
          ],
          "scattermapbox": [
           {
            "marker": {
             "colorbar": {
              "outlinewidth": 0,
              "ticks": ""
             }
            },
            "type": "scattermapbox"
           }
          ],
          "scatterpolar": [
           {
            "marker": {
             "colorbar": {
              "outlinewidth": 0,
              "ticks": ""
             }
            },
            "type": "scatterpolar"
           }
          ],
          "scatterpolargl": [
           {
            "marker": {
             "colorbar": {
              "outlinewidth": 0,
              "ticks": ""
             }
            },
            "type": "scatterpolargl"
           }
          ],
          "scatterternary": [
           {
            "marker": {
             "colorbar": {
              "outlinewidth": 0,
              "ticks": ""
             }
            },
            "type": "scatterternary"
           }
          ],
          "surface": [
           {
            "colorbar": {
             "outlinewidth": 0,
             "ticks": ""
            },
            "colorscale": [
             [
              0,
              "#0d0887"
             ],
             [
              0.1111111111111111,
              "#46039f"
             ],
             [
              0.2222222222222222,
              "#7201a8"
             ],
             [
              0.3333333333333333,
              "#9c179e"
             ],
             [
              0.4444444444444444,
              "#bd3786"
             ],
             [
              0.5555555555555556,
              "#d8576b"
             ],
             [
              0.6666666666666666,
              "#ed7953"
             ],
             [
              0.7777777777777778,
              "#fb9f3a"
             ],
             [
              0.8888888888888888,
              "#fdca26"
             ],
             [
              1,
              "#f0f921"
             ]
            ],
            "type": "surface"
           }
          ],
          "table": [
           {
            "cells": {
             "fill": {
              "color": "#EBF0F8"
             },
             "line": {
              "color": "white"
             }
            },
            "header": {
             "fill": {
              "color": "#C8D4E3"
             },
             "line": {
              "color": "white"
             }
            },
            "type": "table"
           }
          ]
         },
         "layout": {
          "annotationdefaults": {
           "arrowcolor": "#2a3f5f",
           "arrowhead": 0,
           "arrowwidth": 1
          },
          "autotypenumbers": "strict",
          "coloraxis": {
           "colorbar": {
            "outlinewidth": 0,
            "ticks": ""
           }
          },
          "colorscale": {
           "diverging": [
            [
             0,
             "#8e0152"
            ],
            [
             0.1,
             "#c51b7d"
            ],
            [
             0.2,
             "#de77ae"
            ],
            [
             0.3,
             "#f1b6da"
            ],
            [
             0.4,
             "#fde0ef"
            ],
            [
             0.5,
             "#f7f7f7"
            ],
            [
             0.6,
             "#e6f5d0"
            ],
            [
             0.7,
             "#b8e186"
            ],
            [
             0.8,
             "#7fbc41"
            ],
            [
             0.9,
             "#4d9221"
            ],
            [
             1,
             "#276419"
            ]
           ],
           "sequential": [
            [
             0,
             "#0d0887"
            ],
            [
             0.1111111111111111,
             "#46039f"
            ],
            [
             0.2222222222222222,
             "#7201a8"
            ],
            [
             0.3333333333333333,
             "#9c179e"
            ],
            [
             0.4444444444444444,
             "#bd3786"
            ],
            [
             0.5555555555555556,
             "#d8576b"
            ],
            [
             0.6666666666666666,
             "#ed7953"
            ],
            [
             0.7777777777777778,
             "#fb9f3a"
            ],
            [
             0.8888888888888888,
             "#fdca26"
            ],
            [
             1,
             "#f0f921"
            ]
           ],
           "sequentialminus": [
            [
             0,
             "#0d0887"
            ],
            [
             0.1111111111111111,
             "#46039f"
            ],
            [
             0.2222222222222222,
             "#7201a8"
            ],
            [
             0.3333333333333333,
             "#9c179e"
            ],
            [
             0.4444444444444444,
             "#bd3786"
            ],
            [
             0.5555555555555556,
             "#d8576b"
            ],
            [
             0.6666666666666666,
             "#ed7953"
            ],
            [
             0.7777777777777778,
             "#fb9f3a"
            ],
            [
             0.8888888888888888,
             "#fdca26"
            ],
            [
             1,
             "#f0f921"
            ]
           ]
          },
          "colorway": [
           "#636efa",
           "#EF553B",
           "#00cc96",
           "#ab63fa",
           "#FFA15A",
           "#19d3f3",
           "#FF6692",
           "#B6E880",
           "#FF97FF",
           "#FECB52"
          ],
          "font": {
           "color": "#2a3f5f"
          },
          "geo": {
           "bgcolor": "white",
           "lakecolor": "white",
           "landcolor": "#E5ECF6",
           "showlakes": true,
           "showland": true,
           "subunitcolor": "white"
          },
          "hoverlabel": {
           "align": "left"
          },
          "hovermode": "closest",
          "mapbox": {
           "style": "light"
          },
          "paper_bgcolor": "white",
          "plot_bgcolor": "#E5ECF6",
          "polar": {
           "angularaxis": {
            "gridcolor": "white",
            "linecolor": "white",
            "ticks": ""
           },
           "bgcolor": "#E5ECF6",
           "radialaxis": {
            "gridcolor": "white",
            "linecolor": "white",
            "ticks": ""
           }
          },
          "scene": {
           "xaxis": {
            "backgroundcolor": "#E5ECF6",
            "gridcolor": "white",
            "gridwidth": 2,
            "linecolor": "white",
            "showbackground": true,
            "ticks": "",
            "zerolinecolor": "white"
           },
           "yaxis": {
            "backgroundcolor": "#E5ECF6",
            "gridcolor": "white",
            "gridwidth": 2,
            "linecolor": "white",
            "showbackground": true,
            "ticks": "",
            "zerolinecolor": "white"
           },
           "zaxis": {
            "backgroundcolor": "#E5ECF6",
            "gridcolor": "white",
            "gridwidth": 2,
            "linecolor": "white",
            "showbackground": true,
            "ticks": "",
            "zerolinecolor": "white"
           }
          },
          "shapedefaults": {
           "line": {
            "color": "#2a3f5f"
           }
          },
          "ternary": {
           "aaxis": {
            "gridcolor": "white",
            "linecolor": "white",
            "ticks": ""
           },
           "baxis": {
            "gridcolor": "white",
            "linecolor": "white",
            "ticks": ""
           },
           "bgcolor": "#E5ECF6",
           "caxis": {
            "gridcolor": "white",
            "linecolor": "white",
            "ticks": ""
           }
          },
          "title": {
           "x": 0.05
          },
          "xaxis": {
           "automargin": true,
           "gridcolor": "white",
           "linecolor": "white",
           "ticks": "",
           "title": {
            "standoff": 15
           },
           "zerolinecolor": "white",
           "zerolinewidth": 2
          },
          "yaxis": {
           "automargin": true,
           "gridcolor": "white",
           "linecolor": "white",
           "ticks": "",
           "title": {
            "standoff": 15
           },
           "zerolinecolor": "white",
           "zerolinewidth": 2
          }
         }
        },
        "title": {
         "text": "Типы отделки квартир"
        },
        "xaxis": {
         "anchor": "y",
         "domain": [
          0,
          1
         ],
         "title": {
          "text": "Тип отделки"
         }
        },
        "yaxis": {
         "anchor": "x",
         "domain": [
          0,
          1
         ],
         "title": {
          "text": "Кол-во"
         }
        }
       }
      },
      "text/html": [
       "<div>                            <div id=\"3ba52c51-a928-4385-940e-fb7ffbe8959c\" class=\"plotly-graph-div\" style=\"height:525px; width:100%;\"></div>            <script type=\"text/javascript\">                require([\"plotly\"], function(Plotly) {                    window.PLOTLYENV=window.PLOTLYENV || {};                                    if (document.getElementById(\"3ba52c51-a928-4385-940e-fb7ffbe8959c\")) {                    Plotly.newPlot(                        \"3ba52c51-a928-4385-940e-fb7ffbe8959c\",                        [{\"alignmentgroup\": \"True\", \"hoverinfo\": \"all\", \"hovertemplate\": \"\\u0422\\u0438\\u043f: %{x}<br>\\u041a\\u043e\\u043b-\\u0432\\u043e: %{y}\", \"legendgroup\": \"\", \"marker\": {\"color\": \"orchid\"}, \"name\": \"\", \"offsetgroup\": \"\", \"orientation\": \"v\", \"showlegend\": false, \"textposition\": \"auto\", \"type\": \"bar\", \"x\": [\"\\u0411\\u0435\\u0437 \\u043e\\u0442\\u0434\\u0435\\u043b\\u043a\\u0438\", \"\\u0414\\u0440\\u0443\\u0433\\u043e\\u0435\", \"\\u041f\\u043e \\u0436\\u0435\\u043b\\u0430\\u043d\\u0438\\u044e \\u0437\\u0430\\u043a\\u0430\\u0437\\u0447\\u0438\\u043a\\u0430\", \"\\u041f\\u043e\\u0434 \\u043a\\u043b\\u044e\\u0447\", \"\\u041f\\u043e\\u0434 \\u0447\\u0438\\u0441\\u0442\\u043e\\u0432\\u0443\\u044e\"], \"xaxis\": \"x\", \"y\": [4714, 992, 1224, 1272, 1877], \"yaxis\": \"y\"}],                        {\"barmode\": \"relative\", \"legend\": {\"tracegroupgap\": 0}, \"margin\": {\"t\": 60}, \"template\": {\"data\": {\"bar\": [{\"error_x\": {\"color\": \"#2a3f5f\"}, \"error_y\": {\"color\": \"#2a3f5f\"}, \"marker\": {\"line\": {\"color\": \"#E5ECF6\", \"width\": 0.5}}, \"type\": \"bar\"}], \"barpolar\": [{\"marker\": {\"line\": {\"color\": \"#E5ECF6\", \"width\": 0.5}}, \"type\": \"barpolar\"}], \"carpet\": [{\"aaxis\": {\"endlinecolor\": \"#2a3f5f\", \"gridcolor\": \"white\", \"linecolor\": \"white\", \"minorgridcolor\": \"white\", \"startlinecolor\": \"#2a3f5f\"}, \"baxis\": {\"endlinecolor\": \"#2a3f5f\", \"gridcolor\": \"white\", \"linecolor\": \"white\", \"minorgridcolor\": \"white\", \"startlinecolor\": \"#2a3f5f\"}, \"type\": \"carpet\"}], \"choropleth\": [{\"colorbar\": {\"outlinewidth\": 0, \"ticks\": \"\"}, \"type\": \"choropleth\"}], \"contour\": [{\"colorbar\": {\"outlinewidth\": 0, \"ticks\": \"\"}, \"colorscale\": [[0.0, \"#0d0887\"], [0.1111111111111111, \"#46039f\"], [0.2222222222222222, \"#7201a8\"], [0.3333333333333333, \"#9c179e\"], [0.4444444444444444, \"#bd3786\"], [0.5555555555555556, \"#d8576b\"], [0.6666666666666666, \"#ed7953\"], [0.7777777777777778, \"#fb9f3a\"], [0.8888888888888888, \"#fdca26\"], [1.0, \"#f0f921\"]], \"type\": \"contour\"}], \"contourcarpet\": [{\"colorbar\": {\"outlinewidth\": 0, \"ticks\": \"\"}, \"type\": \"contourcarpet\"}], \"heatmap\": [{\"colorbar\": {\"outlinewidth\": 0, \"ticks\": \"\"}, \"colorscale\": [[0.0, \"#0d0887\"], [0.1111111111111111, \"#46039f\"], [0.2222222222222222, \"#7201a8\"], [0.3333333333333333, \"#9c179e\"], [0.4444444444444444, \"#bd3786\"], [0.5555555555555556, \"#d8576b\"], [0.6666666666666666, \"#ed7953\"], [0.7777777777777778, \"#fb9f3a\"], [0.8888888888888888, \"#fdca26\"], [1.0, \"#f0f921\"]], \"type\": \"heatmap\"}], \"heatmapgl\": [{\"colorbar\": {\"outlinewidth\": 0, \"ticks\": \"\"}, \"colorscale\": [[0.0, \"#0d0887\"], [0.1111111111111111, \"#46039f\"], [0.2222222222222222, \"#7201a8\"], [0.3333333333333333, \"#9c179e\"], [0.4444444444444444, \"#bd3786\"], [0.5555555555555556, \"#d8576b\"], [0.6666666666666666, \"#ed7953\"], [0.7777777777777778, \"#fb9f3a\"], [0.8888888888888888, \"#fdca26\"], [1.0, \"#f0f921\"]], \"type\": \"heatmapgl\"}], \"histogram\": [{\"marker\": {\"colorbar\": {\"outlinewidth\": 0, \"ticks\": \"\"}}, \"type\": \"histogram\"}], \"histogram2d\": [{\"colorbar\": {\"outlinewidth\": 0, \"ticks\": \"\"}, \"colorscale\": [[0.0, \"#0d0887\"], [0.1111111111111111, \"#46039f\"], [0.2222222222222222, \"#7201a8\"], [0.3333333333333333, \"#9c179e\"], [0.4444444444444444, \"#bd3786\"], [0.5555555555555556, \"#d8576b\"], [0.6666666666666666, \"#ed7953\"], [0.7777777777777778, \"#fb9f3a\"], [0.8888888888888888, \"#fdca26\"], [1.0, \"#f0f921\"]], \"type\": \"histogram2d\"}], \"histogram2dcontour\": [{\"colorbar\": {\"outlinewidth\": 0, \"ticks\": \"\"}, \"colorscale\": [[0.0, \"#0d0887\"], [0.1111111111111111, \"#46039f\"], [0.2222222222222222, \"#7201a8\"], [0.3333333333333333, \"#9c179e\"], [0.4444444444444444, \"#bd3786\"], [0.5555555555555556, \"#d8576b\"], [0.6666666666666666, \"#ed7953\"], [0.7777777777777778, \"#fb9f3a\"], [0.8888888888888888, \"#fdca26\"], [1.0, \"#f0f921\"]], \"type\": \"histogram2dcontour\"}], \"mesh3d\": [{\"colorbar\": {\"outlinewidth\": 0, \"ticks\": \"\"}, \"type\": \"mesh3d\"}], \"parcoords\": [{\"line\": {\"colorbar\": {\"outlinewidth\": 0, \"ticks\": \"\"}}, \"type\": \"parcoords\"}], \"pie\": [{\"automargin\": true, \"type\": \"pie\"}], \"scatter\": [{\"marker\": {\"colorbar\": {\"outlinewidth\": 0, \"ticks\": \"\"}}, \"type\": \"scatter\"}], \"scatter3d\": [{\"line\": {\"colorbar\": {\"outlinewidth\": 0, \"ticks\": \"\"}}, \"marker\": {\"colorbar\": {\"outlinewidth\": 0, \"ticks\": \"\"}}, \"type\": \"scatter3d\"}], \"scattercarpet\": [{\"marker\": {\"colorbar\": {\"outlinewidth\": 0, \"ticks\": \"\"}}, \"type\": \"scattercarpet\"}], \"scattergeo\": [{\"marker\": {\"colorbar\": {\"outlinewidth\": 0, \"ticks\": \"\"}}, \"type\": \"scattergeo\"}], \"scattergl\": [{\"marker\": {\"colorbar\": {\"outlinewidth\": 0, \"ticks\": \"\"}}, \"type\": \"scattergl\"}], \"scattermapbox\": [{\"marker\": {\"colorbar\": {\"outlinewidth\": 0, \"ticks\": \"\"}}, \"type\": \"scattermapbox\"}], \"scatterpolar\": [{\"marker\": {\"colorbar\": {\"outlinewidth\": 0, \"ticks\": \"\"}}, \"type\": \"scatterpolar\"}], \"scatterpolargl\": [{\"marker\": {\"colorbar\": {\"outlinewidth\": 0, \"ticks\": \"\"}}, \"type\": \"scatterpolargl\"}], \"scatterternary\": [{\"marker\": {\"colorbar\": {\"outlinewidth\": 0, \"ticks\": \"\"}}, \"type\": \"scatterternary\"}], \"surface\": [{\"colorbar\": {\"outlinewidth\": 0, \"ticks\": \"\"}, \"colorscale\": [[0.0, \"#0d0887\"], [0.1111111111111111, \"#46039f\"], [0.2222222222222222, \"#7201a8\"], [0.3333333333333333, \"#9c179e\"], [0.4444444444444444, \"#bd3786\"], [0.5555555555555556, \"#d8576b\"], [0.6666666666666666, \"#ed7953\"], [0.7777777777777778, \"#fb9f3a\"], [0.8888888888888888, \"#fdca26\"], [1.0, \"#f0f921\"]], \"type\": \"surface\"}], \"table\": [{\"cells\": {\"fill\": {\"color\": \"#EBF0F8\"}, \"line\": {\"color\": \"white\"}}, \"header\": {\"fill\": {\"color\": \"#C8D4E3\"}, \"line\": {\"color\": \"white\"}}, \"type\": \"table\"}]}, \"layout\": {\"annotationdefaults\": {\"arrowcolor\": \"#2a3f5f\", \"arrowhead\": 0, \"arrowwidth\": 1}, \"autotypenumbers\": \"strict\", \"coloraxis\": {\"colorbar\": {\"outlinewidth\": 0, \"ticks\": \"\"}}, \"colorscale\": {\"diverging\": [[0, \"#8e0152\"], [0.1, \"#c51b7d\"], [0.2, \"#de77ae\"], [0.3, \"#f1b6da\"], [0.4, \"#fde0ef\"], [0.5, \"#f7f7f7\"], [0.6, \"#e6f5d0\"], [0.7, \"#b8e186\"], [0.8, \"#7fbc41\"], [0.9, \"#4d9221\"], [1, \"#276419\"]], \"sequential\": [[0.0, \"#0d0887\"], [0.1111111111111111, \"#46039f\"], [0.2222222222222222, \"#7201a8\"], [0.3333333333333333, \"#9c179e\"], [0.4444444444444444, \"#bd3786\"], [0.5555555555555556, \"#d8576b\"], [0.6666666666666666, \"#ed7953\"], [0.7777777777777778, \"#fb9f3a\"], [0.8888888888888888, \"#fdca26\"], [1.0, \"#f0f921\"]], \"sequentialminus\": [[0.0, \"#0d0887\"], [0.1111111111111111, \"#46039f\"], [0.2222222222222222, \"#7201a8\"], [0.3333333333333333, \"#9c179e\"], [0.4444444444444444, \"#bd3786\"], [0.5555555555555556, \"#d8576b\"], [0.6666666666666666, \"#ed7953\"], [0.7777777777777778, \"#fb9f3a\"], [0.8888888888888888, \"#fdca26\"], [1.0, \"#f0f921\"]]}, \"colorway\": [\"#636efa\", \"#EF553B\", \"#00cc96\", \"#ab63fa\", \"#FFA15A\", \"#19d3f3\", \"#FF6692\", \"#B6E880\", \"#FF97FF\", \"#FECB52\"], \"font\": {\"color\": \"#2a3f5f\"}, \"geo\": {\"bgcolor\": \"white\", \"lakecolor\": \"white\", \"landcolor\": \"#E5ECF6\", \"showlakes\": true, \"showland\": true, \"subunitcolor\": \"white\"}, \"hoverlabel\": {\"align\": \"left\"}, \"hovermode\": \"closest\", \"mapbox\": {\"style\": \"light\"}, \"paper_bgcolor\": \"white\", \"plot_bgcolor\": \"#E5ECF6\", \"polar\": {\"angularaxis\": {\"gridcolor\": \"white\", \"linecolor\": \"white\", \"ticks\": \"\"}, \"bgcolor\": \"#E5ECF6\", \"radialaxis\": {\"gridcolor\": \"white\", \"linecolor\": \"white\", \"ticks\": \"\"}}, \"scene\": {\"xaxis\": {\"backgroundcolor\": \"#E5ECF6\", \"gridcolor\": \"white\", \"gridwidth\": 2, \"linecolor\": \"white\", \"showbackground\": true, \"ticks\": \"\", \"zerolinecolor\": \"white\"}, \"yaxis\": {\"backgroundcolor\": \"#E5ECF6\", \"gridcolor\": \"white\", \"gridwidth\": 2, \"linecolor\": \"white\", \"showbackground\": true, \"ticks\": \"\", \"zerolinecolor\": \"white\"}, \"zaxis\": {\"backgroundcolor\": \"#E5ECF6\", \"gridcolor\": \"white\", \"gridwidth\": 2, \"linecolor\": \"white\", \"showbackground\": true, \"ticks\": \"\", \"zerolinecolor\": \"white\"}}, \"shapedefaults\": {\"line\": {\"color\": \"#2a3f5f\"}}, \"ternary\": {\"aaxis\": {\"gridcolor\": \"white\", \"linecolor\": \"white\", \"ticks\": \"\"}, \"baxis\": {\"gridcolor\": \"white\", \"linecolor\": \"white\", \"ticks\": \"\"}, \"bgcolor\": \"#E5ECF6\", \"caxis\": {\"gridcolor\": \"white\", \"linecolor\": \"white\", \"ticks\": \"\"}}, \"title\": {\"x\": 0.05}, \"xaxis\": {\"automargin\": true, \"gridcolor\": \"white\", \"linecolor\": \"white\", \"ticks\": \"\", \"title\": {\"standoff\": 15}, \"zerolinecolor\": \"white\", \"zerolinewidth\": 2}, \"yaxis\": {\"automargin\": true, \"gridcolor\": \"white\", \"linecolor\": \"white\", \"ticks\": \"\", \"title\": {\"standoff\": 15}, \"zerolinecolor\": \"white\", \"zerolinewidth\": 2}}}, \"title\": {\"text\": \"\\u0422\\u0438\\u043f\\u044b \\u043e\\u0442\\u0434\\u0435\\u043b\\u043a\\u0438 \\u043a\\u0432\\u0430\\u0440\\u0442\\u0438\\u0440\"}, \"xaxis\": {\"anchor\": \"y\", \"domain\": [0.0, 1.0], \"title\": {\"text\": \"\\u0422\\u0438\\u043f \\u043e\\u0442\\u0434\\u0435\\u043b\\u043a\\u0438\"}}, \"yaxis\": {\"anchor\": \"x\", \"domain\": [0.0, 1.0], \"title\": {\"text\": \"\\u041a\\u043e\\u043b-\\u0432\\u043e\"}}},                        {\"responsive\": true}                    ).then(function(){\n",
       "                            \n",
       "var gd = document.getElementById('3ba52c51-a928-4385-940e-fb7ffbe8959c');\n",
       "var x = new MutationObserver(function (mutations, observer) {{\n",
       "        var display = window.getComputedStyle(gd).display;\n",
       "        if (!display || display === 'none') {{\n",
       "            console.log([gd, 'removed!']);\n",
       "            Plotly.purge(gd);\n",
       "            observer.disconnect();\n",
       "        }}\n",
       "}});\n",
       "\n",
       "// Listen for the removal of the full notebook cells\n",
       "var notebookContainer = gd.closest('#notebook-container');\n",
       "if (notebookContainer) {{\n",
       "    x.observe(notebookContainer, {childList: true});\n",
       "}}\n",
       "\n",
       "// Listen for the clearing of the current output cell\n",
       "var outputEl = gd.closest('.output');\n",
       "if (outputEl) {{\n",
       "    x.observe(outputEl, {childList: true});\n",
       "}}\n",
       "\n",
       "                        })                };                });            </script>        </div>"
      ]
     },
     "metadata": {},
     "output_type": "display_data"
    }
   ],
   "source": [
    "df = df_dom.groupby('objLkFinishTypeDesc').agg({'id':'count'})\n",
    "\n",
    "fig = px.bar(df, x=df.index, y='id',color_discrete_sequence  = ['orchid'])\n",
    "fig.update_layout(xaxis_title=\"Тип отделки\",yaxis_title=\"Кол-во\", title='Типы отделки квартир')\n",
    "fig.update_traces(hoverinfo=\"all\", hovertemplate=\"Тип: %{x}<br>Кол-во: %{y}\")\n",
    "fig.show()"
   ]
  },
  {
   "cell_type": "code",
   "execution_count": 11,
   "metadata": {
    "colab": {
     "base_uri": "https://localhost:8080/",
     "height": 542
    },
    "id": "0Hzz8MOra6KV",
    "outputId": "59dc48f5-2798-43bf-cfc7-baf6325c05a2"
   },
   "outputs": [
    {
     "data": {
      "application/vnd.plotly.v1+json": {
       "config": {
        "plotlyServerURL": "https://plot.ly"
       },
       "data": [
        {
         "alignmentgroup": "True",
         "hoverinfo": "all",
         "hovertemplate": "Класс: %{x}<br>Кол-во: %{y}",
         "legendgroup": "",
         "marker": {
          "color": "#636efa"
         },
         "name": "",
         "offsetgroup": "",
         "orientation": "v",
         "showlegend": false,
         "textposition": "auto",
         "type": "bar",
         "x": [
          "Бизнес",
          "Другое",
          "Комфорт",
          "Типовой",
          "Элитный"
         ],
         "xaxis": "x",
         "y": [
          917,
          16,
          5016,
          3931,
          199
         ],
         "yaxis": "y"
        }
       ],
       "layout": {
        "barmode": "relative",
        "legend": {
         "tracegroupgap": 0
        },
        "margin": {
         "t": 60
        },
        "template": {
         "data": {
          "bar": [
           {
            "error_x": {
             "color": "#2a3f5f"
            },
            "error_y": {
             "color": "#2a3f5f"
            },
            "marker": {
             "line": {
              "color": "#E5ECF6",
              "width": 0.5
             }
            },
            "type": "bar"
           }
          ],
          "barpolar": [
           {
            "marker": {
             "line": {
              "color": "#E5ECF6",
              "width": 0.5
             }
            },
            "type": "barpolar"
           }
          ],
          "carpet": [
           {
            "aaxis": {
             "endlinecolor": "#2a3f5f",
             "gridcolor": "white",
             "linecolor": "white",
             "minorgridcolor": "white",
             "startlinecolor": "#2a3f5f"
            },
            "baxis": {
             "endlinecolor": "#2a3f5f",
             "gridcolor": "white",
             "linecolor": "white",
             "minorgridcolor": "white",
             "startlinecolor": "#2a3f5f"
            },
            "type": "carpet"
           }
          ],
          "choropleth": [
           {
            "colorbar": {
             "outlinewidth": 0,
             "ticks": ""
            },
            "type": "choropleth"
           }
          ],
          "contour": [
           {
            "colorbar": {
             "outlinewidth": 0,
             "ticks": ""
            },
            "colorscale": [
             [
              0,
              "#0d0887"
             ],
             [
              0.1111111111111111,
              "#46039f"
             ],
             [
              0.2222222222222222,
              "#7201a8"
             ],
             [
              0.3333333333333333,
              "#9c179e"
             ],
             [
              0.4444444444444444,
              "#bd3786"
             ],
             [
              0.5555555555555556,
              "#d8576b"
             ],
             [
              0.6666666666666666,
              "#ed7953"
             ],
             [
              0.7777777777777778,
              "#fb9f3a"
             ],
             [
              0.8888888888888888,
              "#fdca26"
             ],
             [
              1,
              "#f0f921"
             ]
            ],
            "type": "contour"
           }
          ],
          "contourcarpet": [
           {
            "colorbar": {
             "outlinewidth": 0,
             "ticks": ""
            },
            "type": "contourcarpet"
           }
          ],
          "heatmap": [
           {
            "colorbar": {
             "outlinewidth": 0,
             "ticks": ""
            },
            "colorscale": [
             [
              0,
              "#0d0887"
             ],
             [
              0.1111111111111111,
              "#46039f"
             ],
             [
              0.2222222222222222,
              "#7201a8"
             ],
             [
              0.3333333333333333,
              "#9c179e"
             ],
             [
              0.4444444444444444,
              "#bd3786"
             ],
             [
              0.5555555555555556,
              "#d8576b"
             ],
             [
              0.6666666666666666,
              "#ed7953"
             ],
             [
              0.7777777777777778,
              "#fb9f3a"
             ],
             [
              0.8888888888888888,
              "#fdca26"
             ],
             [
              1,
              "#f0f921"
             ]
            ],
            "type": "heatmap"
           }
          ],
          "heatmapgl": [
           {
            "colorbar": {
             "outlinewidth": 0,
             "ticks": ""
            },
            "colorscale": [
             [
              0,
              "#0d0887"
             ],
             [
              0.1111111111111111,
              "#46039f"
             ],
             [
              0.2222222222222222,
              "#7201a8"
             ],
             [
              0.3333333333333333,
              "#9c179e"
             ],
             [
              0.4444444444444444,
              "#bd3786"
             ],
             [
              0.5555555555555556,
              "#d8576b"
             ],
             [
              0.6666666666666666,
              "#ed7953"
             ],
             [
              0.7777777777777778,
              "#fb9f3a"
             ],
             [
              0.8888888888888888,
              "#fdca26"
             ],
             [
              1,
              "#f0f921"
             ]
            ],
            "type": "heatmapgl"
           }
          ],
          "histogram": [
           {
            "marker": {
             "colorbar": {
              "outlinewidth": 0,
              "ticks": ""
             }
            },
            "type": "histogram"
           }
          ],
          "histogram2d": [
           {
            "colorbar": {
             "outlinewidth": 0,
             "ticks": ""
            },
            "colorscale": [
             [
              0,
              "#0d0887"
             ],
             [
              0.1111111111111111,
              "#46039f"
             ],
             [
              0.2222222222222222,
              "#7201a8"
             ],
             [
              0.3333333333333333,
              "#9c179e"
             ],
             [
              0.4444444444444444,
              "#bd3786"
             ],
             [
              0.5555555555555556,
              "#d8576b"
             ],
             [
              0.6666666666666666,
              "#ed7953"
             ],
             [
              0.7777777777777778,
              "#fb9f3a"
             ],
             [
              0.8888888888888888,
              "#fdca26"
             ],
             [
              1,
              "#f0f921"
             ]
            ],
            "type": "histogram2d"
           }
          ],
          "histogram2dcontour": [
           {
            "colorbar": {
             "outlinewidth": 0,
             "ticks": ""
            },
            "colorscale": [
             [
              0,
              "#0d0887"
             ],
             [
              0.1111111111111111,
              "#46039f"
             ],
             [
              0.2222222222222222,
              "#7201a8"
             ],
             [
              0.3333333333333333,
              "#9c179e"
             ],
             [
              0.4444444444444444,
              "#bd3786"
             ],
             [
              0.5555555555555556,
              "#d8576b"
             ],
             [
              0.6666666666666666,
              "#ed7953"
             ],
             [
              0.7777777777777778,
              "#fb9f3a"
             ],
             [
              0.8888888888888888,
              "#fdca26"
             ],
             [
              1,
              "#f0f921"
             ]
            ],
            "type": "histogram2dcontour"
           }
          ],
          "mesh3d": [
           {
            "colorbar": {
             "outlinewidth": 0,
             "ticks": ""
            },
            "type": "mesh3d"
           }
          ],
          "parcoords": [
           {
            "line": {
             "colorbar": {
              "outlinewidth": 0,
              "ticks": ""
             }
            },
            "type": "parcoords"
           }
          ],
          "pie": [
           {
            "automargin": true,
            "type": "pie"
           }
          ],
          "scatter": [
           {
            "marker": {
             "colorbar": {
              "outlinewidth": 0,
              "ticks": ""
             }
            },
            "type": "scatter"
           }
          ],
          "scatter3d": [
           {
            "line": {
             "colorbar": {
              "outlinewidth": 0,
              "ticks": ""
             }
            },
            "marker": {
             "colorbar": {
              "outlinewidth": 0,
              "ticks": ""
             }
            },
            "type": "scatter3d"
           }
          ],
          "scattercarpet": [
           {
            "marker": {
             "colorbar": {
              "outlinewidth": 0,
              "ticks": ""
             }
            },
            "type": "scattercarpet"
           }
          ],
          "scattergeo": [
           {
            "marker": {
             "colorbar": {
              "outlinewidth": 0,
              "ticks": ""
             }
            },
            "type": "scattergeo"
           }
          ],
          "scattergl": [
           {
            "marker": {
             "colorbar": {
              "outlinewidth": 0,
              "ticks": ""
             }
            },
            "type": "scattergl"
           }
          ],
          "scattermapbox": [
           {
            "marker": {
             "colorbar": {
              "outlinewidth": 0,
              "ticks": ""
             }
            },
            "type": "scattermapbox"
           }
          ],
          "scatterpolar": [
           {
            "marker": {
             "colorbar": {
              "outlinewidth": 0,
              "ticks": ""
             }
            },
            "type": "scatterpolar"
           }
          ],
          "scatterpolargl": [
           {
            "marker": {
             "colorbar": {
              "outlinewidth": 0,
              "ticks": ""
             }
            },
            "type": "scatterpolargl"
           }
          ],
          "scatterternary": [
           {
            "marker": {
             "colorbar": {
              "outlinewidth": 0,
              "ticks": ""
             }
            },
            "type": "scatterternary"
           }
          ],
          "surface": [
           {
            "colorbar": {
             "outlinewidth": 0,
             "ticks": ""
            },
            "colorscale": [
             [
              0,
              "#0d0887"
             ],
             [
              0.1111111111111111,
              "#46039f"
             ],
             [
              0.2222222222222222,
              "#7201a8"
             ],
             [
              0.3333333333333333,
              "#9c179e"
             ],
             [
              0.4444444444444444,
              "#bd3786"
             ],
             [
              0.5555555555555556,
              "#d8576b"
             ],
             [
              0.6666666666666666,
              "#ed7953"
             ],
             [
              0.7777777777777778,
              "#fb9f3a"
             ],
             [
              0.8888888888888888,
              "#fdca26"
             ],
             [
              1,
              "#f0f921"
             ]
            ],
            "type": "surface"
           }
          ],
          "table": [
           {
            "cells": {
             "fill": {
              "color": "#EBF0F8"
             },
             "line": {
              "color": "white"
             }
            },
            "header": {
             "fill": {
              "color": "#C8D4E3"
             },
             "line": {
              "color": "white"
             }
            },
            "type": "table"
           }
          ]
         },
         "layout": {
          "annotationdefaults": {
           "arrowcolor": "#2a3f5f",
           "arrowhead": 0,
           "arrowwidth": 1
          },
          "autotypenumbers": "strict",
          "coloraxis": {
           "colorbar": {
            "outlinewidth": 0,
            "ticks": ""
           }
          },
          "colorscale": {
           "diverging": [
            [
             0,
             "#8e0152"
            ],
            [
             0.1,
             "#c51b7d"
            ],
            [
             0.2,
             "#de77ae"
            ],
            [
             0.3,
             "#f1b6da"
            ],
            [
             0.4,
             "#fde0ef"
            ],
            [
             0.5,
             "#f7f7f7"
            ],
            [
             0.6,
             "#e6f5d0"
            ],
            [
             0.7,
             "#b8e186"
            ],
            [
             0.8,
             "#7fbc41"
            ],
            [
             0.9,
             "#4d9221"
            ],
            [
             1,
             "#276419"
            ]
           ],
           "sequential": [
            [
             0,
             "#0d0887"
            ],
            [
             0.1111111111111111,
             "#46039f"
            ],
            [
             0.2222222222222222,
             "#7201a8"
            ],
            [
             0.3333333333333333,
             "#9c179e"
            ],
            [
             0.4444444444444444,
             "#bd3786"
            ],
            [
             0.5555555555555556,
             "#d8576b"
            ],
            [
             0.6666666666666666,
             "#ed7953"
            ],
            [
             0.7777777777777778,
             "#fb9f3a"
            ],
            [
             0.8888888888888888,
             "#fdca26"
            ],
            [
             1,
             "#f0f921"
            ]
           ],
           "sequentialminus": [
            [
             0,
             "#0d0887"
            ],
            [
             0.1111111111111111,
             "#46039f"
            ],
            [
             0.2222222222222222,
             "#7201a8"
            ],
            [
             0.3333333333333333,
             "#9c179e"
            ],
            [
             0.4444444444444444,
             "#bd3786"
            ],
            [
             0.5555555555555556,
             "#d8576b"
            ],
            [
             0.6666666666666666,
             "#ed7953"
            ],
            [
             0.7777777777777778,
             "#fb9f3a"
            ],
            [
             0.8888888888888888,
             "#fdca26"
            ],
            [
             1,
             "#f0f921"
            ]
           ]
          },
          "colorway": [
           "#636efa",
           "#EF553B",
           "#00cc96",
           "#ab63fa",
           "#FFA15A",
           "#19d3f3",
           "#FF6692",
           "#B6E880",
           "#FF97FF",
           "#FECB52"
          ],
          "font": {
           "color": "#2a3f5f"
          },
          "geo": {
           "bgcolor": "white",
           "lakecolor": "white",
           "landcolor": "#E5ECF6",
           "showlakes": true,
           "showland": true,
           "subunitcolor": "white"
          },
          "hoverlabel": {
           "align": "left"
          },
          "hovermode": "closest",
          "mapbox": {
           "style": "light"
          },
          "paper_bgcolor": "white",
          "plot_bgcolor": "#E5ECF6",
          "polar": {
           "angularaxis": {
            "gridcolor": "white",
            "linecolor": "white",
            "ticks": ""
           },
           "bgcolor": "#E5ECF6",
           "radialaxis": {
            "gridcolor": "white",
            "linecolor": "white",
            "ticks": ""
           }
          },
          "scene": {
           "xaxis": {
            "backgroundcolor": "#E5ECF6",
            "gridcolor": "white",
            "gridwidth": 2,
            "linecolor": "white",
            "showbackground": true,
            "ticks": "",
            "zerolinecolor": "white"
           },
           "yaxis": {
            "backgroundcolor": "#E5ECF6",
            "gridcolor": "white",
            "gridwidth": 2,
            "linecolor": "white",
            "showbackground": true,
            "ticks": "",
            "zerolinecolor": "white"
           },
           "zaxis": {
            "backgroundcolor": "#E5ECF6",
            "gridcolor": "white",
            "gridwidth": 2,
            "linecolor": "white",
            "showbackground": true,
            "ticks": "",
            "zerolinecolor": "white"
           }
          },
          "shapedefaults": {
           "line": {
            "color": "#2a3f5f"
           }
          },
          "ternary": {
           "aaxis": {
            "gridcolor": "white",
            "linecolor": "white",
            "ticks": ""
           },
           "baxis": {
            "gridcolor": "white",
            "linecolor": "white",
            "ticks": ""
           },
           "bgcolor": "#E5ECF6",
           "caxis": {
            "gridcolor": "white",
            "linecolor": "white",
            "ticks": ""
           }
          },
          "title": {
           "x": 0.05
          },
          "xaxis": {
           "automargin": true,
           "gridcolor": "white",
           "linecolor": "white",
           "ticks": "",
           "title": {
            "standoff": 15
           },
           "zerolinecolor": "white",
           "zerolinewidth": 2
          },
          "yaxis": {
           "automargin": true,
           "gridcolor": "white",
           "linecolor": "white",
           "ticks": "",
           "title": {
            "standoff": 15
           },
           "zerolinecolor": "white",
           "zerolinewidth": 2
          }
         }
        },
        "title": {
         "text": "Класс квартир"
        },
        "xaxis": {
         "anchor": "y",
         "domain": [
          0,
          1
         ],
         "title": {
          "text": "Класс"
         }
        },
        "yaxis": {
         "anchor": "x",
         "domain": [
          0,
          1
         ],
         "title": {
          "text": "Кол-во"
         }
        }
       }
      },
      "text/html": [
       "<div>                            <div id=\"66bb7b0c-0ac5-4dd5-b130-76603965e8e4\" class=\"plotly-graph-div\" style=\"height:525px; width:100%;\"></div>            <script type=\"text/javascript\">                require([\"plotly\"], function(Plotly) {                    window.PLOTLYENV=window.PLOTLYENV || {};                                    if (document.getElementById(\"66bb7b0c-0ac5-4dd5-b130-76603965e8e4\")) {                    Plotly.newPlot(                        \"66bb7b0c-0ac5-4dd5-b130-76603965e8e4\",                        [{\"alignmentgroup\": \"True\", \"hoverinfo\": \"all\", \"hovertemplate\": \"\\u041a\\u043b\\u0430\\u0441\\u0441: %{x}<br>\\u041a\\u043e\\u043b-\\u0432\\u043e: %{y}\", \"legendgroup\": \"\", \"marker\": {\"color\": \"#636efa\"}, \"name\": \"\", \"offsetgroup\": \"\", \"orientation\": \"v\", \"showlegend\": false, \"textposition\": \"auto\", \"type\": \"bar\", \"x\": [\"\\u0411\\u0438\\u0437\\u043d\\u0435\\u0441\", \"\\u0414\\u0440\\u0443\\u0433\\u043e\\u0435\", \"\\u041a\\u043e\\u043c\\u0444\\u043e\\u0440\\u0442\", \"\\u0422\\u0438\\u043f\\u043e\\u0432\\u043e\\u0439\", \"\\u042d\\u043b\\u0438\\u0442\\u043d\\u044b\\u0439\"], \"xaxis\": \"x\", \"y\": [917, 16, 5016, 3931, 199], \"yaxis\": \"y\"}],                        {\"barmode\": \"relative\", \"legend\": {\"tracegroupgap\": 0}, \"margin\": {\"t\": 60}, \"template\": {\"data\": {\"bar\": [{\"error_x\": {\"color\": \"#2a3f5f\"}, \"error_y\": {\"color\": \"#2a3f5f\"}, \"marker\": {\"line\": {\"color\": \"#E5ECF6\", \"width\": 0.5}}, \"type\": \"bar\"}], \"barpolar\": [{\"marker\": {\"line\": {\"color\": \"#E5ECF6\", \"width\": 0.5}}, \"type\": \"barpolar\"}], \"carpet\": [{\"aaxis\": {\"endlinecolor\": \"#2a3f5f\", \"gridcolor\": \"white\", \"linecolor\": \"white\", \"minorgridcolor\": \"white\", \"startlinecolor\": \"#2a3f5f\"}, \"baxis\": {\"endlinecolor\": \"#2a3f5f\", \"gridcolor\": \"white\", \"linecolor\": \"white\", \"minorgridcolor\": \"white\", \"startlinecolor\": \"#2a3f5f\"}, \"type\": \"carpet\"}], \"choropleth\": [{\"colorbar\": {\"outlinewidth\": 0, \"ticks\": \"\"}, \"type\": \"choropleth\"}], \"contour\": [{\"colorbar\": {\"outlinewidth\": 0, \"ticks\": \"\"}, \"colorscale\": [[0.0, \"#0d0887\"], [0.1111111111111111, \"#46039f\"], [0.2222222222222222, \"#7201a8\"], [0.3333333333333333, \"#9c179e\"], [0.4444444444444444, \"#bd3786\"], [0.5555555555555556, \"#d8576b\"], [0.6666666666666666, \"#ed7953\"], [0.7777777777777778, \"#fb9f3a\"], [0.8888888888888888, \"#fdca26\"], [1.0, \"#f0f921\"]], \"type\": \"contour\"}], \"contourcarpet\": [{\"colorbar\": {\"outlinewidth\": 0, \"ticks\": \"\"}, \"type\": \"contourcarpet\"}], \"heatmap\": [{\"colorbar\": {\"outlinewidth\": 0, \"ticks\": \"\"}, \"colorscale\": [[0.0, \"#0d0887\"], [0.1111111111111111, \"#46039f\"], [0.2222222222222222, \"#7201a8\"], [0.3333333333333333, \"#9c179e\"], [0.4444444444444444, \"#bd3786\"], [0.5555555555555556, \"#d8576b\"], [0.6666666666666666, \"#ed7953\"], [0.7777777777777778, \"#fb9f3a\"], [0.8888888888888888, \"#fdca26\"], [1.0, \"#f0f921\"]], \"type\": \"heatmap\"}], \"heatmapgl\": [{\"colorbar\": {\"outlinewidth\": 0, \"ticks\": \"\"}, \"colorscale\": [[0.0, \"#0d0887\"], [0.1111111111111111, \"#46039f\"], [0.2222222222222222, \"#7201a8\"], [0.3333333333333333, \"#9c179e\"], [0.4444444444444444, \"#bd3786\"], [0.5555555555555556, \"#d8576b\"], [0.6666666666666666, \"#ed7953\"], [0.7777777777777778, \"#fb9f3a\"], [0.8888888888888888, \"#fdca26\"], [1.0, \"#f0f921\"]], \"type\": \"heatmapgl\"}], \"histogram\": [{\"marker\": {\"colorbar\": {\"outlinewidth\": 0, \"ticks\": \"\"}}, \"type\": \"histogram\"}], \"histogram2d\": [{\"colorbar\": {\"outlinewidth\": 0, \"ticks\": \"\"}, \"colorscale\": [[0.0, \"#0d0887\"], [0.1111111111111111, \"#46039f\"], [0.2222222222222222, \"#7201a8\"], [0.3333333333333333, \"#9c179e\"], [0.4444444444444444, \"#bd3786\"], [0.5555555555555556, \"#d8576b\"], [0.6666666666666666, \"#ed7953\"], [0.7777777777777778, \"#fb9f3a\"], [0.8888888888888888, \"#fdca26\"], [1.0, \"#f0f921\"]], \"type\": \"histogram2d\"}], \"histogram2dcontour\": [{\"colorbar\": {\"outlinewidth\": 0, \"ticks\": \"\"}, \"colorscale\": [[0.0, \"#0d0887\"], [0.1111111111111111, \"#46039f\"], [0.2222222222222222, \"#7201a8\"], [0.3333333333333333, \"#9c179e\"], [0.4444444444444444, \"#bd3786\"], [0.5555555555555556, \"#d8576b\"], [0.6666666666666666, \"#ed7953\"], [0.7777777777777778, \"#fb9f3a\"], [0.8888888888888888, \"#fdca26\"], [1.0, \"#f0f921\"]], \"type\": \"histogram2dcontour\"}], \"mesh3d\": [{\"colorbar\": {\"outlinewidth\": 0, \"ticks\": \"\"}, \"type\": \"mesh3d\"}], \"parcoords\": [{\"line\": {\"colorbar\": {\"outlinewidth\": 0, \"ticks\": \"\"}}, \"type\": \"parcoords\"}], \"pie\": [{\"automargin\": true, \"type\": \"pie\"}], \"scatter\": [{\"marker\": {\"colorbar\": {\"outlinewidth\": 0, \"ticks\": \"\"}}, \"type\": \"scatter\"}], \"scatter3d\": [{\"line\": {\"colorbar\": {\"outlinewidth\": 0, \"ticks\": \"\"}}, \"marker\": {\"colorbar\": {\"outlinewidth\": 0, \"ticks\": \"\"}}, \"type\": \"scatter3d\"}], \"scattercarpet\": [{\"marker\": {\"colorbar\": {\"outlinewidth\": 0, \"ticks\": \"\"}}, \"type\": \"scattercarpet\"}], \"scattergeo\": [{\"marker\": {\"colorbar\": {\"outlinewidth\": 0, \"ticks\": \"\"}}, \"type\": \"scattergeo\"}], \"scattergl\": [{\"marker\": {\"colorbar\": {\"outlinewidth\": 0, \"ticks\": \"\"}}, \"type\": \"scattergl\"}], \"scattermapbox\": [{\"marker\": {\"colorbar\": {\"outlinewidth\": 0, \"ticks\": \"\"}}, \"type\": \"scattermapbox\"}], \"scatterpolar\": [{\"marker\": {\"colorbar\": {\"outlinewidth\": 0, \"ticks\": \"\"}}, \"type\": \"scatterpolar\"}], \"scatterpolargl\": [{\"marker\": {\"colorbar\": {\"outlinewidth\": 0, \"ticks\": \"\"}}, \"type\": \"scatterpolargl\"}], \"scatterternary\": [{\"marker\": {\"colorbar\": {\"outlinewidth\": 0, \"ticks\": \"\"}}, \"type\": \"scatterternary\"}], \"surface\": [{\"colorbar\": {\"outlinewidth\": 0, \"ticks\": \"\"}, \"colorscale\": [[0.0, \"#0d0887\"], [0.1111111111111111, \"#46039f\"], [0.2222222222222222, \"#7201a8\"], [0.3333333333333333, \"#9c179e\"], [0.4444444444444444, \"#bd3786\"], [0.5555555555555556, \"#d8576b\"], [0.6666666666666666, \"#ed7953\"], [0.7777777777777778, \"#fb9f3a\"], [0.8888888888888888, \"#fdca26\"], [1.0, \"#f0f921\"]], \"type\": \"surface\"}], \"table\": [{\"cells\": {\"fill\": {\"color\": \"#EBF0F8\"}, \"line\": {\"color\": \"white\"}}, \"header\": {\"fill\": {\"color\": \"#C8D4E3\"}, \"line\": {\"color\": \"white\"}}, \"type\": \"table\"}]}, \"layout\": {\"annotationdefaults\": {\"arrowcolor\": \"#2a3f5f\", \"arrowhead\": 0, \"arrowwidth\": 1}, \"autotypenumbers\": \"strict\", \"coloraxis\": {\"colorbar\": {\"outlinewidth\": 0, \"ticks\": \"\"}}, \"colorscale\": {\"diverging\": [[0, \"#8e0152\"], [0.1, \"#c51b7d\"], [0.2, \"#de77ae\"], [0.3, \"#f1b6da\"], [0.4, \"#fde0ef\"], [0.5, \"#f7f7f7\"], [0.6, \"#e6f5d0\"], [0.7, \"#b8e186\"], [0.8, \"#7fbc41\"], [0.9, \"#4d9221\"], [1, \"#276419\"]], \"sequential\": [[0.0, \"#0d0887\"], [0.1111111111111111, \"#46039f\"], [0.2222222222222222, \"#7201a8\"], [0.3333333333333333, \"#9c179e\"], [0.4444444444444444, \"#bd3786\"], [0.5555555555555556, \"#d8576b\"], [0.6666666666666666, \"#ed7953\"], [0.7777777777777778, \"#fb9f3a\"], [0.8888888888888888, \"#fdca26\"], [1.0, \"#f0f921\"]], \"sequentialminus\": [[0.0, \"#0d0887\"], [0.1111111111111111, \"#46039f\"], [0.2222222222222222, \"#7201a8\"], [0.3333333333333333, \"#9c179e\"], [0.4444444444444444, \"#bd3786\"], [0.5555555555555556, \"#d8576b\"], [0.6666666666666666, \"#ed7953\"], [0.7777777777777778, \"#fb9f3a\"], [0.8888888888888888, \"#fdca26\"], [1.0, \"#f0f921\"]]}, \"colorway\": [\"#636efa\", \"#EF553B\", \"#00cc96\", \"#ab63fa\", \"#FFA15A\", \"#19d3f3\", \"#FF6692\", \"#B6E880\", \"#FF97FF\", \"#FECB52\"], \"font\": {\"color\": \"#2a3f5f\"}, \"geo\": {\"bgcolor\": \"white\", \"lakecolor\": \"white\", \"landcolor\": \"#E5ECF6\", \"showlakes\": true, \"showland\": true, \"subunitcolor\": \"white\"}, \"hoverlabel\": {\"align\": \"left\"}, \"hovermode\": \"closest\", \"mapbox\": {\"style\": \"light\"}, \"paper_bgcolor\": \"white\", \"plot_bgcolor\": \"#E5ECF6\", \"polar\": {\"angularaxis\": {\"gridcolor\": \"white\", \"linecolor\": \"white\", \"ticks\": \"\"}, \"bgcolor\": \"#E5ECF6\", \"radialaxis\": {\"gridcolor\": \"white\", \"linecolor\": \"white\", \"ticks\": \"\"}}, \"scene\": {\"xaxis\": {\"backgroundcolor\": \"#E5ECF6\", \"gridcolor\": \"white\", \"gridwidth\": 2, \"linecolor\": \"white\", \"showbackground\": true, \"ticks\": \"\", \"zerolinecolor\": \"white\"}, \"yaxis\": {\"backgroundcolor\": \"#E5ECF6\", \"gridcolor\": \"white\", \"gridwidth\": 2, \"linecolor\": \"white\", \"showbackground\": true, \"ticks\": \"\", \"zerolinecolor\": \"white\"}, \"zaxis\": {\"backgroundcolor\": \"#E5ECF6\", \"gridcolor\": \"white\", \"gridwidth\": 2, \"linecolor\": \"white\", \"showbackground\": true, \"ticks\": \"\", \"zerolinecolor\": \"white\"}}, \"shapedefaults\": {\"line\": {\"color\": \"#2a3f5f\"}}, \"ternary\": {\"aaxis\": {\"gridcolor\": \"white\", \"linecolor\": \"white\", \"ticks\": \"\"}, \"baxis\": {\"gridcolor\": \"white\", \"linecolor\": \"white\", \"ticks\": \"\"}, \"bgcolor\": \"#E5ECF6\", \"caxis\": {\"gridcolor\": \"white\", \"linecolor\": \"white\", \"ticks\": \"\"}}, \"title\": {\"x\": 0.05}, \"xaxis\": {\"automargin\": true, \"gridcolor\": \"white\", \"linecolor\": \"white\", \"ticks\": \"\", \"title\": {\"standoff\": 15}, \"zerolinecolor\": \"white\", \"zerolinewidth\": 2}, \"yaxis\": {\"automargin\": true, \"gridcolor\": \"white\", \"linecolor\": \"white\", \"ticks\": \"\", \"title\": {\"standoff\": 15}, \"zerolinecolor\": \"white\", \"zerolinewidth\": 2}}}, \"title\": {\"text\": \"\\u041a\\u043b\\u0430\\u0441\\u0441 \\u043a\\u0432\\u0430\\u0440\\u0442\\u0438\\u0440\"}, \"xaxis\": {\"anchor\": \"y\", \"domain\": [0.0, 1.0], \"title\": {\"text\": \"\\u041a\\u043b\\u0430\\u0441\\u0441\"}}, \"yaxis\": {\"anchor\": \"x\", \"domain\": [0.0, 1.0], \"title\": {\"text\": \"\\u041a\\u043e\\u043b-\\u0432\\u043e\"}}},                        {\"responsive\": true}                    ).then(function(){\n",
       "                            \n",
       "var gd = document.getElementById('66bb7b0c-0ac5-4dd5-b130-76603965e8e4');\n",
       "var x = new MutationObserver(function (mutations, observer) {{\n",
       "        var display = window.getComputedStyle(gd).display;\n",
       "        if (!display || display === 'none') {{\n",
       "            console.log([gd, 'removed!']);\n",
       "            Plotly.purge(gd);\n",
       "            observer.disconnect();\n",
       "        }}\n",
       "}});\n",
       "\n",
       "// Listen for the removal of the full notebook cells\n",
       "var notebookContainer = gd.closest('#notebook-container');\n",
       "if (notebookContainer) {{\n",
       "    x.observe(notebookContainer, {childList: true});\n",
       "}}\n",
       "\n",
       "// Listen for the clearing of the current output cell\n",
       "var outputEl = gd.closest('.output');\n",
       "if (outputEl) {{\n",
       "    x.observe(outputEl, {childList: true});\n",
       "}}\n",
       "\n",
       "                        })                };                });            </script>        </div>"
      ]
     },
     "metadata": {},
     "output_type": "display_data"
    }
   ],
   "source": [
    "df = df_dom.groupby('objLkClassDesc').agg({'id':'count'})\n",
    "fig = px.bar(df, x=df.index, y='id')\n",
    "fig.update_layout(xaxis_title=\"Класс\",yaxis_title=\"Кол-во\", title='Класс квартир')\n",
    "fig.update_traces(hoverinfo=\"all\", hovertemplate=\"Класс: %{x}<br>Кол-во: %{y}\")\n",
    "fig.show()"
   ]
  },
  {
   "cell_type": "code",
   "execution_count": 12,
   "metadata": {
    "colab": {
     "base_uri": "https://localhost:8080/",
     "height": 235
    },
    "id": "xjdreY6cU9Gn",
    "outputId": "55fe28e0-1d40-44e5-d978-c9ad3ceaab22"
   },
   "outputs": [
    {
     "data": {
      "text/html": [
       "<div>\n",
       "<style scoped>\n",
       "    .dataframe tbody tr th:only-of-type {\n",
       "        vertical-align: middle;\n",
       "    }\n",
       "\n",
       "    .dataframe tbody tr th {\n",
       "        vertical-align: top;\n",
       "    }\n",
       "\n",
       "    .dataframe thead th {\n",
       "        text-align: right;\n",
       "    }\n",
       "</style>\n",
       "<table border=\"1\" class=\"dataframe\">\n",
       "  <thead>\n",
       "    <tr style=\"text-align: right;\">\n",
       "      <th></th>\n",
       "      <th>objPriceAvg</th>\n",
       "    </tr>\n",
       "    <tr>\n",
       "      <th>region</th>\n",
       "      <th></th>\n",
       "    </tr>\n",
       "  </thead>\n",
       "  <tbody>\n",
       "    <tr>\n",
       "      <th>77</th>\n",
       "      <td>244589.0</td>\n",
       "    </tr>\n",
       "    <tr>\n",
       "      <th>78</th>\n",
       "      <td>155553.0</td>\n",
       "    </tr>\n",
       "    <tr>\n",
       "      <th>65</th>\n",
       "      <td>142215.0</td>\n",
       "    </tr>\n",
       "    <tr>\n",
       "      <th>25</th>\n",
       "      <td>116327.0</td>\n",
       "    </tr>\n",
       "    <tr>\n",
       "      <th>50</th>\n",
       "      <td>116326.0</td>\n",
       "    </tr>\n",
       "  </tbody>\n",
       "</table>\n",
       "</div>"
      ],
      "text/plain": [
       "        objPriceAvg\n",
       "region             \n",
       "77         244589.0\n",
       "78         155553.0\n",
       "65         142215.0\n",
       "25         116327.0\n",
       "50         116326.0"
      ]
     },
     "execution_count": 12,
     "metadata": {},
     "output_type": "execute_result"
    }
   ],
   "source": [
    "#Самое дорогое жилье за кв.м.\n",
    "df_dom.groupby('region').agg({'objPriceAvg':'mean'}).round().dropna().sort_values(by='objPriceAvg', ascending=False).head(5)"
   ]
  },
  {
   "cell_type": "code",
   "execution_count": 13,
   "metadata": {
    "colab": {
     "base_uri": "https://localhost:8080/",
     "height": 235
    },
    "id": "DOewrmhDSpiN",
    "outputId": "79b011e5-6fb4-42e5-fea2-0aecc4b1a968"
   },
   "outputs": [
    {
     "data": {
      "text/html": [
       "<div>\n",
       "<style scoped>\n",
       "    .dataframe tbody tr th:only-of-type {\n",
       "        vertical-align: middle;\n",
       "    }\n",
       "\n",
       "    .dataframe tbody tr th {\n",
       "        vertical-align: top;\n",
       "    }\n",
       "\n",
       "    .dataframe thead th {\n",
       "        text-align: right;\n",
       "    }\n",
       "</style>\n",
       "<table border=\"1\" class=\"dataframe\">\n",
       "  <thead>\n",
       "    <tr style=\"text-align: right;\">\n",
       "      <th></th>\n",
       "      <th>objPriceAvg</th>\n",
       "    </tr>\n",
       "    <tr>\n",
       "      <th>region</th>\n",
       "      <th></th>\n",
       "    </tr>\n",
       "  </thead>\n",
       "  <tbody>\n",
       "    <tr>\n",
       "      <th>51</th>\n",
       "      <td>20442.0</td>\n",
       "    </tr>\n",
       "    <tr>\n",
       "      <th>5</th>\n",
       "      <td>25194.0</td>\n",
       "    </tr>\n",
       "    <tr>\n",
       "      <th>7</th>\n",
       "      <td>26918.0</td>\n",
       "    </tr>\n",
       "    <tr>\n",
       "      <th>20</th>\n",
       "      <td>30227.0</td>\n",
       "    </tr>\n",
       "    <tr>\n",
       "      <th>15</th>\n",
       "      <td>39715.0</td>\n",
       "    </tr>\n",
       "  </tbody>\n",
       "</table>\n",
       "</div>"
      ],
      "text/plain": [
       "        objPriceAvg\n",
       "region             \n",
       "51          20442.0\n",
       "5           25194.0\n",
       "7           26918.0\n",
       "20          30227.0\n",
       "15          39715.0"
      ]
     },
     "execution_count": 13,
     "metadata": {},
     "output_type": "execute_result"
    }
   ],
   "source": [
    "#Самое дешевое жилье за кв.м.\n",
    "df_dom.groupby('region').agg({'objPriceAvg':'mean'}).round().dropna().sort_values(by='objPriceAvg', ascending=True).head(5)"
   ]
  },
  {
   "cell_type": "code",
   "execution_count": 14,
   "metadata": {
    "colab": {
     "base_uri": "https://localhost:8080/",
     "height": 297
    },
    "id": "R6HQgQGIQS0R",
    "outputId": "8b7caf5d-6ee5-41c9-b46a-422ca9c4e7b5"
   },
   "outputs": [
    {
     "data": {
      "text/html": [
       "<div>\n",
       "<style scoped>\n",
       "    .dataframe tbody tr th:only-of-type {\n",
       "        vertical-align: middle;\n",
       "    }\n",
       "\n",
       "    .dataframe tbody tr th {\n",
       "        vertical-align: top;\n",
       "    }\n",
       "\n",
       "    .dataframe thead th {\n",
       "        text-align: right;\n",
       "    }\n",
       "</style>\n",
       "<table border=\"1\" class=\"dataframe\">\n",
       "  <thead>\n",
       "    <tr style=\"text-align: right;\">\n",
       "      <th></th>\n",
       "      <th>7499</th>\n",
       "    </tr>\n",
       "  </thead>\n",
       "  <tbody>\n",
       "    <tr>\n",
       "      <th>region</th>\n",
       "      <td>77</td>\n",
       "    </tr>\n",
       "    <tr>\n",
       "      <th>objPriceAvg</th>\n",
       "      <td>1730653.0</td>\n",
       "    </tr>\n",
       "    <tr>\n",
       "      <th>address</th>\n",
       "      <td>г Москва, район Якиманка, переулок Большой Тол...</td>\n",
       "    </tr>\n",
       "    <tr>\n",
       "      <th>objLkFinishTypeDesc</th>\n",
       "      <td>Без отделки</td>\n",
       "    </tr>\n",
       "    <tr>\n",
       "      <th>soldOutPerc</th>\n",
       "      <td>0.121931</td>\n",
       "    </tr>\n",
       "    <tr>\n",
       "      <th>objLkClassDesc</th>\n",
       "      <td>Элитный</td>\n",
       "    </tr>\n",
       "    <tr>\n",
       "      <th>generalContractorNm</th>\n",
       "      <td>ООО Смайнэкс Констракшн (ИНН: 7709492531)</td>\n",
       "    </tr>\n",
       "    <tr>\n",
       "      <th>developer.devShortCleanNm</th>\n",
       "      <td>СЗ ТОЛМАЧЕВСКИЙ</td>\n",
       "    </tr>\n",
       "  </tbody>\n",
       "</table>\n",
       "</div>"
      ],
      "text/plain": [
       "                                                                        7499\n",
       "region                                                                    77\n",
       "objPriceAvg                                                        1730653.0\n",
       "address                    г Москва, район Якиманка, переулок Большой Тол...\n",
       "objLkFinishTypeDesc                                              Без отделки\n",
       "soldOutPerc                                                         0.121931\n",
       "objLkClassDesc                                                       Элитный\n",
       "generalContractorNm                ООО Смайнэкс Констракшн (ИНН: 7709492531)\n",
       "developer.devShortCleanNm                                    СЗ ТОЛМАЧЕВСКИЙ"
      ]
     },
     "execution_count": 14,
     "metadata": {},
     "output_type": "execute_result"
    }
   ],
   "source": [
    "#Самый дорогой кв.м\n",
    "df_dom.sort_values(by='objPriceAvg', ascending = True).dropna().tail(1)[['region','objPriceAvg','address','objLkFinishTypeDesc','soldOutPerc','objLkClassDesc','generalContractorNm', 'developer.devShortCleanNm']].T"
   ]
  },
  {
   "cell_type": "code",
   "execution_count": 15,
   "metadata": {
    "colab": {
     "base_uri": "https://localhost:8080/",
     "height": 297
    },
    "id": "t0huXYsxQS0T",
    "outputId": "a5f9d4e5-bd34-4c48-bb5e-24e98495436c"
   },
   "outputs": [
    {
     "data": {
      "text/html": [
       "<div>\n",
       "<style scoped>\n",
       "    .dataframe tbody tr th:only-of-type {\n",
       "        vertical-align: middle;\n",
       "    }\n",
       "\n",
       "    .dataframe tbody tr th {\n",
       "        vertical-align: top;\n",
       "    }\n",
       "\n",
       "    .dataframe thead th {\n",
       "        text-align: right;\n",
       "    }\n",
       "</style>\n",
       "<table border=\"1\" class=\"dataframe\">\n",
       "  <thead>\n",
       "    <tr style=\"text-align: right;\">\n",
       "      <th></th>\n",
       "      <th>1642</th>\n",
       "    </tr>\n",
       "  </thead>\n",
       "  <tbody>\n",
       "    <tr>\n",
       "      <th>region</th>\n",
       "      <td>63</td>\n",
       "    </tr>\n",
       "    <tr>\n",
       "      <th>objPriceAvg</th>\n",
       "      <td>16826.0</td>\n",
       "    </tr>\n",
       "    <tr>\n",
       "      <th>address</th>\n",
       "      <td>г Самара, район Ленинский, улица Галактионовск...</td>\n",
       "    </tr>\n",
       "    <tr>\n",
       "      <th>objLkFinishTypeDesc</th>\n",
       "      <td>Без отделки</td>\n",
       "    </tr>\n",
       "    <tr>\n",
       "      <th>soldOutPerc</th>\n",
       "      <td>0.964121</td>\n",
       "    </tr>\n",
       "    <tr>\n",
       "      <th>objLkClassDesc</th>\n",
       "      <td>Элитный</td>\n",
       "    </tr>\n",
       "    <tr>\n",
       "      <th>generalContractorNm</th>\n",
       "      <td>ООО Бельведер (ИНН: 6311182876)</td>\n",
       "    </tr>\n",
       "    <tr>\n",
       "      <th>developer.devShortCleanNm</th>\n",
       "      <td>НОВОЕ ВРЕМЯ</td>\n",
       "    </tr>\n",
       "  </tbody>\n",
       "</table>\n",
       "</div>"
      ],
      "text/plain": [
       "                                                                        1642\n",
       "region                                                                    63\n",
       "objPriceAvg                                                          16826.0\n",
       "address                    г Самара, район Ленинский, улица Галактионовск...\n",
       "objLkFinishTypeDesc                                              Без отделки\n",
       "soldOutPerc                                                         0.964121\n",
       "objLkClassDesc                                                       Элитный\n",
       "generalContractorNm                          ООО Бельведер (ИНН: 6311182876)\n",
       "developer.devShortCleanNm                                        НОВОЕ ВРЕМЯ"
      ]
     },
     "execution_count": 15,
     "metadata": {},
     "output_type": "execute_result"
    }
   ],
   "source": [
    "#Самый дешевый кв.м\n",
    "df_dom.sort_values(by='objPriceAvg', ascending = True).dropna().head(1)[['region','objPriceAvg','address','objLkFinishTypeDesc','soldOutPerc','objLkClassDesc','generalContractorNm', 'developer.devShortCleanNm']].T"
   ]
  },
  {
   "cell_type": "code",
   "execution_count": 17,
   "metadata": {
    "colab": {
     "base_uri": "https://localhost:8080/",
     "height": 111
    },
    "id": "zY05iC9WQS0U",
    "outputId": "ed55137d-b30d-4725-c0ac-60570ecf10fa"
   },
   "outputs": [
    {
     "data": {
      "text/html": [
       "<div>\n",
       "<style scoped>\n",
       "    .dataframe tbody tr th:only-of-type {\n",
       "        vertical-align: middle;\n",
       "    }\n",
       "\n",
       "    .dataframe tbody tr th {\n",
       "        vertical-align: top;\n",
       "    }\n",
       "\n",
       "    .dataframe thead th {\n",
       "        text-align: right;\n",
       "    }\n",
       "</style>\n",
       "<table border=\"1\" class=\"dataframe\">\n",
       "  <thead>\n",
       "    <tr style=\"text-align: right;\">\n",
       "      <th></th>\n",
       "      <th>objLkClassDesc</th>\n",
       "    </tr>\n",
       "    <tr>\n",
       "      <th>region</th>\n",
       "      <th></th>\n",
       "    </tr>\n",
       "  </thead>\n",
       "  <tbody>\n",
       "    <tr>\n",
       "      <th>23</th>\n",
       "      <td>870</td>\n",
       "    </tr>\n",
       "  </tbody>\n",
       "</table>\n",
       "</div>"
      ],
      "text/plain": [
       "        objLkClassDesc\n",
       "region                \n",
       "23                 870"
      ]
     },
     "execution_count": 17,
     "metadata": {},
     "output_type": "execute_result"
    }
   ],
   "source": [
    "#Больше всего домов строят в Краснодарском крае\n",
    "df_dom.groupby('region').agg({'objLkClassDesc':'count'}).sort_values(by='objLkClassDesc', ascending = False).head(1)"
   ]
  },
  {
   "cell_type": "code",
   "execution_count": 18,
   "metadata": {
    "colab": {
     "base_uri": "https://localhost:8080/",
     "height": 173
    },
    "id": "PM9tOyT2wnFP",
    "outputId": "71540746-49d2-4e45-9fd6-254e2017866d"
   },
   "outputs": [
    {
     "data": {
      "text/html": [
       "<div>\n",
       "<style scoped>\n",
       "    .dataframe tbody tr th:only-of-type {\n",
       "        vertical-align: middle;\n",
       "    }\n",
       "\n",
       "    .dataframe tbody tr th {\n",
       "        vertical-align: top;\n",
       "    }\n",
       "\n",
       "    .dataframe thead th {\n",
       "        text-align: right;\n",
       "    }\n",
       "</style>\n",
       "<table border=\"1\" class=\"dataframe\">\n",
       "  <thead>\n",
       "    <tr style=\"text-align: right;\">\n",
       "      <th></th>\n",
       "      <th>objLkClassDesc</th>\n",
       "    </tr>\n",
       "    <tr>\n",
       "      <th>region</th>\n",
       "      <th></th>\n",
       "    </tr>\n",
       "  </thead>\n",
       "  <tbody>\n",
       "    <tr>\n",
       "      <th>51</th>\n",
       "      <td>1</td>\n",
       "    </tr>\n",
       "    <tr>\n",
       "      <th>6</th>\n",
       "      <td>1</td>\n",
       "    </tr>\n",
       "    <tr>\n",
       "      <th>49</th>\n",
       "      <td>1</td>\n",
       "    </tr>\n",
       "  </tbody>\n",
       "</table>\n",
       "</div>"
      ],
      "text/plain": [
       "        objLkClassDesc\n",
       "region                \n",
       "51                   1\n",
       "6                    1\n",
       "49                   1"
      ]
     },
     "execution_count": 18,
     "metadata": {},
     "output_type": "execute_result"
    }
   ],
   "source": [
    "#Меньше всего строят в Мурманской области, Ингушетии, Магаданской области\n",
    "df_dom.groupby('region').agg({'objLkClassDesc':'count'}).sort_values(by='objLkClassDesc', ascending = False).tail(3)"
   ]
  },
  {
   "cell_type": "code",
   "execution_count": 31,
   "metadata": {
    "colab": {
     "base_uri": "https://localhost:8080/",
     "height": 173
    },
    "id": "oxJeLwX1xH45",
    "outputId": "76727b33-be24-44be-b5c1-8cafbaacaa97"
   },
   "outputs": [],
   "source": [
    "def top_info(str):\n",
    "    \"\"\"Функция показывает статистику класса жилья по регионам или топ5 по классу жилья в регионе\"\"\"\n",
    "    return df_dom.groupby(['region','objLkClassDesc']).agg({'id':'count'}).filter(like=str, axis=0).sort_values(by='id',ascending = False).head(5)\n",
    "    "
   ]
  },
  {
   "cell_type": "code",
   "execution_count": 48,
   "metadata": {
    "colab": {
     "base_uri": "https://localhost:8080/",
     "height": 173
    },
    "id": "QwLg2R6M0ata",
    "outputId": "05a70ed3-8b6c-40a6-ff13-bf0f7b1b7273"
   },
   "outputs": [
    {
     "data": {
      "text/html": [
       "<div>\n",
       "<style scoped>\n",
       "    .dataframe tbody tr th:only-of-type {\n",
       "        vertical-align: middle;\n",
       "    }\n",
       "\n",
       "    .dataframe tbody tr th {\n",
       "        vertical-align: top;\n",
       "    }\n",
       "\n",
       "    .dataframe thead th {\n",
       "        text-align: right;\n",
       "    }\n",
       "</style>\n",
       "<table border=\"1\" class=\"dataframe\">\n",
       "  <thead>\n",
       "    <tr style=\"text-align: right;\">\n",
       "      <th></th>\n",
       "      <th></th>\n",
       "      <th>id</th>\n",
       "    </tr>\n",
       "    <tr>\n",
       "      <th>region</th>\n",
       "      <th>objLkClassDesc</th>\n",
       "      <th></th>\n",
       "    </tr>\n",
       "  </thead>\n",
       "  <tbody>\n",
       "    <tr>\n",
       "      <th>77</th>\n",
       "      <th>Бизнес</th>\n",
       "      <td>271</td>\n",
       "    </tr>\n",
       "    <tr>\n",
       "      <th>23</th>\n",
       "      <th>Бизнес</th>\n",
       "      <td>82</td>\n",
       "    </tr>\n",
       "    <tr>\n",
       "      <th>78</th>\n",
       "      <th>Бизнес</th>\n",
       "      <td>78</td>\n",
       "    </tr>\n",
       "    <tr>\n",
       "      <th>50</th>\n",
       "      <th>Бизнес</th>\n",
       "      <td>67</td>\n",
       "    </tr>\n",
       "    <tr>\n",
       "      <th>38</th>\n",
       "      <th>Бизнес</th>\n",
       "      <td>39</td>\n",
       "    </tr>\n",
       "  </tbody>\n",
       "</table>\n",
       "</div>"
      ],
      "text/plain": [
       "                        id\n",
       "region objLkClassDesc     \n",
       "77     Бизнес          271\n",
       "23     Бизнес           82\n",
       "78     Бизнес           78\n",
       "50     Бизнес           67\n",
       "38     Бизнес           39"
      ]
     },
     "execution_count": 48,
     "metadata": {},
     "output_type": "execute_result"
    }
   ],
   "source": [
    "top_info('Бизнес')"
   ]
  },
  {
   "cell_type": "code",
   "execution_count": 36,
   "metadata": {},
   "outputs": [
    {
     "data": {
      "text/html": [
       "<div>\n",
       "<style scoped>\n",
       "    .dataframe tbody tr th:only-of-type {\n",
       "        vertical-align: middle;\n",
       "    }\n",
       "\n",
       "    .dataframe tbody tr th {\n",
       "        vertical-align: top;\n",
       "    }\n",
       "\n",
       "    .dataframe thead th {\n",
       "        text-align: right;\n",
       "    }\n",
       "</style>\n",
       "<table border=\"1\" class=\"dataframe\">\n",
       "  <thead>\n",
       "    <tr style=\"text-align: right;\">\n",
       "      <th></th>\n",
       "      <th></th>\n",
       "      <th>id</th>\n",
       "    </tr>\n",
       "    <tr>\n",
       "      <th>region</th>\n",
       "      <th>objLkClassDesc</th>\n",
       "      <th></th>\n",
       "    </tr>\n",
       "  </thead>\n",
       "  <tbody>\n",
       "    <tr>\n",
       "      <th rowspan=\"4\" valign=\"top\">63</th>\n",
       "      <th>Комфорт</th>\n",
       "      <td>89</td>\n",
       "    </tr>\n",
       "    <tr>\n",
       "      <th>Типовой</th>\n",
       "      <td>65</td>\n",
       "    </tr>\n",
       "    <tr>\n",
       "      <th>Элитный</th>\n",
       "      <td>11</td>\n",
       "    </tr>\n",
       "    <tr>\n",
       "      <th>Бизнес</th>\n",
       "      <td>1</td>\n",
       "    </tr>\n",
       "  </tbody>\n",
       "</table>\n",
       "</div>"
      ],
      "text/plain": [
       "                       id\n",
       "region objLkClassDesc    \n",
       "63     Комфорт         89\n",
       "       Типовой         65\n",
       "       Элитный         11\n",
       "       Бизнес           1"
      ]
     },
     "execution_count": 36,
     "metadata": {},
     "output_type": "execute_result"
    }
   ],
   "source": [
    "top_info('63')"
   ]
  },
  {
   "cell_type": "code",
   "execution_count": 56,
   "metadata": {},
   "outputs": [
    {
     "data": {
      "text/html": [
       "<div>\n",
       "<style scoped>\n",
       "    .dataframe tbody tr th:only-of-type {\n",
       "        vertical-align: middle;\n",
       "    }\n",
       "\n",
       "    .dataframe tbody tr th {\n",
       "        vertical-align: top;\n",
       "    }\n",
       "\n",
       "    .dataframe thead th {\n",
       "        text-align: right;\n",
       "    }\n",
       "</style>\n",
       "<table border=\"1\" class=\"dataframe\">\n",
       "  <thead>\n",
       "    <tr style=\"text-align: right;\">\n",
       "      <th></th>\n",
       "      <th>soldOutPerc</th>\n",
       "    </tr>\n",
       "    <tr>\n",
       "      <th>region</th>\n",
       "      <th></th>\n",
       "    </tr>\n",
       "  </thead>\n",
       "  <tbody>\n",
       "    <tr>\n",
       "      <th>51</th>\n",
       "      <td>1.000000</td>\n",
       "    </tr>\n",
       "    <tr>\n",
       "      <th>8</th>\n",
       "      <td>0.921115</td>\n",
       "    </tr>\n",
       "    <tr>\n",
       "      <th>44</th>\n",
       "      <td>0.802724</td>\n",
       "    </tr>\n",
       "  </tbody>\n",
       "</table>\n",
       "</div>"
      ],
      "text/plain": [
       "        soldOutPerc\n",
       "region             \n",
       "51         1.000000\n",
       "8          0.921115\n",
       "44         0.802724"
      ]
     },
     "execution_count": 56,
     "metadata": {},
     "output_type": "execute_result"
    }
   ],
   "source": [
    "#Продано в процентах по регионам\n",
    "df_dom.groupby('region').agg({'soldOutPerc':'mean'}).sort_values(by='soldOutPerc', ascending = False).head(3)"
   ]
  },
  {
   "cell_type": "code",
   "execution_count": 77,
   "metadata": {},
   "outputs": [
    {
     "data": {
      "text/plain": [
       "id                                                                   19622\n",
       "pdId                                                                 47467\n",
       "region                                                                  77\n",
       "address                  г Москва, район Пресненский, набережная Красно...\n",
       "floorMin                                                                76\n",
       "floorMax                                                                76\n",
       "objElemLivingCnt                                                       314\n",
       "objReady100PercDt                                               2023-03-31\n",
       "wallMaterialShortDesc                                       Монолит-кирпич\n",
       "objLkFinishTypeDesc                                            Без отделки\n",
       "Name: 1518, dtype: object"
      ]
     },
     "execution_count": 77,
     "metadata": {},
     "output_type": "execute_result"
    }
   ],
   "source": [
    "# Макс кол-во этажей в доме\n",
    "df_dom.loc[df_dom.floorMax.idxmax()][:10]"
   ]
  },
  {
   "cell_type": "code",
   "execution_count": 80,
   "metadata": {},
   "outputs": [
    {
     "data": {
      "text/plain": [
       "id                                                                   37480\n",
       "pdId                                                                365698\n",
       "region                                                                  77\n",
       "address                                                           г Москва\n",
       "floorMin                                                                58\n",
       "floorMax                                                                62\n",
       "objElemLivingCnt                                                      1906\n",
       "objReady100PercDt                                               2024-06-30\n",
       "wallMaterialShortDesc                                               Другое\n",
       "objLkFinishTypeDesc                                           Под чистовую\n",
       "objLkFreePlanDesc                                                     Есть\n",
       "objElemParkingCnt                                                     1020\n",
       "objSquareLiving                                                   142978.7\n",
       "rpdNum                                                           77-002091\n",
       "rpdPdfLink               https://xn--80az8a.xn--d1aqf.xn--p1ai/api/ext/...\n",
       "rpdIssueDttm                                              05-04-2022 10:07\n",
       "objLkLatitude                                                       55.709\n",
       "objLkLongitude                                                     37.4928\n",
       "objCompensFundFlg                                                        0\n",
       "objProblemFlg                                                            0\n",
       "objLkClassDesc                                                      Бизнес\n",
       "loadDttm                                                  29-04-2022 01:12\n",
       "photoRenderDTO           [{'objId': 37480, 'pdId': 365698, 'rpdId': 577...\n",
       "objGuarantyEscrowFlg                                                     1\n",
       "objectType                                                          normal\n",
       "miniUrl                  https://xn--80az8a.xn--d1aqf.xn--p1ai/api/ext/...\n",
       "residentialBuildings                                                     1\n",
       "newBuildingId                                                       117870\n",
       "objFloorCnt                                                             62\n",
       "objFlatCnt                                                            1906\n",
       "objFlatSq                                                         142978.7\n",
       "Name: 1537, dtype: object"
      ]
     },
     "execution_count": 80,
     "metadata": {},
     "output_type": "execute_result"
    }
   ],
   "source": [
    "#Больше всего жилой площади в доме\n",
    "df_dom.loc[df_dom.objFlatSq.idxmax()][:31]"
   ]
  },
  {
   "cell_type": "code",
   "execution_count": 81,
   "metadata": {},
   "outputs": [
    {
     "data": {
      "text/plain": [
       "id                                                                   45908\n",
       "pdId                                                                530506\n",
       "region                                                                  77\n",
       "address                  г Москва, район Солнцево, ул Производственная,...\n",
       "floorMin                                                                 2\n",
       "floorMax                                                                25\n",
       "objElemLivingCnt                                                      2676\n",
       "objReady100PercDt                                               2024-09-30\n",
       "wallMaterialShortDesc                                               Панель\n",
       "objLkFinishTypeDesc                                            Без отделки\n",
       "objLkFreePlanDesc                                                      Нет\n",
       "objElemParkingCnt                                                      547\n",
       "objSquareLiving                                                    82504.7\n",
       "rpdNum                                                           77-002473\n",
       "rpdPdfLink               https://xn--80az8a.xn--d1aqf.xn--p1ai/api/ext/...\n",
       "rpdIssueDttm                                              25-04-2022 20:25\n",
       "objLkLatitude                                                      55.6445\n",
       "objLkLongitude                                                     37.3828\n",
       "objCompensFundFlg                                                        0\n",
       "objProblemFlg                                                            0\n",
       "objLkClassDesc                                                     Комфорт\n",
       "loadDttm                                                  29-04-2022 01:12\n",
       "photoRenderDTO           [{'objId': 45908, 'pdId': 530506, 'rpdId': 530...\n",
       "objGuarantyEscrowFlg                                                     1\n",
       "objectType                                                          normal\n",
       "miniUrl                  https://xn--80az8a.xn--d1aqf.xn--p1ai/api/ext/...\n",
       "residentialBuildings                                                     1\n",
       "newBuildingId                                                       126540\n",
       "objFloorCnt                                                             25\n",
       "objFlatCnt                                                            2676\n",
       "objFlatSq                                                          82504.7\n",
       "objNonlivElemCnt                                                       395\n",
       "Name: 4752, dtype: object"
      ]
     },
     "execution_count": 81,
     "metadata": {},
     "output_type": "execute_result"
    }
   ],
   "source": [
    "#Больше всего квартир в доме\n",
    "df_dom.loc[df_dom.objFlatCnt.idxmax()][:32]"
   ]
  },
  {
   "cell_type": "code",
   "execution_count": 87,
   "metadata": {},
   "outputs": [
    {
     "data": {
      "text/plain": [
       "id                                                                   17375\n",
       "pdId                                                                 25970\n",
       "region                                                                  23\n",
       "address                       г Краснодар, ул Заполярная, д. 39, литера 11\n",
       "floorMin                                                                 5\n",
       "floorMax                                                                 5\n",
       "objElemLivingCnt                                                         0\n",
       "objReady100PercDt                                               2026-06-30\n",
       "wallMaterialShortDesc                                       Монолит-кирпич\n",
       "objLkFinishTypeDesc                                           Под чистовую\n",
       "objLkFreePlanDesc                                                      Нет\n",
       "objElemParkingCnt                                                     3580\n",
       "objSquareLiving                                                        0.0\n",
       "rpdNum                                                           23-000693\n",
       "rpdPdfLink               https://xn--80az8a.xn--d1aqf.xn--p1ai/api/ext/...\n",
       "rpdIssueDttm                                              08-04-2022 18:54\n",
       "objLkLatitude                                                       45.075\n",
       "objLkLongitude                                                     38.9066\n",
       "objCompensFundFlg                                                        0\n",
       "objProblemFlg                                                            0\n",
       "Name: 1130, dtype: object"
      ]
     },
     "execution_count": 87,
     "metadata": {},
     "output_type": "execute_result"
    }
   ],
   "source": [
    "#Больше всего парковок в доме\n",
    "df_dom.loc[df_dom.objElemParkingCnt.idxmax()][:20]"
   ]
  },
  {
   "cell_type": "code",
   "execution_count": 13,
   "metadata": {},
   "outputs": [
    {
     "data": {
      "text/html": [
       "<div>\n",
       "<style scoped>\n",
       "    .dataframe tbody tr th:only-of-type {\n",
       "        vertical-align: middle;\n",
       "    }\n",
       "\n",
       "    .dataframe tbody tr th {\n",
       "        vertical-align: top;\n",
       "    }\n",
       "\n",
       "    .dataframe thead th {\n",
       "        text-align: right;\n",
       "    }\n",
       "</style>\n",
       "<table border=\"1\" class=\"dataframe\">\n",
       "  <thead>\n",
       "    <tr style=\"text-align: right;\">\n",
       "      <th></th>\n",
       "      <th>id</th>\n",
       "    </tr>\n",
       "    <tr>\n",
       "      <th>floorMax</th>\n",
       "      <th></th>\n",
       "    </tr>\n",
       "  </thead>\n",
       "  <tbody>\n",
       "    <tr>\n",
       "      <th>2</th>\n",
       "      <td>738</td>\n",
       "    </tr>\n",
       "    <tr>\n",
       "      <th>10</th>\n",
       "      <td>724</td>\n",
       "    </tr>\n",
       "    <tr>\n",
       "      <th>3</th>\n",
       "      <td>662</td>\n",
       "    </tr>\n",
       "    <tr>\n",
       "      <th>18</th>\n",
       "      <td>649</td>\n",
       "    </tr>\n",
       "    <tr>\n",
       "      <th>11</th>\n",
       "      <td>644</td>\n",
       "    </tr>\n",
       "  </tbody>\n",
       "</table>\n",
       "</div>"
      ],
      "text/plain": [
       "           id\n",
       "floorMax     \n",
       "2         738\n",
       "10        724\n",
       "3         662\n",
       "18        649\n",
       "11        644"
      ]
     },
     "execution_count": 13,
     "metadata": {},
     "output_type": "execute_result"
    }
   ],
   "source": [
    "#Популярная этажность домов\n",
    "df_dom.groupby('floorMax').agg({'id':'count'}).sort_values(by='id', ascending= False).head(5)"
   ]
  },
  {
   "cell_type": "code",
   "execution_count": 20,
   "metadata": {},
   "outputs": [
    {
     "data": {
      "text/html": [
       "<div>\n",
       "<style scoped>\n",
       "    .dataframe tbody tr th:only-of-type {\n",
       "        vertical-align: middle;\n",
       "    }\n",
       "\n",
       "    .dataframe tbody tr th {\n",
       "        vertical-align: top;\n",
       "    }\n",
       "\n",
       "    .dataframe thead th {\n",
       "        text-align: right;\n",
       "    }\n",
       "</style>\n",
       "<table border=\"1\" class=\"dataframe\">\n",
       "  <thead>\n",
       "    <tr style=\"text-align: right;\">\n",
       "      <th></th>\n",
       "      <th></th>\n",
       "      <th>id</th>\n",
       "    </tr>\n",
       "    <tr>\n",
       "      <th>region</th>\n",
       "      <th>floorMax</th>\n",
       "      <th></th>\n",
       "    </tr>\n",
       "  </thead>\n",
       "  <tbody>\n",
       "    <tr>\n",
       "      <th>54</th>\n",
       "      <th>2</th>\n",
       "      <td>161</td>\n",
       "    </tr>\n",
       "    <tr>\n",
       "      <th>23</th>\n",
       "      <th>2</th>\n",
       "      <td>115</td>\n",
       "    </tr>\n",
       "    <tr>\n",
       "      <th>50</th>\n",
       "      <th>2</th>\n",
       "      <td>91</td>\n",
       "    </tr>\n",
       "    <tr>\n",
       "      <th>72</th>\n",
       "      <th>2</th>\n",
       "      <td>53</td>\n",
       "    </tr>\n",
       "    <tr>\n",
       "      <th>78</th>\n",
       "      <th>2</th>\n",
       "      <td>37</td>\n",
       "    </tr>\n",
       "  </tbody>\n",
       "</table>\n",
       "</div>"
      ],
      "text/plain": [
       "                  id\n",
       "region floorMax     \n",
       "54     2         161\n",
       "23     2         115\n",
       "50     2          91\n",
       "72     2          53\n",
       "78     2          37"
      ]
     },
     "execution_count": 20,
     "metadata": {},
     "output_type": "execute_result"
    }
   ],
   "source": [
    "#Больше всего 2х этажных домов строят в новосибирской области\n",
    "df_dom.groupby(['region','floorMax']).agg({'id':'count'}).query('floorMax ==2').sort_values(by='id',ascending = False).head(5)"
   ]
  },
  {
   "cell_type": "code",
   "execution_count": 30,
   "metadata": {},
   "outputs": [
    {
     "data": {
      "text/html": [
       "<div>\n",
       "<style scoped>\n",
       "    .dataframe tbody tr th:only-of-type {\n",
       "        vertical-align: middle;\n",
       "    }\n",
       "\n",
       "    .dataframe tbody tr th {\n",
       "        vertical-align: top;\n",
       "    }\n",
       "\n",
       "    .dataframe thead th {\n",
       "        text-align: right;\n",
       "    }\n",
       "</style>\n",
       "<table border=\"1\" class=\"dataframe\">\n",
       "  <thead>\n",
       "    <tr style=\"text-align: right;\">\n",
       "      <th></th>\n",
       "      <th></th>\n",
       "      <th></th>\n",
       "      <th>id</th>\n",
       "    </tr>\n",
       "    <tr>\n",
       "      <th>region</th>\n",
       "      <th>floorMax</th>\n",
       "      <th>objLkClassDesc</th>\n",
       "      <th></th>\n",
       "    </tr>\n",
       "  </thead>\n",
       "  <tbody>\n",
       "    <tr>\n",
       "      <th rowspan=\"2\" valign=\"top\">54</th>\n",
       "      <th rowspan=\"2\" valign=\"top\">2</th>\n",
       "      <th>Типовой</th>\n",
       "      <td>144</td>\n",
       "    </tr>\n",
       "    <tr>\n",
       "      <th>Комфорт</th>\n",
       "      <td>17</td>\n",
       "    </tr>\n",
       "  </tbody>\n",
       "</table>\n",
       "</div>"
      ],
      "text/plain": [
       "                                 id\n",
       "region floorMax objLkClassDesc     \n",
       "54     2        Типовой         144\n",
       "                Комфорт          17"
      ]
     },
     "execution_count": 30,
     "metadata": {},
     "output_type": "execute_result"
    }
   ],
   "source": [
    "# В разрезе класса домов\n",
    "df_dom.groupby(['region','floorMax','objLkClassDesc']).agg({'id':'count'}).query('region==54 and floorMax == 2').sort_values(by='id',ascending = False).head(5)"
   ]
  },
  {
   "cell_type": "code",
   "execution_count": 50,
   "metadata": {},
   "outputs": [
    {
     "data": {
      "text/html": [
       "<div>\n",
       "<style scoped>\n",
       "    .dataframe tbody tr th:only-of-type {\n",
       "        vertical-align: middle;\n",
       "    }\n",
       "\n",
       "    .dataframe tbody tr th {\n",
       "        vertical-align: top;\n",
       "    }\n",
       "\n",
       "    .dataframe thead th {\n",
       "        text-align: right;\n",
       "    }\n",
       "</style>\n",
       "<table border=\"1\" class=\"dataframe\">\n",
       "  <thead>\n",
       "    <tr style=\"text-align: right;\">\n",
       "      <th></th>\n",
       "      <th></th>\n",
       "      <th></th>\n",
       "      <th></th>\n",
       "      <th>id</th>\n",
       "      <th>objPriceAvg</th>\n",
       "    </tr>\n",
       "    <tr>\n",
       "      <th>developer.devShortCleanNm</th>\n",
       "      <th>region</th>\n",
       "      <th>floorMax</th>\n",
       "      <th>objLkClassDesc</th>\n",
       "      <th></th>\n",
       "      <th></th>\n",
       "    </tr>\n",
       "  </thead>\n",
       "  <tbody>\n",
       "    <tr>\n",
       "      <th>АПРЕЛЕВКА С2</th>\n",
       "      <th>77</th>\n",
       "      <th>3</th>\n",
       "      <th>Типовой</th>\n",
       "      <td>115</td>\n",
       "      <td>42427.0</td>\n",
       "    </tr>\n",
       "    <tr>\n",
       "      <th>СЗ ГЕЛЕОН СТРОЙ</th>\n",
       "      <th>54</th>\n",
       "      <th>2</th>\n",
       "      <th>Типовой</th>\n",
       "      <td>72</td>\n",
       "      <td>NaN</td>\n",
       "    </tr>\n",
       "    <tr>\n",
       "      <th>СЗ ЮГА-СТРОЙ</th>\n",
       "      <th>54</th>\n",
       "      <th>2</th>\n",
       "      <th>Типовой</th>\n",
       "      <td>70</td>\n",
       "      <td>NaN</td>\n",
       "    </tr>\n",
       "    <tr>\n",
       "      <th>СЗ ГЕЛЕОН СТРОЙ</th>\n",
       "      <th>54</th>\n",
       "      <th>3</th>\n",
       "      <th>Комфорт</th>\n",
       "      <td>64</td>\n",
       "      <td>47907.0</td>\n",
       "    </tr>\n",
       "    <tr>\n",
       "      <th>СЗ КОШЕЛЕВ-ПРОЕКТ</th>\n",
       "      <th>40</th>\n",
       "      <th>3</th>\n",
       "      <th>Типовой</th>\n",
       "      <td>33</td>\n",
       "      <td>73389.0</td>\n",
       "    </tr>\n",
       "  </tbody>\n",
       "</table>\n",
       "</div>"
      ],
      "text/plain": [
       "                                                           id  objPriceAvg\n",
       "developer.devShortCleanNm region floorMax objLkClassDesc                  \n",
       "АПРЕЛЕВКА С2              77     3        Типовой         115      42427.0\n",
       "СЗ ГЕЛЕОН СТРОЙ           54     2        Типовой          72          NaN\n",
       "СЗ ЮГА-СТРОЙ              54     2        Типовой          70          NaN\n",
       "СЗ ГЕЛЕОН СТРОЙ           54     3        Комфорт          64      47907.0\n",
       "СЗ КОШЕЛЕВ-ПРОЕКТ         40     3        Типовой          33      73389.0"
      ]
     },
     "execution_count": 50,
     "metadata": {},
     "output_type": "execute_result"
    }
   ],
   "source": [
    "#Самые активные застройщики, занимаются строительством 2-3 этажных домов эконом класса \n",
    "df_dom.groupby(['developer.devShortCleanNm', 'region', 'floorMax','objLkClassDesc']).agg({'id': 'count','objPriceAvg': 'mean'}).round().sort_values(by = 'id', ascending=False).head(5)"
   ]
  },
  {
   "cell_type": "code",
   "execution_count": null,
   "metadata": {},
   "outputs": [],
   "source": []
  },
  {
   "cell_type": "code",
   "execution_count": null,
   "metadata": {},
   "outputs": [],
   "source": []
  },
  {
   "cell_type": "code",
   "execution_count": null,
   "metadata": {},
   "outputs": [],
   "source": []
  }
 ],
 "metadata": {
  "colab": {
   "collapsed_sections": [],
   "name": "dmrf.ipynb",
   "provenance": []
  },
  "kernelspec": {
   "display_name": "Python 3",
   "language": "python",
   "name": "python3"
  },
  "language_info": {
   "codemirror_mode": {
    "name": "ipython",
    "version": 3
   },
   "file_extension": ".py",
   "mimetype": "text/x-python",
   "name": "python",
   "nbconvert_exporter": "python",
   "pygments_lexer": "ipython3",
   "version": "3.7.6"
  },
  "toc": {
   "base_numbering": 1,
   "nav_menu": {},
   "number_sections": true,
   "sideBar": true,
   "skip_h1_title": false,
   "title_cell": "Table of Contents",
   "title_sidebar": "Contents",
   "toc_cell": true,
   "toc_position": {},
   "toc_section_display": true,
   "toc_window_display": false
  }
 },
 "nbformat": 4,
 "nbformat_minor": 1
}
