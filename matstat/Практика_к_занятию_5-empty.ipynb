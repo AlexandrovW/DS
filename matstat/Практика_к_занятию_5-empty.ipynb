{
 "cells": [
  {
   "cell_type": "markdown",
   "metadata": {
    "toc": true
   },
   "source": [
    "<h1>Table of Contents<span class=\"tocSkip\"></span></h1>\n",
    "<div class=\"toc\"><ul class=\"toc-item\"><li><span><a href=\"#Практика\" data-toc-modified-id=\"Практика-1\"><span class=\"toc-item-num\">1&nbsp;&nbsp;</span>Практика</a></span><ul class=\"toc-item\"><li><span><a href=\"#ЦПТ-для-различных-распределений\" data-toc-modified-id=\"ЦПТ-для-различных-распределений-1.1\"><span class=\"toc-item-num\">1.1&nbsp;&nbsp;</span>ЦПТ для различных распределений</a></span><ul class=\"toc-item\"><li><span><a href=\"#Сгенерируйте-примеры-из-распределения\" data-toc-modified-id=\"Сгенерируйте-примеры-из-распределения-1.1.1\"><span class=\"toc-item-num\">1.1.1&nbsp;&nbsp;</span>Сгенерируйте примеры из распределения</a></span></li><li><span><a href=\"#Постройте-гистограмму-выборки-и-теоретическую-плотность-распределения\" data-toc-modified-id=\"Постройте-гистограмму-выборки-и-теоретическую-плотность-распределения-1.1.2\"><span class=\"toc-item-num\">1.1.2&nbsp;&nbsp;</span>Постройте гистограмму выборки и теоретическую плотность распределения</a></span></li><li><span><a href=\"#Оценим-распределение-выборочного-среднего-для-разных-объёмов-выборок\" data-toc-modified-id=\"Оценим-распределение-выборочного-среднего-для-разных-объёмов-выборок-1.1.3\"><span class=\"toc-item-num\">1.1.3&nbsp;&nbsp;</span>Оценим распределение выборочного среднего для разных объёмов выборок</a></span></li></ul></li><li><span><a href=\"#Доверительный-интервал-на-основе-ЦПТ\" data-toc-modified-id=\"Доверительный-интервал-на-основе-ЦПТ-1.2\"><span class=\"toc-item-num\">1.2&nbsp;&nbsp;</span>Доверительный интервал на основе ЦПТ</a></span></li></ul></li></ul></div>"
   ]
  },
  {
   "cell_type": "markdown",
   "metadata": {
    "id": "pDrecLU-4QjS"
   },
   "source": [
    "# Практика"
   ]
  },
  {
   "cell_type": "code",
   "execution_count": 129,
   "metadata": {
    "id": "a6XFMuQUG6jO"
   },
   "outputs": [],
   "source": [
    "import pandas as pd\n",
    "import numpy as np\n",
    "import matplotlib.pyplot as plt\n",
    "import scipy.stats as sts\n",
    "import math\n",
    "import statsmodels.stats.weightstats as ssw\n",
    "%matplotlib inline"
   ]
  },
  {
   "cell_type": "markdown",
   "metadata": {
    "id": "5owLnS0MHJnz"
   },
   "source": [
    "## ЦПТ для различных распределений\n",
    "Возьмите то непрерывное распределение, которое вам больше всего понравится из списка доступных в модуле [scipy.stats](https://docs.scipy.org/doc/scipy/reference/stats.html)."
   ]
  },
  {
   "cell_type": "markdown",
   "metadata": {
    "id": "v1IvIGF9IRgH"
   },
   "source": [
    "### Сгенерируйте примеры из распределения"
   ]
  },
  {
   "cell_type": "code",
   "execution_count": 2,
   "metadata": {
    "colab": {
     "base_uri": "https://localhost:8080/",
     "height": 377
    },
    "id": "l4oTC1NSHvl7",
    "outputId": "52df1553-6d91-4452-9ade-e2a62a8d7ff2"
   },
   "outputs": [
    {
     "data": {
      "text/plain": [
       "array([1.05650724, 1.08286003, 0.9019456 , 0.7427966 , 0.77129016,\n",
       "       0.80732322, 0.76275201, 1.3348233 , 1.0315542 , 0.94276431,\n",
       "       0.76033706, 1.2868151 , 0.95141697, 0.66448995, 0.97165939,\n",
       "       1.12622078, 0.79265552, 1.23160204, 1.14618205, 0.75776366,\n",
       "       1.06139863, 1.06060974, 0.64391212, 0.96393482, 1.02283517,\n",
       "       0.90205429, 0.99533731, 1.07530537, 1.13522221, 0.78740223,\n",
       "       0.79034481, 0.79044012, 0.87826902, 0.66840689, 0.84860213,\n",
       "       0.74083764, 0.93286168, 1.15253718, 0.66126368, 0.97046386,\n",
       "       0.48367716, 1.33860345, 1.15685555, 1.25027229, 0.97290501,\n",
       "       1.06189737, 1.11829533, 0.79908902, 0.66788928, 1.04413259,\n",
       "       1.01059114, 0.70161716, 0.72108287, 1.04220947, 1.18971518,\n",
       "       1.86170609, 0.84657417, 0.91945891, 1.12895644, 1.07816929,\n",
       "       0.86812995, 1.07520983, 0.93895443, 0.89534739, 0.79810129,\n",
       "       0.76889066, 0.87498534, 0.88606006, 0.35726211, 1.35520998,\n",
       "       0.79400971, 0.80069105, 0.89510155, 0.90727145, 1.23854215,\n",
       "       0.76893935, 0.95940358, 1.15698502, 1.06690168, 1.23177644,\n",
       "       0.7090137 , 0.89013536, 0.81527384, 0.81706897, 1.34807909,\n",
       "       1.02405356, 1.07791527, 0.75583844, 1.13915544, 0.86058479,\n",
       "       1.11901505, 0.81045511, 0.95554295, 1.04436486, 0.66295463,\n",
       "       1.29029446, 1.00698056, 0.92140827, 1.04078147, 0.78729465,\n",
       "       1.24489129, 0.98952072, 0.89326314, 1.11921565, 0.88436751,\n",
       "       0.77500433, 0.56957903, 0.84605199, 1.10845938, 0.9529612 ,\n",
       "       1.25806404, 0.79392427, 0.90588254, 0.95871629, 1.06766564,\n",
       "       0.73802387, 0.88974087, 0.85201484, 0.78551315, 0.84612818,\n",
       "       0.84515259, 0.775368  , 0.96846013, 1.21195337, 0.69789534,\n",
       "       1.0449868 , 0.85270046, 0.94546775, 0.68504879, 1.16424746,\n",
       "       0.84224927, 0.94408407, 1.26352161, 0.77606331, 1.00195903,\n",
       "       1.29578234, 0.79864496, 1.33494764, 1.02342281, 1.29311562,\n",
       "       0.90667774, 1.00319499, 1.28369642, 0.88867936, 1.00672041,\n",
       "       0.87060876, 0.64440718, 1.10083231, 0.79743669, 0.89480467,\n",
       "       1.02691726, 1.0207006 , 1.11913064, 0.76039119, 1.26654524,\n",
       "       0.92323973, 1.06725779, 0.81269089, 1.4915463 , 0.46473989,\n",
       "       1.03387905, 1.07634128, 0.52930413, 0.92843336, 0.88324379,\n",
       "       0.90640951, 1.04370159, 0.87257844, 0.86053918, 1.01513162,\n",
       "       0.99642586, 0.96414504, 1.17236773, 0.60073031, 0.94999803,\n",
       "       0.56313975, 1.08287461, 0.82145931, 0.52840987, 0.95805115,\n",
       "       0.45716377, 1.1156341 , 0.70927834, 1.00292908, 1.16206209,\n",
       "       1.01361786, 0.80334733, 1.23460042, 1.04479221, 1.15411683,\n",
       "       1.23295819, 0.86129102, 0.84971429, 1.08314994, 1.74586659,\n",
       "       0.98469524, 1.03025056, 0.90463715, 0.76347135, 0.75635723,\n",
       "       1.03694938, 0.94220637, 0.82110958, 0.89478613, 1.31688124,\n",
       "       1.42819592, 1.28427018, 0.76784115, 1.37914887, 0.65733799,\n",
       "       0.7024821 , 1.04185047, 0.60771458, 1.27219647, 0.8532132 ,\n",
       "       0.83351775, 0.97361186, 0.71750563, 1.31862228, 1.38301906,\n",
       "       0.95283699, 0.84198761, 1.10193958, 1.31823903, 0.65095748,\n",
       "       0.95039944, 0.95371358, 1.09231544, 0.93840471, 1.11237841,\n",
       "       1.02590806, 1.39901298, 0.68150895, 1.00650007, 1.01978051,\n",
       "       0.76089005, 0.57440779, 1.12390244, 0.86142094, 0.8395753 ,\n",
       "       1.00364208, 1.10913228, 0.72905905, 0.97039236, 1.15775625,\n",
       "       1.2343993 , 1.33803496, 0.69001276, 1.16948395, 1.0691476 ,\n",
       "       0.97736141, 0.99132056, 1.15907279, 0.87329331, 0.69211018,\n",
       "       0.81228333, 0.8836987 , 0.64120476, 0.48370313, 1.10951988,\n",
       "       0.97788708, 1.00932967, 1.34415869, 0.78134207, 0.78871101,\n",
       "       0.59578316, 0.59540558, 0.87384457, 1.40124562, 1.05771114,\n",
       "       0.94385084, 1.13694038, 0.76799647, 0.99993736, 1.21380436,\n",
       "       1.15796574, 0.86007872, 1.03778968, 0.78695546, 1.03898818,\n",
       "       0.81673581, 1.1050329 , 1.41118577, 1.29672064, 0.88725431,\n",
       "       1.18392773, 1.00066717, 0.98588905, 1.06134381, 0.86884569,\n",
       "       0.92331298, 0.834859  , 1.23751449, 1.21788072, 1.04324694,\n",
       "       1.15349309, 0.64769508, 0.88053143, 0.74424217, 0.96327408,\n",
       "       1.11702354, 1.17375508, 1.10989785, 0.96678109, 0.8958414 ,\n",
       "       0.52493388, 0.83374268, 1.10262646, 1.18663833, 1.21066026,\n",
       "       0.59237229, 1.31082104, 0.72170015, 0.93246062, 0.79579793,\n",
       "       0.83278069, 1.02214716, 0.90975304, 0.97836712, 0.7726079 ,\n",
       "       1.07727213, 1.19138657, 0.78697526, 0.98941005, 0.96942044,\n",
       "       1.3201969 , 1.13827932, 0.70409721, 1.05873585, 1.27436916,\n",
       "       0.93134469, 0.89180867, 0.95063443, 0.95726137, 0.68328441,\n",
       "       0.54282538, 1.12340082, 1.16556837, 1.1714943 , 0.94570692,\n",
       "       0.63490089, 1.07622648, 0.77505069, 0.683177  , 1.15076187,\n",
       "       0.67395731, 0.86039669, 0.99521636, 1.0900974 , 1.13824947,\n",
       "       0.96731185, 0.98833317, 0.61113254, 1.00111532, 0.95359223,\n",
       "       0.96717306, 0.69865762, 0.63632027, 1.11092374, 1.1084076 ,\n",
       "       1.05359432, 0.40003794, 1.17163799, 1.15599877, 1.26291883,\n",
       "       0.89892002, 0.66695024, 0.88156095, 1.01728024, 1.07001426,\n",
       "       1.06555882, 1.14181808, 1.41711618, 1.06066647, 0.56228799,\n",
       "       1.3783946 , 0.99352138, 0.82490654, 1.25913839, 1.22131648,\n",
       "       1.16643517, 0.86897238, 0.46859731, 1.05468096, 0.71212285,\n",
       "       1.01766955, 1.22540784, 0.86985305, 0.6757688 , 1.19471828,\n",
       "       0.8303991 , 1.20076346, 0.69892541, 1.10299423, 0.53693328,\n",
       "       0.84523505, 1.33312139, 1.11591637, 0.77556942, 1.36099381,\n",
       "       1.31937347, 0.68337975, 1.20429096, 0.90358349, 0.80753787,\n",
       "       0.81422571, 0.88379677, 0.52125912, 1.0353623 , 0.64915146,\n",
       "       1.15244269, 0.56022332, 0.98756429, 0.73421178, 0.88012182,\n",
       "       1.06158734, 1.01635733, 1.37787061, 0.80426232, 0.8704334 ,\n",
       "       1.22377943, 0.73877112, 1.37016622, 0.97926499, 0.99541333,\n",
       "       0.99131473, 0.94766866, 1.05980588, 1.03806831, 1.68184996,\n",
       "       0.82550943, 1.23422312, 0.97553248, 1.32966084, 0.80514319,\n",
       "       0.97570905, 0.87702178, 1.55949657, 0.99449143, 0.65225827,\n",
       "       0.80881065, 0.86390555, 0.85636191, 1.22140969, 1.18251567,\n",
       "       0.53352922, 1.12366705, 1.17285312, 1.14634615, 0.68748343,\n",
       "       0.74779425, 0.8809914 , 1.10049269, 1.10038642, 0.92161862,\n",
       "       1.13621022, 0.97044543, 1.14456722, 1.12927831, 0.90565919,\n",
       "       1.43717009, 0.92003032, 0.98533734, 1.11909061, 0.69853981,\n",
       "       0.90249166, 0.69570268, 1.15273203, 1.27675554, 0.58451306,\n",
       "       1.39399753, 0.82365269, 0.75591634, 0.60124889, 1.14900356,\n",
       "       1.08055547, 0.62413629, 0.86806192, 1.16447936, 1.15455395,\n",
       "       0.85630684, 0.98455007, 0.74907249, 0.87647251, 1.06843529,\n",
       "       1.21202503, 0.8994976 , 1.10705738, 0.75691613, 0.85305314,\n",
       "       1.11464118, 1.04804967, 1.25215497, 1.20994044, 1.25038658,\n",
       "       0.99141646, 0.91830495, 0.8404517 , 0.91659095, 1.06763308,\n",
       "       1.44828256, 1.02174676, 0.95758546, 0.98164229, 0.86035371,\n",
       "       0.96112477, 1.4888156 , 1.22734769, 0.66696132, 0.88616182,\n",
       "       1.09934943, 0.78045791, 0.82801555, 0.85739976, 0.4396453 ,\n",
       "       1.03013029, 0.92238557, 0.95759696, 1.23003102, 0.83396409,\n",
       "       1.6319717 , 0.77347721, 1.11969724, 1.70217096, 0.83047453,\n",
       "       1.08427925, 1.09178412, 0.87609536, 1.10573411, 0.97959105,\n",
       "       0.88080014, 0.63765379, 1.29382513, 0.72870576, 0.89241854,\n",
       "       1.00300925, 0.60820898, 0.83622785, 1.01497618, 1.420008  ,\n",
       "       1.04231387, 0.88406615, 0.76398315, 1.22495377, 0.70902017,\n",
       "       0.74274017, 0.93195558, 0.78415368, 1.41481288, 0.84150364,\n",
       "       0.86390253, 0.61242447, 0.99448847, 0.66793606, 0.56930226,\n",
       "       0.61585472, 0.72119613, 0.61499286, 1.11512348, 1.03897552,\n",
       "       0.81316325, 0.75397644, 1.05415603, 1.30121433, 0.94880451,\n",
       "       1.20822944, 0.68591848, 1.34370433, 1.219955  , 0.80284015,\n",
       "       1.09358295, 1.0676039 , 1.11366814, 0.97946332, 1.20136024,\n",
       "       1.15667328, 0.70968884, 1.14895216, 0.58283363, 0.85799894,\n",
       "       1.08100264, 1.03759472, 0.81851456, 0.66148752, 1.09735211,\n",
       "       0.88279622, 1.05725998, 0.93289555, 1.21418246, 0.82330316,\n",
       "       0.92853893, 0.8507539 , 1.05435458, 1.28783351, 1.01988006,\n",
       "       1.18686211, 0.92694456, 1.30517384, 1.04414987, 0.92708555,\n",
       "       0.97342201, 1.19113905, 1.28994796, 0.81879831, 1.23383963,\n",
       "       1.48676156, 1.0932221 , 1.1225931 , 0.59064624, 0.7247269 ,\n",
       "       1.27721586, 0.75838361, 0.94531416, 0.82917484, 0.84249379,\n",
       "       1.04676971, 1.22247694, 0.76040714, 0.68081781, 1.25625896,\n",
       "       0.99885994, 0.6366102 , 0.83667198, 0.89182309, 1.07180481,\n",
       "       1.23687197, 0.78966224, 0.90328127, 1.09625914, 1.36959454,\n",
       "       0.43947254, 0.98988583, 0.87197891, 1.22577418, 1.06354488,\n",
       "       1.13995723, 1.23001446, 0.68743418, 0.90057201, 0.56285138,\n",
       "       0.89192442, 0.8529408 , 0.86357724, 1.19526896, 0.92089417,\n",
       "       1.07925669, 1.28424027, 0.61579059, 1.18340021, 0.74606827,\n",
       "       0.83749692, 0.8439027 , 1.06299443, 0.99408938, 1.0173005 ,\n",
       "       1.12285895, 0.91931398, 1.2104337 , 0.9463849 , 0.87833986,\n",
       "       1.1544226 , 1.15165637, 1.04161808, 0.52315276, 1.37677   ,\n",
       "       0.68332587, 1.2530683 , 1.00568527, 1.22275452, 1.21996501,\n",
       "       0.94685074, 0.42732106, 1.17493421, 0.86598209, 0.90188259,\n",
       "       0.73916779, 0.87641297, 1.11102342, 0.53461061, 0.89361763,\n",
       "       0.89990085, 1.10699316, 0.92235482, 1.02137005, 1.0727674 ,\n",
       "       0.84591838, 0.83900372, 0.94265344, 0.84781008, 0.86007726,\n",
       "       1.08073841, 0.69344193, 0.9201721 , 0.8508878 , 1.0201585 ,\n",
       "       1.19234469, 0.85618986, 1.04224144, 0.71529135, 1.26927831,\n",
       "       0.60360291, 1.23006927, 1.02018296, 0.64597948, 0.65435573,\n",
       "       0.77564988, 0.65902394, 0.59199874, 0.94520561, 1.05509418,\n",
       "       0.86328384, 1.18747825, 0.83895577, 1.15779559, 0.87521877,\n",
       "       0.60809108, 1.00158415, 0.84900741, 0.60491803, 1.10357704,\n",
       "       1.05237036, 0.90747827, 1.13524825, 1.22247666, 1.06826439,\n",
       "       1.12232443, 0.89610017, 0.54321961, 0.76832905, 0.96541986,\n",
       "       1.27365795, 0.9923049 , 1.02929651, 1.00553385, 0.84780837,\n",
       "       0.85132061, 1.30382313, 0.88512631, 1.00606806, 0.86797825,\n",
       "       0.81490779, 1.384469  , 1.11885074, 0.62965029, 0.98720999,\n",
       "       0.98875164, 0.65573681, 1.17111295, 0.69310579, 0.57588207,\n",
       "       0.91421178, 0.92679839, 1.08630009, 0.87258469, 1.51763854,\n",
       "       0.79788808, 0.85940285, 0.82611648, 0.65811033, 1.24427948,\n",
       "       0.96424957, 0.75503505, 0.78508641, 0.79057155, 0.71703375,\n",
       "       0.6409814 , 1.32558174, 1.022098  , 1.55360869, 1.0050015 ,\n",
       "       1.26485389, 0.8429898 , 0.91681456, 0.71400631, 0.77832816,\n",
       "       0.99645026, 0.95690754, 1.07989878, 0.53677995, 1.10743079,\n",
       "       1.49446538, 1.24279822, 1.34654471, 1.2835568 , 1.21868698,\n",
       "       0.89104778, 0.77864346, 1.36666968, 0.92661512, 1.05342741,\n",
       "       0.6955631 , 0.76336506, 0.88311226, 1.14850005, 1.10382397,\n",
       "       0.82534196, 1.25213539, 0.70232171, 0.99719588, 1.02551214,\n",
       "       1.46541866, 1.08890142, 0.48800068, 0.94737015, 0.72755715,\n",
       "       0.93696441, 0.93613076, 0.81207877, 1.01033955, 0.76229728,\n",
       "       0.91957771, 0.64382462, 1.20726685, 0.53829152, 0.74380887,\n",
       "       1.16660232, 0.71418677, 0.94058176, 0.84064041, 0.52575889,\n",
       "       0.90253765, 0.55344768, 0.65139792, 1.14164034, 0.7969157 ,\n",
       "       0.87100128, 0.99426998, 1.20257464, 1.02657442, 1.17307038,\n",
       "       0.74746759, 1.20598808, 1.02184282, 0.93381644, 0.85892889,\n",
       "       0.94602403, 0.92243148, 0.74809842, 1.01733067, 0.96953652,\n",
       "       0.92924741, 0.89304173, 0.78551556, 1.01802689, 0.87680769,\n",
       "       0.75784411, 1.05052282, 1.05362502, 0.91550185, 0.89520866,\n",
       "       0.74045187, 1.15887122, 0.96192318, 0.8864539 , 0.77812335,\n",
       "       0.72650176, 1.00171501, 1.57513292, 1.03687804, 0.65774013,\n",
       "       1.07950723, 0.99468403, 0.98928433, 0.90013193, 0.83516191,\n",
       "       0.76017561, 0.77583071, 0.53453292, 1.28275179, 1.01660983,\n",
       "       0.85726567, 0.48508816, 1.37441892, 0.79141168, 0.54290648,\n",
       "       0.63397107, 1.05612914, 1.08402447, 1.01902031, 1.08108779,\n",
       "       1.59137533, 0.95117837, 1.32882213, 1.18485779, 0.93659003,\n",
       "       0.93295074, 0.59172752, 0.86780266, 1.072304  , 0.6252465 ,\n",
       "       0.79649779, 0.80832954, 1.01747641, 0.90514933, 0.48004561,\n",
       "       0.79990654, 1.2816524 , 1.02190227, 1.13824549, 0.67711374,\n",
       "       1.20437725, 0.93772875, 0.88846883, 0.77298329, 0.55429352,\n",
       "       1.13427811, 0.59148698, 1.17004239, 0.79654597, 0.76683366,\n",
       "       1.11089277, 1.12920365, 0.73436288, 0.74504253, 0.71771411,\n",
       "       1.4007023 , 0.96314944, 1.11568076, 0.73130081, 0.92189044,\n",
       "       1.40903303, 0.97499942, 1.12397441, 1.07327754, 0.97607366,\n",
       "       1.12150775, 0.81850919, 1.44503656, 1.04472515, 1.1422349 ,\n",
       "       1.21457603, 1.33789323, 0.88331577, 0.8402166 , 0.60501098,\n",
       "       1.10565485, 0.93021931, 0.81747168, 0.72266414, 1.08082633,\n",
       "       0.75131077, 0.65688587, 0.97707585, 0.95825872, 1.07002295,\n",
       "       0.92345398, 0.56088831, 0.93269961, 0.71432936, 1.06005868,\n",
       "       1.23734055, 0.6362228 , 1.03326631, 1.10952984, 0.91288782,\n",
       "       0.99783599, 0.82292111, 0.81070004, 0.95025852, 0.51352696,\n",
       "       1.19594683, 0.82769336, 1.26053763, 0.94839007, 1.17018578,\n",
       "       1.26572828, 0.95496285, 0.68378127, 0.99510025, 1.06105379,\n",
       "       1.30575313, 0.79944577, 1.13371992, 1.23227564, 1.12233745,\n",
       "       0.79273813, 0.85561591, 0.82082256, 0.68656285, 0.76305706,\n",
       "       1.18279657, 1.07326146, 1.03851887, 1.35247251, 1.15433936,\n",
       "       0.85121003, 1.50929283, 1.54100281, 0.7981909 , 0.78961317,\n",
       "       1.29903978, 0.90396022, 1.02762059, 1.10758048, 0.85662926,\n",
       "       0.80605112, 1.247463  , 1.13402416, 0.8331766 , 0.87350645])"
      ]
     },
     "execution_count": 2,
     "metadata": {},
     "output_type": "execute_result"
    }
   ],
   "source": [
    "# ваш код тут\n",
    "# например вот такое распределение https://docs.scipy.org/doc/scipy/reference/generated/scipy.stats.cosine.html#scipy.stats.cosine\n",
    "\n",
    "nakagami_nu = sts.nakagami(nu = 4.97)\n",
    "sample= nakagami_nu.rvs(1000)\n",
    "sample"
   ]
  },
  {
   "cell_type": "code",
   "execution_count": 3,
   "metadata": {
    "colab": {
     "base_uri": "https://localhost:8080/",
     "height": 35
    },
    "id": "ScsjsI4oXgKR",
    "outputId": "86833794-f43b-436e-a0e4-c3b7483df016"
   },
   "outputs": [
    {
     "data": {
      "text/plain": [
       "dtype('float64')"
      ]
     },
     "execution_count": 3,
     "metadata": {},
     "output_type": "execute_result"
    }
   ],
   "source": [
    "sample.dtype"
   ]
  },
  {
   "cell_type": "code",
   "execution_count": 4,
   "metadata": {
    "id": "pXTNSqAOCYX4"
   },
   "outputs": [
    {
     "data": {
      "text/plain": [
       "0.9752036285923569"
      ]
     },
     "execution_count": 4,
     "metadata": {},
     "output_type": "execute_result"
    }
   ],
   "source": [
    "real_mean = nakagami_nu.mean() # настоящее среднее случайной величины\n",
    "real_mean"
   ]
  },
  {
   "cell_type": "code",
   "execution_count": 5,
   "metadata": {
    "id": "5x4hFKaUCWSY"
   },
   "outputs": [
    {
     "data": {
      "text/plain": [
       "0.048977882780300463"
      ]
     },
     "execution_count": 5,
     "metadata": {},
     "output_type": "execute_result"
    }
   ],
   "source": [
    "real_var = nakagami_nu.var() # настоящая дисперсия случайной величины\n",
    "real_var"
   ]
  },
  {
   "cell_type": "markdown",
   "metadata": {
    "id": "4bNn15giIX77"
   },
   "source": [
    "### Постройте гистограмму выборки и теоретическую плотность распределения"
   ]
  },
  {
   "cell_type": "code",
   "execution_count": 88,
   "metadata": {
    "colab": {
     "base_uri": "https://localhost:8080/",
     "height": 283
    },
    "id": "CwbvqecvIcXN",
    "outputId": "ace01d5d-2552-499b-bc4f-1eb19166af83"
   },
   "outputs": [
    {
     "data": {
      "image/png": "[encoded data removed]",
      "text/plain": [
       "<Figure size 432x288 with 1 Axes>"
      ]
     },
     "metadata": {
      "needs_background": "light"
     },
     "output_type": "display_data"
    }
   ],
   "source": [
    "# ваш код тут\n",
    "plt.hist(sample, density=True)\n",
    "x = np.linspace(-2,2,100)\n",
    "pdf = nakagami_nu.pdf(x)\n",
    "plt.plot(x, pdf, label='теоретическая плотность', alpha=1)\n",
    "plt.legend();"
   ]
  },
  {
   "cell_type": "code",
   "execution_count": 7,
   "metadata": {
    "colab": {
     "base_uri": "https://localhost:8080/",
     "height": 51
    },
    "id": "rKd5XFelBqe7",
    "outputId": "32773b82-a3e9-46a2-b06d-a94d667d4f66"
   },
   "outputs": [
    {
     "name": "stdout",
     "output_type": "stream",
     "text": [
      "0.9631491128050834\n",
      "0.05025571983940325\n"
     ]
    }
   ],
   "source": [
    "sample_mean = sample.mean() # выборочное среднее\n",
    "print(sample_mean)\n",
    "sample_var = sample.var() # выборочная дисперсия\n",
    "print(sample_var)"
   ]
  },
  {
   "cell_type": "markdown",
   "metadata": {
    "id": "qPuHR68NId_Z"
   },
   "source": [
    "### Оценим распределение выборочного среднего для разных объёмов выборок\n",
    "Для этого постройте на одном полотне гистограмму выборочных средних и теоретическое распределение выборочных средних по ЦПТ для разных объёмов выборок.\n",
    "\n",
    "Для теоретического распределение используйте настоящие значения мат ожидания и дисперсии (не приближенные на основе выборки)."
   ]
  },
  {
   "cell_type": "code",
   "execution_count": 108,
   "metadata": {
    "id": "_mB8upK7J58w"
   },
   "outputs": [
    {
     "data": {
      "image/png": "[encoded data removed]",
      "text/plain": [
       "<Figure size 1152x648 with 1 Axes>"
      ]
     },
     "metadata": {
      "needs_background": "light"
     },
     "output_type": "display_data"
    }
   ],
   "source": [
    "# ваш код тут\n",
    "plt.figure(figsize=(16,9))\n",
    "sample_size = [10, 100, 1000, 10000]\n",
    "for k in sample_size:\n",
    "    means = []\n",
    "    for i in range(10000):\n",
    "        means.append(np.mean(nakagami_nu.rvs(50)))\n",
    "    plt.hist(means, bins=25, density=True, alpha=0.5)\n",
    "\n",
    "norm_rv = sts.norm(loc=nakagami_nu.mean(), scale=nakagami_nu.std() / np.sqrt(50))\n",
    "x = np.linspace(0.7, 1.2, 1000)\n",
    "pdf = norm_rv.pdf(x)\n",
    "plt.plot(x, pdf, alpha = 1)\n",
    "plt.legend(['norm_rv', '10', '100', '1000', '10000'])\n",
    "plt.show();"
   ]
  },
  {
   "cell_type": "markdown",
   "metadata": {
    "id": "TF1onBy_J7sX"
   },
   "source": [
    "Как вы считаете, для выбранного распределения апроксимация распределения выборочного среднего работает хорошо или плохо?\n",
    "**Ваш ответ:**"
   ]
  },
  {
   "cell_type": "markdown",
   "metadata": {},
   "source": [
    "<div class=\"alert alert-block alert-success\">\n",
    "Чем больше выборка, тем лучше (точнее) работает апроксимация\n",
    "</div>"
   ]
  },
  {
   "cell_type": "markdown",
   "metadata": {
    "id": "xEyWxfjSfxGp"
   },
   "source": [
    "## Доверительный интервал на основе ЦПТ\n",
    "Возьмите данные для оттока телеком компании, и постройте доверительные интервалы для среднего значения total day calls, используя центральную предельную теорему в разбиении по колонке churn (ушел/не ушел). \n",
    "\n",
    "Для оценки дисперсии используйте несмещенную оценку (параметр ddof=1).\n",
    "\n",
    "Сделайте оценку с использованием явной формулы для z интервала, а затем с помощью функций \n",
    "`from statsmodels.stats.weightstats import _zconfint_generic`. Сравните результаты.\n",
    "\n",
    "\n",
    "Ссылка на данные: https://drive.google.com/file/d/1X_drKqoarnU2Sz2har7uSCsgyhh8Xtz8/view?usp=sharing"
   ]
  },
  {
   "cell_type": "code",
   "execution_count": 58,
   "metadata": {},
   "outputs": [
    {
     "data": {
      "text/html": [
       "<div>\n",
       "<style scoped>\n",
       "    .dataframe tbody tr th:only-of-type {\n",
       "        vertical-align: middle;\n",
       "    }\n",
       "\n",
       "    .dataframe tbody tr th {\n",
       "        vertical-align: top;\n",
       "    }\n",
       "\n",
       "    .dataframe thead th {\n",
       "        text-align: right;\n",
       "    }\n",
       "</style>\n",
       "<table border=\"1\" class=\"dataframe\">\n",
       "  <thead>\n",
       "    <tr style=\"text-align: right;\">\n",
       "      <th></th>\n",
       "      <th>state</th>\n",
       "      <th>account length</th>\n",
       "      <th>area code</th>\n",
       "      <th>phone number</th>\n",
       "      <th>international plan</th>\n",
       "      <th>voice mail plan</th>\n",
       "      <th>number vmail messages</th>\n",
       "      <th>total day minutes</th>\n",
       "      <th>total day calls</th>\n",
       "      <th>total day charge</th>\n",
       "      <th>...</th>\n",
       "      <th>total eve calls</th>\n",
       "      <th>total eve charge</th>\n",
       "      <th>total night minutes</th>\n",
       "      <th>total night calls</th>\n",
       "      <th>total night charge</th>\n",
       "      <th>total intl minutes</th>\n",
       "      <th>total intl calls</th>\n",
       "      <th>total intl charge</th>\n",
       "      <th>customer service calls</th>\n",
       "      <th>churn</th>\n",
       "    </tr>\n",
       "  </thead>\n",
       "  <tbody>\n",
       "    <tr>\n",
       "      <th>0</th>\n",
       "      <td>KS</td>\n",
       "      <td>128</td>\n",
       "      <td>415</td>\n",
       "      <td>382-4657</td>\n",
       "      <td>no</td>\n",
       "      <td>yes</td>\n",
       "      <td>25</td>\n",
       "      <td>265.1</td>\n",
       "      <td>110</td>\n",
       "      <td>45.07</td>\n",
       "      <td>...</td>\n",
       "      <td>99</td>\n",
       "      <td>16.78</td>\n",
       "      <td>244.7</td>\n",
       "      <td>91</td>\n",
       "      <td>11.01</td>\n",
       "      <td>10.0</td>\n",
       "      <td>3</td>\n",
       "      <td>2.70</td>\n",
       "      <td>1</td>\n",
       "      <td>False</td>\n",
       "    </tr>\n",
       "    <tr>\n",
       "      <th>1</th>\n",
       "      <td>OH</td>\n",
       "      <td>107</td>\n",
       "      <td>415</td>\n",
       "      <td>371-7191</td>\n",
       "      <td>no</td>\n",
       "      <td>yes</td>\n",
       "      <td>26</td>\n",
       "      <td>161.6</td>\n",
       "      <td>123</td>\n",
       "      <td>27.47</td>\n",
       "      <td>...</td>\n",
       "      <td>103</td>\n",
       "      <td>16.62</td>\n",
       "      <td>254.4</td>\n",
       "      <td>103</td>\n",
       "      <td>11.45</td>\n",
       "      <td>13.7</td>\n",
       "      <td>3</td>\n",
       "      <td>3.70</td>\n",
       "      <td>1</td>\n",
       "      <td>False</td>\n",
       "    </tr>\n",
       "    <tr>\n",
       "      <th>2</th>\n",
       "      <td>NJ</td>\n",
       "      <td>137</td>\n",
       "      <td>415</td>\n",
       "      <td>358-1921</td>\n",
       "      <td>no</td>\n",
       "      <td>no</td>\n",
       "      <td>0</td>\n",
       "      <td>243.4</td>\n",
       "      <td>114</td>\n",
       "      <td>41.38</td>\n",
       "      <td>...</td>\n",
       "      <td>110</td>\n",
       "      <td>10.30</td>\n",
       "      <td>162.6</td>\n",
       "      <td>104</td>\n",
       "      <td>7.32</td>\n",
       "      <td>12.2</td>\n",
       "      <td>5</td>\n",
       "      <td>3.29</td>\n",
       "      <td>0</td>\n",
       "      <td>False</td>\n",
       "    </tr>\n",
       "    <tr>\n",
       "      <th>3</th>\n",
       "      <td>OH</td>\n",
       "      <td>84</td>\n",
       "      <td>408</td>\n",
       "      <td>375-9999</td>\n",
       "      <td>yes</td>\n",
       "      <td>no</td>\n",
       "      <td>0</td>\n",
       "      <td>299.4</td>\n",
       "      <td>71</td>\n",
       "      <td>50.90</td>\n",
       "      <td>...</td>\n",
       "      <td>88</td>\n",
       "      <td>5.26</td>\n",
       "      <td>196.9</td>\n",
       "      <td>89</td>\n",
       "      <td>8.86</td>\n",
       "      <td>6.6</td>\n",
       "      <td>7</td>\n",
       "      <td>1.78</td>\n",
       "      <td>2</td>\n",
       "      <td>False</td>\n",
       "    </tr>\n",
       "    <tr>\n",
       "      <th>4</th>\n",
       "      <td>OK</td>\n",
       "      <td>75</td>\n",
       "      <td>415</td>\n",
       "      <td>330-6626</td>\n",
       "      <td>yes</td>\n",
       "      <td>no</td>\n",
       "      <td>0</td>\n",
       "      <td>166.7</td>\n",
       "      <td>113</td>\n",
       "      <td>28.34</td>\n",
       "      <td>...</td>\n",
       "      <td>122</td>\n",
       "      <td>12.61</td>\n",
       "      <td>186.9</td>\n",
       "      <td>121</td>\n",
       "      <td>8.41</td>\n",
       "      <td>10.1</td>\n",
       "      <td>3</td>\n",
       "      <td>2.73</td>\n",
       "      <td>3</td>\n",
       "      <td>False</td>\n",
       "    </tr>\n",
       "    <tr>\n",
       "      <th>...</th>\n",
       "      <td>...</td>\n",
       "      <td>...</td>\n",
       "      <td>...</td>\n",
       "      <td>...</td>\n",
       "      <td>...</td>\n",
       "      <td>...</td>\n",
       "      <td>...</td>\n",
       "      <td>...</td>\n",
       "      <td>...</td>\n",
       "      <td>...</td>\n",
       "      <td>...</td>\n",
       "      <td>...</td>\n",
       "      <td>...</td>\n",
       "      <td>...</td>\n",
       "      <td>...</td>\n",
       "      <td>...</td>\n",
       "      <td>...</td>\n",
       "      <td>...</td>\n",
       "      <td>...</td>\n",
       "      <td>...</td>\n",
       "      <td>...</td>\n",
       "    </tr>\n",
       "    <tr>\n",
       "      <th>3328</th>\n",
       "      <td>AZ</td>\n",
       "      <td>192</td>\n",
       "      <td>415</td>\n",
       "      <td>414-4276</td>\n",
       "      <td>no</td>\n",
       "      <td>yes</td>\n",
       "      <td>36</td>\n",
       "      <td>156.2</td>\n",
       "      <td>77</td>\n",
       "      <td>26.55</td>\n",
       "      <td>...</td>\n",
       "      <td>126</td>\n",
       "      <td>18.32</td>\n",
       "      <td>279.1</td>\n",
       "      <td>83</td>\n",
       "      <td>12.56</td>\n",
       "      <td>9.9</td>\n",
       "      <td>6</td>\n",
       "      <td>2.67</td>\n",
       "      <td>2</td>\n",
       "      <td>False</td>\n",
       "    </tr>\n",
       "    <tr>\n",
       "      <th>3329</th>\n",
       "      <td>WV</td>\n",
       "      <td>68</td>\n",
       "      <td>415</td>\n",
       "      <td>370-3271</td>\n",
       "      <td>no</td>\n",
       "      <td>no</td>\n",
       "      <td>0</td>\n",
       "      <td>231.1</td>\n",
       "      <td>57</td>\n",
       "      <td>39.29</td>\n",
       "      <td>...</td>\n",
       "      <td>55</td>\n",
       "      <td>13.04</td>\n",
       "      <td>191.3</td>\n",
       "      <td>123</td>\n",
       "      <td>8.61</td>\n",
       "      <td>9.6</td>\n",
       "      <td>4</td>\n",
       "      <td>2.59</td>\n",
       "      <td>3</td>\n",
       "      <td>False</td>\n",
       "    </tr>\n",
       "    <tr>\n",
       "      <th>3330</th>\n",
       "      <td>RI</td>\n",
       "      <td>28</td>\n",
       "      <td>510</td>\n",
       "      <td>328-8230</td>\n",
       "      <td>no</td>\n",
       "      <td>no</td>\n",
       "      <td>0</td>\n",
       "      <td>180.8</td>\n",
       "      <td>109</td>\n",
       "      <td>30.74</td>\n",
       "      <td>...</td>\n",
       "      <td>58</td>\n",
       "      <td>24.55</td>\n",
       "      <td>191.9</td>\n",
       "      <td>91</td>\n",
       "      <td>8.64</td>\n",
       "      <td>14.1</td>\n",
       "      <td>6</td>\n",
       "      <td>3.81</td>\n",
       "      <td>2</td>\n",
       "      <td>False</td>\n",
       "    </tr>\n",
       "    <tr>\n",
       "      <th>3331</th>\n",
       "      <td>CT</td>\n",
       "      <td>184</td>\n",
       "      <td>510</td>\n",
       "      <td>364-6381</td>\n",
       "      <td>yes</td>\n",
       "      <td>no</td>\n",
       "      <td>0</td>\n",
       "      <td>213.8</td>\n",
       "      <td>105</td>\n",
       "      <td>36.35</td>\n",
       "      <td>...</td>\n",
       "      <td>84</td>\n",
       "      <td>13.57</td>\n",
       "      <td>139.2</td>\n",
       "      <td>137</td>\n",
       "      <td>6.26</td>\n",
       "      <td>5.0</td>\n",
       "      <td>10</td>\n",
       "      <td>1.35</td>\n",
       "      <td>2</td>\n",
       "      <td>False</td>\n",
       "    </tr>\n",
       "    <tr>\n",
       "      <th>3332</th>\n",
       "      <td>TN</td>\n",
       "      <td>74</td>\n",
       "      <td>415</td>\n",
       "      <td>400-4344</td>\n",
       "      <td>no</td>\n",
       "      <td>yes</td>\n",
       "      <td>25</td>\n",
       "      <td>234.4</td>\n",
       "      <td>113</td>\n",
       "      <td>39.85</td>\n",
       "      <td>...</td>\n",
       "      <td>82</td>\n",
       "      <td>22.60</td>\n",
       "      <td>241.4</td>\n",
       "      <td>77</td>\n",
       "      <td>10.86</td>\n",
       "      <td>13.7</td>\n",
       "      <td>4</td>\n",
       "      <td>3.70</td>\n",
       "      <td>0</td>\n",
       "      <td>False</td>\n",
       "    </tr>\n",
       "  </tbody>\n",
       "</table>\n",
       "<p>3333 rows × 21 columns</p>\n",
       "</div>"
      ],
      "text/plain": [
       "     state  account length  area code phone number international plan  \\\n",
       "0       KS             128        415     382-4657                 no   \n",
       "1       OH             107        415     371-7191                 no   \n",
       "2       NJ             137        415     358-1921                 no   \n",
       "3       OH              84        408     375-9999                yes   \n",
       "4       OK              75        415     330-6626                yes   \n",
       "...    ...             ...        ...          ...                ...   \n",
       "3328    AZ             192        415     414-4276                 no   \n",
       "3329    WV              68        415     370-3271                 no   \n",
       "3330    RI              28        510     328-8230                 no   \n",
       "3331    CT             184        510     364-6381                yes   \n",
       "3332    TN              74        415     400-4344                 no   \n",
       "\n",
       "     voice mail plan  number vmail messages  total day minutes  \\\n",
       "0                yes                     25              265.1   \n",
       "1                yes                     26              161.6   \n",
       "2                 no                      0              243.4   \n",
       "3                 no                      0              299.4   \n",
       "4                 no                      0              166.7   \n",
       "...              ...                    ...                ...   \n",
       "3328             yes                     36              156.2   \n",
       "3329              no                      0              231.1   \n",
       "3330              no                      0              180.8   \n",
       "3331              no                      0              213.8   \n",
       "3332             yes                     25              234.4   \n",
       "\n",
       "      total day calls  total day charge  ...  total eve calls  \\\n",
       "0                 110             45.07  ...               99   \n",
       "1                 123             27.47  ...              103   \n",
       "2                 114             41.38  ...              110   \n",
       "3                  71             50.90  ...               88   \n",
       "4                 113             28.34  ...              122   \n",
       "...               ...               ...  ...              ...   \n",
       "3328               77             26.55  ...              126   \n",
       "3329               57             39.29  ...               55   \n",
       "3330              109             30.74  ...               58   \n",
       "3331              105             36.35  ...               84   \n",
       "3332              113             39.85  ...               82   \n",
       "\n",
       "      total eve charge  total night minutes  total night calls  \\\n",
       "0                16.78                244.7                 91   \n",
       "1                16.62                254.4                103   \n",
       "2                10.30                162.6                104   \n",
       "3                 5.26                196.9                 89   \n",
       "4                12.61                186.9                121   \n",
       "...                ...                  ...                ...   \n",
       "3328             18.32                279.1                 83   \n",
       "3329             13.04                191.3                123   \n",
       "3330             24.55                191.9                 91   \n",
       "3331             13.57                139.2                137   \n",
       "3332             22.60                241.4                 77   \n",
       "\n",
       "      total night charge  total intl minutes  total intl calls  \\\n",
       "0                  11.01                10.0                 3   \n",
       "1                  11.45                13.7                 3   \n",
       "2                   7.32                12.2                 5   \n",
       "3                   8.86                 6.6                 7   \n",
       "4                   8.41                10.1                 3   \n",
       "...                  ...                 ...               ...   \n",
       "3328               12.56                 9.9                 6   \n",
       "3329                8.61                 9.6                 4   \n",
       "3330                8.64                14.1                 6   \n",
       "3331                6.26                 5.0                10   \n",
       "3332               10.86                13.7                 4   \n",
       "\n",
       "      total intl charge  customer service calls  churn  \n",
       "0                  2.70                       1  False  \n",
       "1                  3.70                       1  False  \n",
       "2                  3.29                       0  False  \n",
       "3                  1.78                       2  False  \n",
       "4                  2.73                       3  False  \n",
       "...                 ...                     ...    ...  \n",
       "3328               2.67                       2  False  \n",
       "3329               2.59                       3  False  \n",
       "3330               3.81                       2  False  \n",
       "3331               1.35                       2  False  \n",
       "3332               3.70                       0  False  \n",
       "\n",
       "[3333 rows x 21 columns]"
      ]
     },
     "metadata": {},
     "output_type": "display_data"
    }
   ],
   "source": [
    "# либо загружаем из альтернативного хранилища\n",
    "url =\"https://raw.githubusercontent.com/piton1/DS/Lesson_5/telecom_churn.csv\"\n",
    "df=pd.read_csv(url)\n",
    "display(df)"
   ]
  },
  {
   "cell_type": "code",
   "execution_count": 76,
   "metadata": {},
   "outputs": [
    {
     "data": {
      "text/html": [
       "<div>\n",
       "<style scoped>\n",
       "    .dataframe tbody tr th:only-of-type {\n",
       "        vertical-align: middle;\n",
       "    }\n",
       "\n",
       "    .dataframe tbody tr th {\n",
       "        vertical-align: top;\n",
       "    }\n",
       "\n",
       "    .dataframe thead th {\n",
       "        text-align: right;\n",
       "    }\n",
       "</style>\n",
       "<table border=\"1\" class=\"dataframe\">\n",
       "  <thead>\n",
       "    <tr style=\"text-align: right;\">\n",
       "      <th></th>\n",
       "      <th>mean</th>\n",
       "      <th>count</th>\n",
       "      <th>std</th>\n",
       "      <th>var</th>\n",
       "    </tr>\n",
       "    <tr>\n",
       "      <th>churn</th>\n",
       "      <th></th>\n",
       "      <th></th>\n",
       "      <th></th>\n",
       "      <th></th>\n",
       "    </tr>\n",
       "  </thead>\n",
       "  <tbody>\n",
       "    <tr>\n",
       "      <th>False</th>\n",
       "      <td>100.283158</td>\n",
       "      <td>2850</td>\n",
       "      <td>19.801157</td>\n",
       "      <td>392.085817</td>\n",
       "    </tr>\n",
       "    <tr>\n",
       "      <th>True</th>\n",
       "      <td>101.335404</td>\n",
       "      <td>483</td>\n",
       "      <td>21.582307</td>\n",
       "      <td>465.795985</td>\n",
       "    </tr>\n",
       "  </tbody>\n",
       "</table>\n",
       "</div>"
      ],
      "text/plain": [
       "             mean  count        std         var\n",
       "churn                                          \n",
       "False  100.283158   2850  19.801157  392.085817\n",
       "True   101.335404    483  21.582307  465.795985"
      ]
     },
     "execution_count": 76,
     "metadata": {},
     "output_type": "execute_result"
    }
   ],
   "source": [
    "stats = df.groupby(['churn'])['total day calls'].agg(['mean', 'count', 'std', 'var'])\n",
    "stats"
   ]
  },
  {
   "cell_type": "code",
   "execution_count": 122,
   "metadata": {},
   "outputs": [
    {
     "data": {
      "text/html": [
       "<div>\n",
       "<style scoped>\n",
       "    .dataframe tbody tr th:only-of-type {\n",
       "        vertical-align: middle;\n",
       "    }\n",
       "\n",
       "    .dataframe tbody tr th {\n",
       "        vertical-align: top;\n",
       "    }\n",
       "\n",
       "    .dataframe thead th {\n",
       "        text-align: right;\n",
       "    }\n",
       "</style>\n",
       "<table border=\"1\" class=\"dataframe\">\n",
       "  <thead>\n",
       "    <tr style=\"text-align: right;\">\n",
       "      <th></th>\n",
       "      <th>ci95_lo</th>\n",
       "      <th>ci95_hi</th>\n",
       "    </tr>\n",
       "  </thead>\n",
       "  <tbody>\n",
       "    <tr>\n",
       "      <th>False</th>\n",
       "      <td>99.556175</td>\n",
       "      <td>101.010141</td>\n",
       "    </tr>\n",
       "    <tr>\n",
       "      <th>True</th>\n",
       "      <td>99.410627</td>\n",
       "      <td>103.260181</td>\n",
       "    </tr>\n",
       "  </tbody>\n",
       "</table>\n",
       "</div>"
      ],
      "text/plain": [
       "         ci95_lo     ci95_hi\n",
       "False  99.556175  101.010141\n",
       "True   99.410627  103.260181"
      ]
     },
     "execution_count": 122,
     "metadata": {},
     "output_type": "execute_result"
    }
   ],
   "source": [
    "ci95_hi = []\n",
    "ci95_lo = []\n",
    "stats_1 = pd.DataFrame(index = ['False', 'True'])\n",
    "for i in stats.index:\n",
    "    m, c, s, a = stats.loc[i]\n",
    "    ci95_hi.append(m + 1.96*s/np.sqrt(c))\n",
    "    ci95_lo.append(m - 1.96*s/np.sqrt(c))\n",
    "stats_1['ci95_lo'] = ci95_lo\n",
    "stats_1['ci95_hi'] = ci95_hi\n",
    "\n",
    "stats_1"
   ]
  },
  {
   "cell_type": "code",
   "execution_count": 123,
   "metadata": {},
   "outputs": [
    {
     "name": "stdout",
     "output_type": "stream",
     "text": [
      "Доверительный интервал для среднего по цпт интервальная оценка (false): (99.55618833318324, 101.01012745629045) \n",
      "Доверительный интервал для среднего по цпт интервальная оценка (true): (99.41066229112079, 103.26014516229537) \n"
     ]
    }
   ],
   "source": [
    "print(\"Доверительный интервал для среднего по цпт интервальная оценка (false): {} \".format(\n",
    "    sts.norm.interval(alpha=0.95, loc=np.mean(df[df['churn'] == False]['total day calls']), \n",
    "                      scale=np.std(df[df['churn'] == False]['total day calls'], ddof=1)/\n",
    "                      np.sqrt(df[df['churn'] == False]['total day calls'].count()))))\n",
    "print(\"Доверительный интервал для среднего по цпт интервальная оценка (true): {} \".format(\n",
    "    sts.norm.interval(alpha=0.95, loc=np.mean(df[df['churn'] == True]['total day calls']), \n",
    "                      scale=np.std(df[df['churn'] == True]['total day calls'], ddof=1)/\n",
    "                      np.sqrt(df[df['churn'] == True]['total day calls'].count()))))\n"
   ]
  },
  {
   "cell_type": "code",
   "execution_count": 124,
   "metadata": {},
   "outputs": [
    {
     "name": "stdout",
     "output_type": "stream",
     "text": [
      "Доверительный интервал для среднего по цпт методом _zconfint_generic (false): (99.04149114274126, 101.52482464673243) \n",
      "Доверительный интервал для среднего по цпт методом _zconfint_generic (true): (99.98204678079553, 102.68876067262063) \n"
     ]
    }
   ],
   "source": [
    "print(\"Доверительный интервал для среднего по цпт методом _zconfint_generic (false): {} \".format(\n",
    "    ssw._zconfint_generic(np.mean(df[df['churn'] == False]['total day calls']),  \n",
    "                          np.std(df[df['churn'] == False]['total day calls'], ddof=1), alpha=0.95, alternative='two-sided')\n",
    "))\n",
    "print(\"Доверительный интервал для среднего по цпт методом _zconfint_generic (true): {} \".format(\n",
    "    ssw._zconfint_generic(np.mean(df[df['churn'] == True]['total day calls']),  \n",
    "                          np.std(df[df['churn'] == True]['total day calls'], ddof=1), alpha=0.95, alternative='two-sided')\n",
    "))"
   ]
  },
  {
   "cell_type": "code",
   "execution_count": 154,
   "metadata": {},
   "outputs": [
    {
     "name": "stdout",
     "output_type": "stream",
     "text": [
      "Доверительный интервал c использованием явной формулы для z интервала (False):  99.29310004714658 101.27321574232711\n",
      "Доверительный интервал с использованием явной формулы для z интервала (True):  100.2562883660543 102.41451908736185\n"
     ]
    }
   ],
   "source": [
    "print(\"Доверительный интервал c использованием явной формулы для z интервала (False): \", \n",
    "      df[df['churn'] == False]['total day calls'].mean()-0.05*df[df['churn'] == False]['total day calls'].std(), \n",
    "      df[df['churn'] == False]['total day calls'].mean()+0.05*df[df['churn'] == False]['total day calls'].std())\n",
    "print(\"Доверительный интервал с использованием явной формулы для z интервала (True): \", \n",
    "      df[df['churn'] == True]['total day calls'].mean()-0.05*df[df['churn'] == True]['total day calls'].std(), \n",
    "      df[df['churn'] == True]['total day calls'].mean()+0.05*df[df['churn'] == True]['total day calls'].std())"
   ]
  }
 ],
 "metadata": {
  "colab": {
   "collapsed_sections": [],
   "name": "Практика к занятию 12.ipynb",
   "provenance": []
  },
  "kernelspec": {
   "display_name": "Python 3",
   "language": "python",
   "name": "python3"
  },
  "language_info": {
   "codemirror_mode": {
    "name": "ipython",
    "version": 3
   },
   "file_extension": ".py",
   "mimetype": "text/x-python",
   "name": "python",
   "nbconvert_exporter": "python",
   "pygments_lexer": "ipython3",
   "version": "3.7.6"
  },
  "toc": {
   "base_numbering": 1,
   "nav_menu": {},
   "number_sections": true,
   "sideBar": true,
   "skip_h1_title": false,
   "title_cell": "Table of Contents",
   "title_sidebar": "Contents",
   "toc_cell": true,
   "toc_position": {},
   "toc_section_display": true,
   "toc_window_display": false
  }
 },
 "nbformat": 4,
 "nbformat_minor": 1
}
