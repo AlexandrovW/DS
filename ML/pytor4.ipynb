{
 "cells": [
  {
   "cell_type": "markdown",
   "metadata": {
    "toc": true
   },
   "source": [
    "<h1>Table of Contents<span class=\"tocSkip\"></span></h1>\n",
    "<div class=\"toc\"><ul class=\"toc-item\"><li><span><a href=\"#Написать-на-PyTorch-forward-и-backward-полносвязного-слоя-без-использования-autograd\" data-toc-modified-id=\"Написать-на-PyTorch-forward-и-backward-полносвязного-слоя-без-использования-autograd-1\"><span class=\"toc-item-num\">1&nbsp;&nbsp;</span>Написать на PyTorch forward и backward полносвязного слоя без использования autograd</a></span></li><li><span><a href=\"#Написать-1-2-адаптивных-оптимизатора\" data-toc-modified-id=\"Написать-1-2-адаптивных-оптимизатора-2\"><span class=\"toc-item-num\">2&nbsp;&nbsp;</span>Написать 1-2 адаптивных оптимизатора</a></span></li><li><span><a href=\"#Решить-задачу-нахождения-корней-квадратного-уравнения-методом-градиентного-спуска\" data-toc-modified-id=\"Решить-задачу-нахождения-корней-квадратного-уравнения-методом-градиентного-спуска-3\"><span class=\"toc-item-num\">3&nbsp;&nbsp;</span>Решить задачу нахождения корней квадратного уравнения методом градиентного спуска</a></span></li></ul></div>"
   ]
  },
  {
   "cell_type": "code",
   "execution_count": 40,
   "metadata": {},
   "outputs": [],
   "source": [
    "import torch\n",
    "import torch.nn as nn\n",
    "import numpy as np"
   ]
  },
  {
   "cell_type": "markdown",
   "metadata": {},
   "source": [
    "# Написать на PyTorch forward и backward полносвязного слоя без использования autograd"
   ]
  },
  {
   "cell_type": "code",
   "execution_count": 48,
   "metadata": {},
   "outputs": [],
   "source": [
    "def sigmoid (x):\n",
    "    return 1/(1 + torch.exp(-x))\n",
    "\n",
    "def derivatives_sigmoid(x):\n",
    "    return x * (1 - x)\n",
    "\n",
    "class NN(nn.Module):\n",
    "    def __init__(self, input_dim: int, output_dim: int):\n",
    "        super().__init__()\n",
    "        self.linear = nn.Linear(in_features=input_dim, out_features=output_dim)\n",
    "        self.activation = sigmoid\n",
    "        self.saved_tensors = None\n",
    "\n",
    "    def forward(self, input_x):\n",
    "        self.saved_tensors = input_x\n",
    "        return self.activation(self.linear(input_x))\n",
    "\n",
    "    def backward(self, grad_output):\n",
    "        return grad_output * derivatives_sigmoid(self.saved_tensors)"
   ]
  },
  {
   "cell_type": "markdown",
   "metadata": {},
   "source": [
    "# Написать 1-2 адаптивных оптимизатора"
   ]
  },
  {
   "cell_type": "code",
   "execution_count": 41,
   "metadata": {},
   "outputs": [],
   "source": [
    "class Adagrad:\n",
    "    def __init__(self, lr, model):\n",
    "        self.accumulated = torch.zeros_like(model)\n",
    "        self.lr = lr\n",
    "        self.adapt_lr = lr\n",
    "        self.model = model\n",
    "\n",
    "    def step(self, grad):\n",
    "        self.accumulated += grad**2\n",
    "        self.adapt_lr = self.lr / torch.sqrt(self.accumulated)\n",
    "        self.model -= self.adapt_lr * grad"
   ]
  },
  {
   "cell_type": "code",
   "execution_count": 42,
   "metadata": {},
   "outputs": [],
   "source": [
    "class RMSprop:\n",
    "    def __init__(self, rho, lr, model):\n",
    "        self.accumulated = torch.zeros_like(model)\n",
    "        self.rho = rho\n",
    "        self.lr = lr\n",
    "        self.adapt_lr = lr\n",
    "        self.model = model\n",
    "\n",
    "    def step(self, grad):\n",
    "        self.accumulated += self.rho * self.accumulated + (1 - self.rho) * grad**2\n",
    "        self.adapt_lr = self.lr / torch.sqrt(self.accumulated)\n",
    "        self.model -= self.adapt_lr * grad"
   ]
  },
  {
   "cell_type": "markdown",
   "metadata": {},
   "source": [
    "# Решить задачу нахождения корней квадратного уравнения методом градиентного спуска"
   ]
  },
  {
   "cell_type": "code",
   "execution_count": 36,
   "metadata": {},
   "outputs": [],
   "source": [
    "def j(x):\n",
    "    \"\" \"Квадратное уравнение с одной переменной\" \"\"\n",
    "    try:\n",
    "        return (2 * x -7) ** 2\n",
    "    except:\n",
    "        return float('inf')\n",
    "\n",
    "def dj(x):\n",
    "    return 2 * (2 * x - 7) * 2\n",
    "\n",
    "def gradient_descent(x=6, eta=0.01, epsilon=1e-8, max_iters=10000):\n",
    "    theta_history = [x]\n",
    "    while max_iters>0:\n",
    "        gradient = dj(x)\n",
    "        last_theta = x\n",
    "        x = x - eta * gradient\n",
    "        theta_history.append(x)\n",
    "        \n",
    "        if(abs(j(x)-j(last_theta)) < epsilon):\n",
    "            break\n",
    "        max_iters -= 1\n",
    "    print('x: ', x)"
   ]
  },
  {
   "cell_type": "code",
   "execution_count": 37,
   "metadata": {},
   "outputs": [
    {
     "name": "stdout",
     "output_type": "stream",
     "text": [
      "x:  3.5001128442125107\n"
     ]
    }
   ],
   "source": [
    "gradient_descent()"
   ]
  }
 ],
 "metadata": {
  "kernelspec": {
   "display_name": "Python 3",
   "language": "python",
   "name": "python3"
  },
  "language_info": {
   "codemirror_mode": {
    "name": "ipython",
    "version": 3
   },
   "file_extension": ".py",
   "mimetype": "text/x-python",
   "name": "python",
   "nbconvert_exporter": "python",
   "pygments_lexer": "ipython3",
   "version": "3.7.6"
  },
  "toc": {
   "base_numbering": 1,
   "nav_menu": {},
   "number_sections": true,
   "sideBar": true,
   "skip_h1_title": false,
   "title_cell": "Table of Contents",
   "title_sidebar": "Contents",
   "toc_cell": true,
   "toc_position": {},
   "toc_section_display": true,
   "toc_window_display": false
  }
 },
 "nbformat": 4,
 "nbformat_minor": 4
}
