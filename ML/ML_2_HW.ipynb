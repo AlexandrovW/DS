{
 "cells": [
  {
   "cell_type": "markdown",
   "metadata": {
    "toc": true
   },
   "source": [
    "<h1>Table of Contents<span class=\"tocSkip\"></span></h1>\n",
    "<div class=\"toc\"><ul class=\"toc-item\"></ul></div>"
   ]
  },
  {
   "cell_type": "code",
   "execution_count": 35,
   "metadata": {},
   "outputs": [],
   "source": [
    "from sklearn.datasets import load_boston\n",
    "import pandas as pd\n",
    "import numpy as np\n",
    "import warnings\n",
    "warnings.filterwarnings('ignore')"
   ]
  },
  {
   "cell_type": "code",
   "execution_count": 2,
   "metadata": {},
   "outputs": [],
   "source": [
    "RANDOM_STATE = 42"
   ]
  },
  {
   "cell_type": "code",
   "execution_count": 3,
   "metadata": {},
   "outputs": [],
   "source": [
    "dataset = load_boston()\n",
    "X = pd.DataFrame(dataset.data)\n",
    "X.columns = dataset.feature_names\n",
    "y = dataset.target"
   ]
  },
  {
   "cell_type": "markdown",
   "metadata": {},
   "source": [
    "1. Разделите выборку на обучающую и тестовую в отношении 80%/20%"
   ]
  },
  {
   "cell_type": "code",
   "execution_count": 4,
   "metadata": {},
   "outputs": [],
   "source": [
    "from sklearn.model_selection import train_test_split\n",
    "X_train, X_test, y_train, y_test = train_test_split(X, y, test_size=0.2, random_state=42)"
   ]
  },
  {
   "cell_type": "markdown",
   "metadata": {},
   "source": [
    "2. Обучите стандартную регрессию, а также Ridge и  Lasso и параметрами по умолчанию и выведите их R2 на тестовой выборке"
   ]
  },
  {
   "cell_type": "code",
   "execution_count": 5,
   "metadata": {},
   "outputs": [
    {
     "name": "stdout",
     "output_type": "stream",
     "text": [
      "R2 (LinearRegression): 0.669\n",
      "R2 (Ridge): 0.666\n",
      "R2 (Lasso): 0.667\n"
     ]
    }
   ],
   "source": [
    "from sklearn.linear_model import LinearRegression,Ridge,Lasso\n",
    "from sklearn.metrics import r2_score\n",
    "\n",
    "lr = LinearRegression()\n",
    "lr.fit(X_train, y_train)\n",
    "y_pred_lr = lr.predict(X_test)\n",
    "r2_lr = r2_score(y_test, y_pred_lr)\n",
    "\n",
    "rg = Ridge()\n",
    "rg.fit(X_train, y_train)\n",
    "y_pred_rg = rg.predict(X_test)\n",
    "r2_rg = r2_score(y_test, y_pred_rg)\n",
    "\n",
    "ls = Lasso()\n",
    "ls.fit(X_train, y_train)\n",
    "y_pred_ls = ls.predict(X_test)\n",
    "r2_ls = r2_score(y_test, y_pred_ls)\n",
    "\n",
    "print(f\"R2 (LinearRegression): {r2_lr:.3f}\")\n",
    "print(f\"R2 (Ridge): {r2_rg:.3f}\")\n",
    "print(f\"R2 (Lasso): {r2_ls:.3f}\")"
   ]
  },
  {
   "cell_type": "markdown",
   "metadata": {},
   "source": [
    "3. Для Ridge и Lasso подберите коэффициент регуляризации(используйте GridSearchCV, RidgeCV, LassoCV) в пределах от $10^{-5}$ до $10^5$ (по степеням 10). Посчитайте R2 на тестовой выборке по лучшим моделям и сравните с предыдущими результатами. Напишите как изменился результат"
   ]
  },
  {
   "cell_type": "code",
   "execution_count": 6,
   "metadata": {},
   "outputs": [
    {
     "name": "stdout",
     "output_type": "stream",
     "text": [
      "GridSearchCV\n",
      "R2 (Ridge): 0.669\n",
      "R2 (Lasso): 0.669\n"
     ]
    }
   ],
   "source": [
    "from sklearn.model_selection import GridSearchCV\n",
    "alphas = 10**np.linspace(-5,5,11)\n",
    "grid_search_cv_rg = GridSearchCV(Ridge(), [{\"alpha\": alphas}], scoring='r2', cv=5).fit(X_train, y_train)\n",
    "best_rg = grid_search_cv_rg.best_estimator_\n",
    "y_pred_rg = best_rg.predict(X_test)\n",
    "r2_rg = r2_score(y_test, y_pred_rg)\n",
    "\n",
    "grid_search_cv_ls = GridSearchCV(Lasso(), [{\"alpha\": alphas}], scoring='r2', cv=5).fit(X_train, y_train)\n",
    "best_ls = grid_search_cv_ls.best_estimator_\n",
    "y_pred_ls = best_ls.predict(X_test)\n",
    "r2_ls = r2_score(y_test, y_pred_ls)\n",
    "\n",
    "print('GridSearchCV')\n",
    "print(f\"R2 (Ridge): {r2_rg:.3f}\")\n",
    "print(f\"R2 (Lasso): {r2_ls:.3f}\")"
   ]
  },
  {
   "cell_type": "code",
   "execution_count": 7,
   "metadata": {},
   "outputs": [
    {
     "name": "stdout",
     "output_type": "stream",
     "text": [
      "R2 (RidgeCV): 0.669\n",
      "R2 (LassoCV): 0.669\n"
     ]
    }
   ],
   "source": [
    "from sklearn.linear_model import RidgeCV, LassoCV\n",
    "ridge_clf = RidgeCV(alphas=alphas,scoring='r2').fit(X_train, y_train)\n",
    "y_pred_rg = ridge_clf.predict(X_test)\n",
    "r2_rg = r2_score(y_test, y_pred_rg)\n",
    "\n",
    "lasso_clf = LassoCV(alphas=alphas).fit(X_train, y_train)\n",
    "y_pred_ls = lasso_clf.predict(X_test)\n",
    "r2_ls = r2_score(y_test, y_pred_ls)\n",
    "\n",
    "print(f\"R2 (RidgeCV): {r2_rg:.3f}\")\n",
    "print(f\"R2 (LassoCV): {r2_ls:.3f}\")"
   ]
  },
  {
   "cell_type": "code",
   "execution_count": 8,
   "metadata": {},
   "outputs": [],
   "source": [
    "#Результат изменился не значительно"
   ]
  },
  {
   "cell_type": "markdown",
   "metadata": {},
   "source": [
    "4. Проведите масштабирование выборки(используйте Pipeline, StandardScaler, MinMaxScaler), посчитайте R2 и сравните с предыдущими результатами. Напишите как изменился результат"
   ]
  },
  {
   "cell_type": "code",
   "execution_count": 9,
   "metadata": {},
   "outputs": [
    {
     "name": "stdout",
     "output_type": "stream",
     "text": [
      "Ridge\n",
      "R2 (StandardScaler): 0.668\n",
      "R2 (MinMaxScaler): 0.676\n"
     ]
    }
   ],
   "source": [
    "from sklearn.pipeline import Pipeline\n",
    "from sklearn.preprocessing import StandardScaler\n",
    "from sklearn.preprocessing import MinMaxScaler\n",
    "\n",
    "pipeline_SS = Pipeline([\n",
    "    ('scaling', StandardScaler()),\n",
    "    ('regression', Ridge())\n",
    "])\n",
    "\n",
    "pipeline_MMS = Pipeline([\n",
    "    ('scaling', MinMaxScaler()),\n",
    "    ('regression', Ridge())\n",
    "])\n",
    "\n",
    "model1 = pipeline_SS.fit(X_train, y_train)\n",
    "\n",
    "model2 = pipeline_MMS.fit(X_train, y_train)\n",
    "\n",
    "print('Ridge')\n",
    "print(f\"R2 (StandardScaler): {model1.score(X_test,y_test):.3f}\")\n",
    "print(f\"R2 (MinMaxScaler): {model2.score(X_test,y_test):.3f}\")\n",
    "\n",
    "#Результат не много улучшился по MinMaxScale"
   ]
  },
  {
   "cell_type": "code",
   "execution_count": 10,
   "metadata": {},
   "outputs": [
    {
     "name": "stdout",
     "output_type": "stream",
     "text": [
      "Lasso\n",
      "R2 (StandardScaler): 0.624\n",
      "R2 (MinMaxScaler): 0.257\n"
     ]
    }
   ],
   "source": [
    "pipeline_SS = Pipeline([\n",
    "    ('scaling', StandardScaler()),\n",
    "    ('regression', Lasso())\n",
    "])\n",
    "\n",
    "pipeline_MMS = Pipeline([\n",
    "    ('scaling', MinMaxScaler()),\n",
    "    ('regression', Lasso())\n",
    "])\n",
    "\n",
    "model1 = pipeline_SS.fit(X_train, y_train)\n",
    "\n",
    "model2 = pipeline_MMS.fit(X_train, y_train)\n",
    "\n",
    "print('Lasso')\n",
    "print(f\"R2 (StandardScaler): {model1.score(X_test,y_test):.3f}\")\n",
    "print(f\"R2 (MinMaxScaler): {model2.score(X_test,y_test):.3f}\")\n",
    "\n",
    "#Значительно ухудшился результат Lasso MinMaxScaler"
   ]
  },
  {
   "cell_type": "markdown",
   "metadata": {},
   "source": [
    "5. Подберите коэффициент регуляризации для Ridge и Lasso на масштабированных данных, посчитайте R2 и сравните с предыдущими результатами. Напишите как изменился результат"
   ]
  },
  {
   "cell_type": "code",
   "execution_count": 11,
   "metadata": {},
   "outputs": [
    {
     "name": "stdout",
     "output_type": "stream",
     "text": [
      "Best Ridge alpha = 1.00000\n",
      "R2 : 0.676\n"
     ]
    }
   ],
   "source": [
    "pipe = Pipeline(steps=[\n",
    "    ('scaler', 'passthrough'),\n",
    "    ('clf', 'passthrough')\n",
    "])\n",
    "\n",
    "params = [{\n",
    "    'scaler': [StandardScaler(), MinMaxScaler()],\n",
    "    'clf': [Ridge()],\n",
    "    'clf__alpha': alphas\n",
    "}]\n",
    "search = GridSearchCV(pipe, params, scoring='r2', cv=10, n_jobs=-1).fit(X_train, y_train)\n",
    "best_alpha_rid = search.best_params_[\"clf__alpha\"]\n",
    "\n",
    "print(\"Best Ridge alpha = %.5f\" % best_alpha_rid)\n",
    "print(f\"R2 : {search.score(X_test,y_test):.3f}\")"
   ]
  },
  {
   "cell_type": "code",
   "execution_count": 12,
   "metadata": {},
   "outputs": [
    {
     "name": "stdout",
     "output_type": "stream",
     "text": [
      "Best Lasso alpha = 0.01000\n",
      "R2 : 0.668\n"
     ]
    }
   ],
   "source": [
    "pipe = Pipeline(steps=[\n",
    "    ('scaler', 'passthrough'),\n",
    "    ('clf', 'passthrough')\n",
    "])\n",
    "\n",
    "params = [{\n",
    "    'scaler': [StandardScaler(), MinMaxScaler()],\n",
    "    'clf': [Lasso()],\n",
    "    'clf__alpha': alphas\n",
    "}]\n",
    "search = GridSearchCV(pipe, params, scoring='r2', cv=10, n_jobs=-1).fit(X_train, y_train)\n",
    "best_alpha_ls = search.best_params_[\"clf__alpha\"]\n",
    "\n",
    "print(\"Best Lasso alpha = %.5f\" % best_alpha_ls)\n",
    "print(f\"R2 : {search.score(X_test,y_test):.3f}\")\n",
    "\n",
    "#Рез-тат Lasso улучшился "
   ]
  },
  {
   "cell_type": "markdown",
   "metadata": {},
   "source": [
    "6. Добавьте попарные произведения признаков и их квадраты (используйте PolynomialFeatures) на масштабированных признаках, посчитайте R2 и сравните с предыдущими результатами. Напишите как изменился результат"
   ]
  },
  {
   "cell_type": "code",
   "execution_count": 13,
   "metadata": {},
   "outputs": [
    {
     "name": "stdout",
     "output_type": "stream",
     "text": [
      "Ridge\n",
      "R2 (StandardScaler): 0.848\n",
      "R2 (MinMaxScaler): 0.803\n"
     ]
    }
   ],
   "source": [
    "from sklearn.preprocessing import PolynomialFeatures\n",
    "\n",
    "poly = PolynomialFeatures(degree=2, interaction_only=True)\n",
    "\n",
    "pipeline_SS = Pipeline([\n",
    "    ('scaling', StandardScaler()),\n",
    "    ('poly', poly),\n",
    "    ('regression', Ridge())\n",
    "])\n",
    "\n",
    "pipeline_MMS = Pipeline([\n",
    "    ('scaling', MinMaxScaler()),\n",
    "    ('poly', poly),\n",
    "    ('regression', Ridge())\n",
    "\n",
    "])\n",
    "\n",
    "\n",
    "model1 = pipeline_SS.fit(X_train, y_train)\n",
    "\n",
    "model2 = pipeline_MMS.fit(X_train, y_train)\n",
    "\n",
    "print('Ridge')\n",
    "print(f\"R2 (StandardScaler): {model1.score(X_test,y_test):.3f}\")\n",
    "print(f\"R2 (MinMaxScaler): {model2.score(X_test,y_test):.3f}\")\n",
    "#Результат значительно улучшился"
   ]
  },
  {
   "cell_type": "code",
   "execution_count": 14,
   "metadata": {},
   "outputs": [
    {
     "name": "stdout",
     "output_type": "stream",
     "text": [
      "Lasso\n",
      "R2 (StandardScaler): 0.736\n",
      "R2 (MinMaxScaler): 0.269\n"
     ]
    }
   ],
   "source": [
    "pipeline_SS = Pipeline([\n",
    "    ('scaling', StandardScaler()),\n",
    "    ('poly', poly),\n",
    "    ('regression', Lasso())\n",
    "])\n",
    "\n",
    "pipeline_MMS = Pipeline([\n",
    "    ('scaling', MinMaxScaler()),\n",
    "    ('poly', poly),\n",
    "    ('regression', Lasso())\n",
    "\n",
    "])\n",
    "\n",
    "\n",
    "model1 = pipeline_SS.fit(X_train, y_train)\n",
    "\n",
    "model2 = pipeline_MMS.fit(X_train, y_train)\n",
    "\n",
    "print('Lasso')\n",
    "print(f\"R2 (StandardScaler): {model1.score(X_test,y_test):.3f}\")\n",
    "print(f\"R2 (MinMaxScaler): {model2.score(X_test,y_test):.3f}\")\n",
    "#Результат значительно улучшился"
   ]
  },
  {
   "cell_type": "markdown",
   "metadata": {},
   "source": [
    "7. Подберите наилучшую модель (используйте Pipeline, GridSearchSCV) подбирая тип регуляризации (L1,L2), коэффициент регуляризации, метод масштабирования и степень полинома в PolynomialFeatures. Выведите итоговые параметры и результат R2. Напишите как изменился R2 по сравнению с предыдущими экспериментами"
   ]
  },
  {
   "cell_type": "code",
   "execution_count": 15,
   "metadata": {},
   "outputs": [
    {
     "name": "stdout",
     "output_type": "stream",
     "text": [
      "best model - Ridge(alpha=0.01)\n",
      "score - 0.8682246607667993\n",
      "scaler - MinMaxScaler()\n",
      "poly - PolynomialFeatures(degree=3, interaction_only=True)\n",
      "Wall time: 1min 55s\n"
     ]
    }
   ],
   "source": [
    "%%time\n",
    "\n",
    "pipe = Pipeline(steps=[\n",
    "    ('scaler', 'passthrough'),\n",
    "    ('poly', 'passthrough'),\n",
    "    ('clf', 'passthrough')\n",
    "])\n",
    "\n",
    "params = [{\n",
    "    'scaler': [None, StandardScaler(), MinMaxScaler()],\n",
    "    'poly': [None, PolynomialFeatures(degree=2,interaction_only=True),PolynomialFeatures(degree=3,interaction_only=True),PolynomialFeatures(degree=2,interaction_only=False),PolynomialFeatures(degree=3,interaction_only=False)],\n",
    "    'clf': [Ridge(), Lasso()],\n",
    "    'clf__alpha': alphas\n",
    "}]\n",
    "\n",
    "search = GridSearchCV(pipe, params, scoring='r2', cv=10, n_jobs=-1).fit(X_train, y_train)\n",
    "\n",
    "\n",
    "print(f'best model - {search.best_params_[\"clf\"]}\\n'\\\n",
    "      f'score - {search.score(X_test, y_test)}\\n'\\\n",
    "      f'scaler - {search.best_params_[\"scaler\"]}\\n'\\\n",
    "      f'poly - {search.best_params_[\"poly\"]}')\n",
    "\n",
    "#Лучший результат"
   ]
  },
  {
   "cell_type": "markdown",
   "metadata": {},
   "source": [
    "http://archive.ics.uci.edu/ml/datasets/Adult"
   ]
  },
  {
   "cell_type": "code",
   "execution_count": 53,
   "metadata": {},
   "outputs": [],
   "source": [
    "link = 'https://raw.githubusercontent.com/jbrownlee/Datasets/master/adult-all.csv'\n",
    "data = pd.read_csv(link, header=None)"
   ]
  },
  {
   "cell_type": "code",
   "execution_count": 54,
   "metadata": {},
   "outputs": [
    {
     "data": {
      "text/html": [
       "<div>\n",
       "<style scoped>\n",
       "    .dataframe tbody tr th:only-of-type {\n",
       "        vertical-align: middle;\n",
       "    }\n",
       "\n",
       "    .dataframe tbody tr th {\n",
       "        vertical-align: top;\n",
       "    }\n",
       "\n",
       "    .dataframe thead th {\n",
       "        text-align: right;\n",
       "    }\n",
       "</style>\n",
       "<table border=\"1\" class=\"dataframe\">\n",
       "  <thead>\n",
       "    <tr style=\"text-align: right;\">\n",
       "      <th></th>\n",
       "      <th>0</th>\n",
       "      <th>1</th>\n",
       "      <th>2</th>\n",
       "      <th>3</th>\n",
       "      <th>4</th>\n",
       "      <th>5</th>\n",
       "      <th>6</th>\n",
       "      <th>7</th>\n",
       "      <th>8</th>\n",
       "      <th>9</th>\n",
       "      <th>10</th>\n",
       "      <th>11</th>\n",
       "      <th>12</th>\n",
       "      <th>13</th>\n",
       "      <th>14</th>\n",
       "    </tr>\n",
       "  </thead>\n",
       "  <tbody>\n",
       "    <tr>\n",
       "      <th>0</th>\n",
       "      <td>39</td>\n",
       "      <td>State-gov</td>\n",
       "      <td>77516</td>\n",
       "      <td>Bachelors</td>\n",
       "      <td>13</td>\n",
       "      <td>Never-married</td>\n",
       "      <td>Adm-clerical</td>\n",
       "      <td>Not-in-family</td>\n",
       "      <td>White</td>\n",
       "      <td>Male</td>\n",
       "      <td>2174</td>\n",
       "      <td>0</td>\n",
       "      <td>40</td>\n",
       "      <td>United-States</td>\n",
       "      <td>&lt;=50K</td>\n",
       "    </tr>\n",
       "    <tr>\n",
       "      <th>1</th>\n",
       "      <td>50</td>\n",
       "      <td>Self-emp-not-inc</td>\n",
       "      <td>83311</td>\n",
       "      <td>Bachelors</td>\n",
       "      <td>13</td>\n",
       "      <td>Married-civ-spouse</td>\n",
       "      <td>Exec-managerial</td>\n",
       "      <td>Husband</td>\n",
       "      <td>White</td>\n",
       "      <td>Male</td>\n",
       "      <td>0</td>\n",
       "      <td>0</td>\n",
       "      <td>13</td>\n",
       "      <td>United-States</td>\n",
       "      <td>&lt;=50K</td>\n",
       "    </tr>\n",
       "    <tr>\n",
       "      <th>2</th>\n",
       "      <td>38</td>\n",
       "      <td>Private</td>\n",
       "      <td>215646</td>\n",
       "      <td>HS-grad</td>\n",
       "      <td>9</td>\n",
       "      <td>Divorced</td>\n",
       "      <td>Handlers-cleaners</td>\n",
       "      <td>Not-in-family</td>\n",
       "      <td>White</td>\n",
       "      <td>Male</td>\n",
       "      <td>0</td>\n",
       "      <td>0</td>\n",
       "      <td>40</td>\n",
       "      <td>United-States</td>\n",
       "      <td>&lt;=50K</td>\n",
       "    </tr>\n",
       "    <tr>\n",
       "      <th>3</th>\n",
       "      <td>53</td>\n",
       "      <td>Private</td>\n",
       "      <td>234721</td>\n",
       "      <td>11th</td>\n",
       "      <td>7</td>\n",
       "      <td>Married-civ-spouse</td>\n",
       "      <td>Handlers-cleaners</td>\n",
       "      <td>Husband</td>\n",
       "      <td>Black</td>\n",
       "      <td>Male</td>\n",
       "      <td>0</td>\n",
       "      <td>0</td>\n",
       "      <td>40</td>\n",
       "      <td>United-States</td>\n",
       "      <td>&lt;=50K</td>\n",
       "    </tr>\n",
       "    <tr>\n",
       "      <th>4</th>\n",
       "      <td>28</td>\n",
       "      <td>Private</td>\n",
       "      <td>338409</td>\n",
       "      <td>Bachelors</td>\n",
       "      <td>13</td>\n",
       "      <td>Married-civ-spouse</td>\n",
       "      <td>Prof-specialty</td>\n",
       "      <td>Wife</td>\n",
       "      <td>Black</td>\n",
       "      <td>Female</td>\n",
       "      <td>0</td>\n",
       "      <td>0</td>\n",
       "      <td>40</td>\n",
       "      <td>Cuba</td>\n",
       "      <td>&lt;=50K</td>\n",
       "    </tr>\n",
       "  </tbody>\n",
       "</table>\n",
       "</div>"
      ],
      "text/plain": [
       "   0                 1       2          3   4                   5   \\\n",
       "0  39         State-gov   77516  Bachelors  13       Never-married   \n",
       "1  50  Self-emp-not-inc   83311  Bachelors  13  Married-civ-spouse   \n",
       "2  38           Private  215646    HS-grad   9            Divorced   \n",
       "3  53           Private  234721       11th   7  Married-civ-spouse   \n",
       "4  28           Private  338409  Bachelors  13  Married-civ-spouse   \n",
       "\n",
       "                  6              7      8       9     10  11  12  \\\n",
       "0       Adm-clerical  Not-in-family  White    Male  2174   0  40   \n",
       "1    Exec-managerial        Husband  White    Male     0   0  13   \n",
       "2  Handlers-cleaners  Not-in-family  White    Male     0   0  40   \n",
       "3  Handlers-cleaners        Husband  Black    Male     0   0  40   \n",
       "4     Prof-specialty           Wife  Black  Female     0   0  40   \n",
       "\n",
       "              13     14  \n",
       "0  United-States  <=50K  \n",
       "1  United-States  <=50K  \n",
       "2  United-States  <=50K  \n",
       "3  United-States  <=50K  \n",
       "4           Cuba  <=50K  "
      ]
     },
     "execution_count": 54,
     "metadata": {},
     "output_type": "execute_result"
    }
   ],
   "source": [
    "data.head()"
   ]
  },
  {
   "cell_type": "markdown",
   "metadata": {},
   "source": [
    "8. Разделите выборку на признаки и целевую переменную(колонка со зачениями {<=50K,>50K}). Замените целевую переменную на числовые значения."
   ]
  },
  {
   "cell_type": "code",
   "execution_count": 55,
   "metadata": {},
   "outputs": [],
   "source": [
    "df = data.copy()\n",
    "df.iloc[:,14] = df.iloc[:,14].replace(['<=50K','>50K'],[0,1])"
   ]
  },
  {
   "cell_type": "code",
   "execution_count": 56,
   "metadata": {},
   "outputs": [],
   "source": [
    "X = df.iloc[:,:-1]\n",
    "y = df.iloc[:,-1]"
   ]
  },
  {
   "cell_type": "markdown",
   "metadata": {},
   "source": [
    "9. Выясните, присутствуют ли в данных пропуски. Заполните их самыми частыми значениями (испольуйте SimpleImputer)"
   ]
  },
  {
   "cell_type": "code",
   "execution_count": 20,
   "metadata": {},
   "outputs": [
    {
     "data": {
      "text/plain": [
       "0     0\n",
       "1     0\n",
       "2     0\n",
       "3     0\n",
       "4     0\n",
       "5     0\n",
       "6     0\n",
       "7     0\n",
       "8     0\n",
       "9     0\n",
       "10    0\n",
       "11    0\n",
       "12    0\n",
       "13    0\n",
       "14    0\n",
       "dtype: int64"
      ]
     },
     "execution_count": 20,
     "metadata": {},
     "output_type": "execute_result"
    }
   ],
   "source": [
    "df.isnull().sum()\n",
    "#Пропусков нет"
   ]
  },
  {
   "cell_type": "markdown",
   "metadata": {},
   "source": [
    "10. Выберите колонки с числовыми и категориальными переменными."
   ]
  },
  {
   "cell_type": "code",
   "execution_count": 22,
   "metadata": {},
   "outputs": [],
   "source": [
    "cols = X.columns\n",
    "\n",
    "X_num_cols = X._get_numeric_data().columns\n",
    "X_cat_cols = list(set(cols) - set(X_num_cols))"
   ]
  },
  {
   "cell_type": "code",
   "execution_count": 23,
   "metadata": {},
   "outputs": [],
   "source": [
    "X_num_cols = X_num_cols.to_list()"
   ]
  },
  {
   "cell_type": "code",
   "execution_count": 24,
   "metadata": {},
   "outputs": [
    {
     "data": {
      "text/plain": [
       "[1, 3, 5, 6, 7, 8, 9, 13]"
      ]
     },
     "execution_count": 24,
     "metadata": {},
     "output_type": "execute_result"
    }
   ],
   "source": [
    "X_cat_cols"
   ]
  },
  {
   "cell_type": "code",
   "execution_count": 25,
   "metadata": {},
   "outputs": [
    {
     "data": {
      "text/plain": [
       "[0, 2, 4, 10, 11, 12]"
      ]
     },
     "execution_count": 25,
     "metadata": {},
     "output_type": "execute_result"
    }
   ],
   "source": [
    "X_num_cols"
   ]
  },
  {
   "cell_type": "markdown",
   "metadata": {},
   "source": [
    "11. Создайте пайплайн по обработке колонок(используйте OneHotEncoder,MinMaxScaler)."
   ]
  },
  {
   "cell_type": "code",
   "execution_count": 26,
   "metadata": {},
   "outputs": [],
   "source": [
    "from sklearn.preprocessing import OneHotEncoder, MinMaxScaler\n",
    "from sklearn.compose import ColumnTransformer\n",
    "from sklearn.linear_model import LogisticRegression\n",
    "from sklearn.metrics import accuracy_score\n",
    "from sklearn.metrics import f1_score"
   ]
  },
  {
   "cell_type": "code",
   "execution_count": 39,
   "metadata": {},
   "outputs": [],
   "source": [
    "categorical_transformer = OneHotEncoder(handle_unknown=\"ignore\")\n",
    "\n",
    "numeric_transformer = MinMaxScaler()\n",
    "\n",
    "preprocessor = ColumnTransformer(\n",
    "    transformers=[\n",
    "        (\"num\", numeric_transformer, X_num_cols),\n",
    "        (\"cat\", categorical_transformer, X_cat_cols),\n",
    "    ]\n",
    ")\n",
    "\n",
    "clf = Pipeline(\n",
    "    steps=[(\"preprocessor\", preprocessor), (\"classifier\", LogisticRegression())]\n",
    ")"
   ]
  },
  {
   "cell_type": "markdown",
   "metadata": {},
   "source": [
    "12. Посчитайте метрики accuracy и f1_score на предсказании только самого частого класса в целевой переменной."
   ]
  },
  {
   "cell_type": "code",
   "execution_count": 84,
   "metadata": {},
   "outputs": [
    {
     "data": {
      "text/plain": [
       "0    34014\n",
       "1    11208\n",
       "Name: 14, dtype: int64"
      ]
     },
     "execution_count": 84,
     "metadata": {},
     "output_type": "execute_result"
    }
   ],
   "source": [
    "y.value_counts()"
   ]
  },
  {
   "cell_type": "code",
   "execution_count": 90,
   "metadata": {},
   "outputs": [
    {
     "name": "stdout",
     "output_type": "stream",
     "text": [
      "Constant prediction\n",
      "Accuracy: 0.7521560302507629\n",
      "F1-score: 0.0\n"
     ]
    }
   ],
   "source": [
    "print('Constant prediction')\n",
    "print(f'Accuracy: {accuracy_score(y, np.array([0 for _ in range(len(y))]))}')\n",
    "print(f'F1-score: {f1_score(y, np.array([0 for _ in range(len(y))]))}')"
   ]
  },
  {
   "cell_type": "markdown",
   "metadata": {},
   "source": [
    "13. Посчитайте cross_val_score по алгоритмам LogisticRegression, SVC, LinearSVC по метрикам accuracy и f1_score.\n",
    "Напишите удалось ли превзойти предыдущий результат."
   ]
  },
  {
   "cell_type": "code",
   "execution_count": 45,
   "metadata": {},
   "outputs": [
    {
     "name": "stdout",
     "output_type": "stream",
     "text": [
      "LogisticRegression\n",
      "accuracy 0.8511323258508231\n",
      "f1 0.6564158702328787\n",
      "\n",
      "-----------------------------------------\n",
      "\n",
      "LinearSVC\n",
      "accuracy 0.8529135478362626\n",
      "f1 0.6578163598233313\n",
      "\n",
      "-----------------------------------------\n",
      "\n",
      "SVC\n",
      "accuracy 0.8399739469040318\n",
      "f1 0.6200828429738441\n"
     ]
    }
   ],
   "source": [
    "from sklearn.model_selection import cross_val_score\n",
    "from sklearn.svm import SVC, LinearSVC\n",
    "\n",
    "clf_lg = Pipeline(\n",
    "    steps=[(\"preprocessor\", preprocessor), (\"classifier\", LogisticRegression())]\n",
    ")\n",
    "\n",
    "print('LogisticRegression')\n",
    "print('accuracy', cross_val_score(clf_lg, X, y, cv=5, scoring = 'accuracy').mean())\n",
    "print('f1', cross_val_score(clf_lg, X, y, cv=5, scoring = 'f1').mean())\n",
    "\n",
    "\n",
    "\n",
    "print()\n",
    "print('-----------------------------------------')\n",
    "print()\n",
    "\n",
    "clf_lsvc = Pipeline(\n",
    "    steps=[(\"preprocessor\", preprocessor), (\"classifier\", LinearSVC())]\n",
    ")\n",
    "print('LinearSVC')\n",
    "print('accuracy', cross_val_score(clf_lsvc, X, y, cv=5, scoring = 'accuracy').mean())\n",
    "print('f1', cross_val_score(clf_lsvc, X, y, cv=5, scoring = 'f1').mean())\n",
    "\n",
    "print()\n",
    "print('-----------------------------------------')\n",
    "print()\n",
    "\n",
    "clf_svc = Pipeline(\n",
    "    steps=[(\"preprocessor\", preprocessor), (\"classifier\", SVC())]\n",
    ")\n",
    "print('SVC')\n",
    "print('accuracy', cross_val_score(clf_svc, X, y, cv=5, scoring = 'accuracy').mean())\n",
    "print('f1', cross_val_score(clf_svc, X, y, cv=5, scoring = 'f1').mean())\n"
   ]
  },
  {
   "cell_type": "markdown",
   "metadata": {},
   "source": [
    "14. Можно заметить что в данных присутствуют значения '?', замените их самыми частыми значениями (испольуйте SimpleImputer)"
   ]
  },
  {
   "cell_type": "code",
   "execution_count": 28,
   "metadata": {},
   "outputs": [
    {
     "data": {
      "text/plain": [
       "0        0\n",
       "1     2799\n",
       "2        0\n",
       "3        0\n",
       "4        0\n",
       "5        0\n",
       "6     2809\n",
       "7        0\n",
       "8        0\n",
       "9        0\n",
       "10       0\n",
       "11       0\n",
       "12       0\n",
       "13     857\n",
       "dtype: int64"
      ]
     },
     "execution_count": 28,
     "metadata": {},
     "output_type": "execute_result"
    }
   ],
   "source": [
    "(X == '?').sum()"
   ]
  },
  {
   "cell_type": "code",
   "execution_count": 29,
   "metadata": {},
   "outputs": [
    {
     "data": {
      "text/plain": [
       "0     0\n",
       "1     0\n",
       "2     0\n",
       "3     0\n",
       "4     0\n",
       "5     0\n",
       "6     0\n",
       "7     0\n",
       "8     0\n",
       "9     0\n",
       "10    0\n",
       "11    0\n",
       "12    0\n",
       "13    0\n",
       "dtype: int64"
      ]
     },
     "execution_count": 29,
     "metadata": {},
     "output_type": "execute_result"
    }
   ],
   "source": [
    "from sklearn.impute import SimpleImputer\n",
    "data_columns = X.columns\n",
    "imputer = SimpleImputer(missing_values='?', strategy='most_frequent')\n",
    "new_data = pd.DataFrame(imputer.fit_transform(X), columns=data_columns)\n",
    "(new_data== '?').sum()"
   ]
  },
  {
   "cell_type": "markdown",
   "metadata": {},
   "source": [
    "15. Посчитайте cross_val_score на новых данных. Напишите удалось ли улучшить результат."
   ]
  },
  {
   "cell_type": "code",
   "execution_count": 46,
   "metadata": {},
   "outputs": [
    {
     "name": "stdout",
     "output_type": "stream",
     "text": [
      "LogisticRegression\n",
      "accuracy 0.8505794751469846\n",
      "f1 0.6539287793928741\n",
      "\n",
      "-----------------------------------------\n",
      "\n",
      "LinearSVC\n",
      "accuracy 0.8508251523375897\n",
      "f1 0.650945261381221\n",
      "\n",
      "-----------------------------------------\n",
      "\n",
      "SVC\n",
      "accuracy 0.8395848963639935\n",
      "f1 0.6169178164345149\n"
     ]
    }
   ],
   "source": [
    "clf_lg = Pipeline(\n",
    "    steps=[(\"preprocessor\", preprocessor), (\"classifier\", LogisticRegression())]\n",
    ")\n",
    "\n",
    "print('LogisticRegression')\n",
    "print('accuracy', cross_val_score(clf_lg, new_data, y, cv=5, scoring = 'accuracy').mean())\n",
    "print('f1', cross_val_score(clf_lg, new_data, y, cv=5, scoring = 'f1').mean())\n",
    "\n",
    "\n",
    "\n",
    "print()\n",
    "print('-----------------------------------------')\n",
    "print()\n",
    "\n",
    "clf_lsvc = Pipeline(\n",
    "    steps=[(\"preprocessor\", preprocessor), (\"classifier\", LinearSVC())]\n",
    ")\n",
    "print('LinearSVC')\n",
    "print('accuracy', cross_val_score(clf_lsvc, new_data, y, cv=5, scoring = 'accuracy').mean())\n",
    "print('f1', cross_val_score(clf_lsvc, new_data, y, cv=5, scoring = 'f1').mean())\n",
    "\n",
    "print()\n",
    "print('-----------------------------------------')\n",
    "print()\n",
    "\n",
    "clf_svc = Pipeline(\n",
    "    steps=[(\"preprocessor\", preprocessor), (\"classifier\", SVC())]\n",
    ")\n",
    "print('SVC')\n",
    "print('accuracy', cross_val_score(clf_svc, new_data, y, cv=5, scoring = 'accuracy').mean())\n",
    "print('f1', cross_val_score(clf_svc, new_data, y, cv=5, scoring = 'f1').mean())\n",
    "\n",
    "# Результат стал незначительно хуже на тысячные доли"
   ]
  },
  {
   "cell_type": "markdown",
   "metadata": {},
   "source": [
    "16. Посчитайте cross_val_score, если просто удалить значения '?'. Напишите как изменился результат"
   ]
  },
  {
   "cell_type": "code",
   "execution_count": 57,
   "metadata": {},
   "outputs": [],
   "source": [
    "df_clear = df.replace('?', np.nan).dropna()"
   ]
  },
  {
   "cell_type": "code",
   "execution_count": 58,
   "metadata": {},
   "outputs": [
    {
     "name": "stdout",
     "output_type": "stream",
     "text": [
      "LogisticRegression\n",
      "accuracy 0.8468445746108516\n",
      "f1 0.6601244618889603\n",
      "\n",
      "-----------------------------------------\n",
      "\n",
      "LinearSVC\n",
      "accuracy 0.8485030154158197\n",
      "f1 0.6616132960278641\n",
      "\n",
      "-----------------------------------------\n",
      "\n",
      "SVC\n",
      "accuracy 0.8356995943179577\n",
      "f1 0.6267120053492474\n"
     ]
    }
   ],
   "source": [
    "X = df_clear.iloc[:,:-1]\n",
    "y = df_clear.iloc[:,-1]\n",
    "\n",
    "clf_lg = Pipeline(\n",
    "    steps=[(\"preprocessor\", preprocessor), (\"classifier\", LogisticRegression())]\n",
    ")\n",
    "\n",
    "print('LogisticRegression')\n",
    "print('accuracy', cross_val_score(clf_lg, X, y, cv=5, scoring = 'accuracy').mean())\n",
    "print('f1', cross_val_score(clf_lg, X, y, cv=5, scoring = 'f1').mean())\n",
    "\n",
    "\n",
    "\n",
    "print()\n",
    "print('-----------------------------------------')\n",
    "print()\n",
    "\n",
    "clf_lsvc = Pipeline(\n",
    "    steps=[(\"preprocessor\", preprocessor), (\"classifier\", LinearSVC())]\n",
    ")\n",
    "print('LinearSVC')\n",
    "print('accuracy', cross_val_score(clf_lsvc, X, y, cv=5, scoring = 'accuracy').mean())\n",
    "print('f1', cross_val_score(clf_lsvc, X, y, cv=5, scoring = 'f1').mean())\n",
    "\n",
    "print()\n",
    "print('-----------------------------------------')\n",
    "print()\n",
    "\n",
    "clf_svc = Pipeline(\n",
    "    steps=[(\"preprocessor\", preprocessor), (\"classifier\", SVC())]\n",
    ")\n",
    "print('SVC')\n",
    "print('accuracy', cross_val_score(clf_svc, X, y, cv=5, scoring = 'accuracy').mean())\n",
    "print('f1', cross_val_score(clf_svc, X, y, cv=5, scoring = 'f1').mean())\n",
    "\n",
    "#Результат ухудшился на сотые доли"
   ]
  },
  {
   "cell_type": "markdown",
   "metadata": {},
   "source": [
    " 17. Посчитайте cross_val_score для RandomForestClassifier,GradientBoostingClassifier. Напишите как изменился результат и какой вывод можно из этого сделать."
   ]
  },
  {
   "cell_type": "code",
   "execution_count": 60,
   "metadata": {},
   "outputs": [
    {
     "name": "stdout",
     "output_type": "stream",
     "text": [
      "GradientBoostingClassifier\n",
      "accuracy 0.8629208373582479\n",
      "f1 0.6869948630650294\n",
      "\n",
      "-----------------------------------------\n",
      "\n",
      "RandomForestClassifier\n",
      "accuracy 0.8486356413910594\n",
      "f1 0.6704805561583802\n"
     ]
    }
   ],
   "source": [
    "from sklearn.ensemble import RandomForestClassifier, GradientBoostingClassifier\n",
    "\n",
    "clf_svc = Pipeline(\n",
    "    steps=[(\"preprocessor\", preprocessor), (\"classifier\", GradientBoostingClassifier())]\n",
    ")\n",
    "print('GradientBoostingClassifier')\n",
    "print('accuracy', cross_val_score(clf_svc, X, y, cv=5, scoring = 'accuracy').mean())\n",
    "print('f1', cross_val_score(clf_svc, X, y, cv=5, scoring = 'f1').mean())\n",
    "\n",
    "print()\n",
    "print('-----------------------------------------')\n",
    "print()\n",
    "\n",
    "clf_svc = Pipeline(\n",
    "    steps=[(\"preprocessor\", preprocessor), (\"classifier\", RandomForestClassifier())]\n",
    ")\n",
    "print('RandomForestClassifier')\n",
    "print('accuracy', cross_val_score(clf_svc, X, y, cv=5, scoring = 'accuracy').mean())\n",
    "print('f1', cross_val_score(clf_svc, X, y, cv=5, scoring = 'f1').mean())\n",
    "\n",
    "# Результат GradientBoostingClassifier превзошел все алгоритмы, но работает дольше."
   ]
  },
  {
   "cell_type": "markdown",
   "metadata": {},
   "source": [
    "18. Подберите наилучшую модель, подбирая методы обработки колонок - масштабирование признаков, кодирование признаков и заполнение пропусков. Параметры алгоритмов оставьте по умолчанию. Выведите итоговые параметры и результат accuracy и f1_score."
   ]
  },
  {
   "cell_type": "code",
   "execution_count": 65,
   "metadata": {},
   "outputs": [
    {
     "name": "stdout",
     "output_type": "stream",
     "text": [
      "{'clf': RandomForestClassifier(), 'prepare_columns': ColumnTransformer(transformers=[('scale', MinMaxScaler(),\n",
      "                                 [0, 2, 4, 10, 11, 12]),\n",
      "                                ('onehot', OneHotEncoder(),\n",
      "                                 [1, 3, 5, 6, 7, 8, 9, 13])])}\n"
     ]
    }
   ],
   "source": [
    "ct_1 = ColumnTransformer([\n",
    "    ('scale',  MinMaxScaler(), X_num_cols),\n",
    "    ('onehot', OneHotEncoder(),  X_cat_cols)\n",
    "])\n",
    "\n",
    "ct_2 = ColumnTransformer([\n",
    "    ('scale',  StandardScaler(), X_num_cols),\n",
    "    ('onehot', OneHotEncoder(),  X_cat_cols)\n",
    "])\n",
    "\n",
    "pipe = Pipeline(steps=[\n",
    "    ('fill_missing', SimpleImputer(missing_values='?', strategy='most_frequent')),\n",
    "    ('prepare_columns', 'passthrough'),\n",
    "    ('clf', 'passthrough')]\n",
    ")\n",
    "\n",
    "params = [\n",
    "    {\n",
    "        'prepare_columns': [ct_1, ct_2],\n",
    "        'clf': [\n",
    "            RandomForestClassifier(),\n",
    "            GradientBoostingClassifier(),\n",
    "            LogisticRegression(),\n",
    "            LinearSVC()\n",
    "        ]\n",
    "    }\n",
    "]\n",
    "\n",
    "search = GridSearchCV(pipe, params, scoring=['accuracy', 'f1'], refit='f1', n_jobs=-1)\n",
    "search.fit(X, y)\n",
    "print(search.best_params_)"
   ]
  },
  {
   "cell_type": "code",
   "execution_count": 89,
   "metadata": {},
   "outputs": [
    {
     "name": "stdout",
     "output_type": "stream",
     "text": [
      "F1-score: 0.8476421916414293\n",
      "Accuracy: 0.668513115684649\n"
     ]
    }
   ],
   "source": [
    "f1_scores = np.array([search.cv_results_[f'split{i}_test_f1'][0] for i in range(5)])\n",
    "accuracy_scores = np.array([search.cv_results_[f'split{i}_test_accuracy'][0] for i in range(5)])\n",
    "print(f\"F1-score: {np.mean(accuracy_scores[~np.isnan(accuracy_scores)])}\")\n",
    "print(f\"Accuracy: {np.mean(f1_scores[~np.isnan(f1_scores)])}\")"
   ]
  }
 ],
 "metadata": {
  "kernelspec": {
   "display_name": "Python 3",
   "language": "python",
   "name": "python3"
  },
  "language_info": {
   "codemirror_mode": {
    "name": "ipython",
    "version": 3
   },
   "file_extension": ".py",
   "mimetype": "text/x-python",
   "name": "python",
   "nbconvert_exporter": "python",
   "pygments_lexer": "ipython3",
   "version": "3.7.6"
  },
  "toc": {
   "base_numbering": 1,
   "nav_menu": {},
   "number_sections": true,
   "sideBar": true,
   "skip_h1_title": false,
   "title_cell": "Table of Contents",
   "title_sidebar": "Contents",
   "toc_cell": true,
   "toc_position": {},
   "toc_section_display": true,
   "toc_window_display": false
  }
 },
 "nbformat": 4,
 "nbformat_minor": 2
}
